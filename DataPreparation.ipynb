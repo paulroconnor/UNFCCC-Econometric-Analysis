{
 "cells": [
  {
   "cell_type": "markdown",
   "metadata": {},
   "source": [
    "# Econometric UNFCCC Green Cities Commitment Analysis: USA\n",
    "## Data Preparation"
   ]
  },
  {
   "cell_type": "markdown",
   "metadata": {},
   "source": [
    "#### Importing and Cleaning Datasets\n",
    "Data includes the following:\n",
    "1. Full list of US City, County and State data\n",
    "2. UNFCCC data on cities' commitments, actions, etc\n",
    "3. 2020 Election results by state\n",
    "4. Land Temperature data\n",
    "5. US Bureau of Labor Statistics State Unemployment Rate\n",
    "6. Poverty Estimates for U.S., States, and Counties, 2021\n",
    "7. Number of Natural Disasters by State since 1953"
   ]
  },
  {
   "cell_type": "code",
   "execution_count": 1,
   "metadata": {},
   "outputs": [],
   "source": [
    "import pandas as pd\n",
    "import numpy as np"
   ]
  },
  {
   "cell_type": "markdown",
   "metadata": {},
   "source": [
    "##### 1. US Cities, Counties and State Data\n",
    "simplemaps.com. US Cities Database | Simplemaps.com. [online] Available at: https://simplemaps.com/data/us-cities."
   ]
  },
  {
   "cell_type": "code",
   "execution_count": 28,
   "metadata": {},
   "outputs": [],
   "source": [
    "Cities = pd.read_csv('AllUSCities.csv')"
   ]
  },
  {
   "cell_type": "code",
   "execution_count": 38,
   "metadata": {},
   "outputs": [],
   "source": [
    "Cities = Cities[Cities['population'] >= 1000]"
   ]
  },
  {
   "cell_type": "code",
   "execution_count": 40,
   "metadata": {},
   "outputs": [
    {
     "data": {
      "text/html": [
       "<div>\n",
       "<style scoped>\n",
       "    .dataframe tbody tr th:only-of-type {\n",
       "        vertical-align: middle;\n",
       "    }\n",
       "\n",
       "    .dataframe tbody tr th {\n",
       "        vertical-align: top;\n",
       "    }\n",
       "\n",
       "    .dataframe thead th {\n",
       "        text-align: right;\n",
       "    }\n",
       "</style>\n",
       "<table border=\"1\" class=\"dataframe\">\n",
       "  <thead>\n",
       "    <tr style=\"text-align: right;\">\n",
       "      <th></th>\n",
       "      <th>id</th>\n",
       "      <th>city</th>\n",
       "      <th>state</th>\n",
       "      <th>state_name</th>\n",
       "      <th>fips</th>\n",
       "      <th>county</th>\n",
       "      <th>latitude</th>\n",
       "      <th>longitude</th>\n",
       "      <th>population</th>\n",
       "    </tr>\n",
       "  </thead>\n",
       "  <tbody>\n",
       "    <tr>\n",
       "      <th>0</th>\n",
       "      <td>1840034016</td>\n",
       "      <td>New York City</td>\n",
       "      <td>NY</td>\n",
       "      <td>New York</td>\n",
       "      <td>36081</td>\n",
       "      <td>Queens</td>\n",
       "      <td>40.6943</td>\n",
       "      <td>-73.9249</td>\n",
       "      <td>18908608</td>\n",
       "    </tr>\n",
       "    <tr>\n",
       "      <th>1</th>\n",
       "      <td>1840020491</td>\n",
       "      <td>Los Angeles</td>\n",
       "      <td>CA</td>\n",
       "      <td>California</td>\n",
       "      <td>6037</td>\n",
       "      <td>Los Angeles</td>\n",
       "      <td>34.1141</td>\n",
       "      <td>-118.4068</td>\n",
       "      <td>11922389</td>\n",
       "    </tr>\n",
       "    <tr>\n",
       "      <th>2</th>\n",
       "      <td>1840000494</td>\n",
       "      <td>Chicago</td>\n",
       "      <td>IL</td>\n",
       "      <td>Illinois</td>\n",
       "      <td>17031</td>\n",
       "      <td>Cook</td>\n",
       "      <td>41.8375</td>\n",
       "      <td>-87.6866</td>\n",
       "      <td>8497759</td>\n",
       "    </tr>\n",
       "    <tr>\n",
       "      <th>3</th>\n",
       "      <td>1840015149</td>\n",
       "      <td>Miami</td>\n",
       "      <td>FL</td>\n",
       "      <td>Florida</td>\n",
       "      <td>12086</td>\n",
       "      <td>Miami-Dade</td>\n",
       "      <td>25.7840</td>\n",
       "      <td>-80.2101</td>\n",
       "      <td>6080145</td>\n",
       "    </tr>\n",
       "    <tr>\n",
       "      <th>4</th>\n",
       "      <td>1840020925</td>\n",
       "      <td>Houston</td>\n",
       "      <td>TX</td>\n",
       "      <td>Texas</td>\n",
       "      <td>48201</td>\n",
       "      <td>Harris</td>\n",
       "      <td>29.7860</td>\n",
       "      <td>-95.3885</td>\n",
       "      <td>5970127</td>\n",
       "    </tr>\n",
       "  </tbody>\n",
       "</table>\n",
       "</div>"
      ],
      "text/plain": [
       "           id           city state  state_name   fips       county  latitude  \\\n",
       "0  1840034016  New York City    NY    New York  36081       Queens   40.6943   \n",
       "1  1840020491    Los Angeles    CA  California   6037  Los Angeles   34.1141   \n",
       "2  1840000494        Chicago    IL    Illinois  17031         Cook   41.8375   \n",
       "3  1840015149          Miami    FL     Florida  12086   Miami-Dade   25.7840   \n",
       "4  1840020925        Houston    TX       Texas  48201       Harris   29.7860   \n",
       "\n",
       "   longitude  population  \n",
       "0   -73.9249    18908608  \n",
       "1  -118.4068    11922389  \n",
       "2   -87.6866     8497759  \n",
       "3   -80.2101     6080145  \n",
       "4   -95.3885     5970127  "
      ]
     },
     "execution_count": 40,
     "metadata": {},
     "output_type": "execute_result"
    }
   ],
   "source": [
    "Cities.head()"
   ]
  },
  {
   "cell_type": "markdown",
   "metadata": {},
   "source": [
    "##### 2. UNFCCC Data\n",
    "Global Climate Action UNFCCC - Actor Tracking (2022). Available at: https://climateaction.unfccc.int/Actors."
   ]
  },
  {
   "cell_type": "code",
   "execution_count": 31,
   "metadata": {},
   "outputs": [],
   "source": [
    "UNFCCC = pd.read_csv('UNFCCC.csv')"
   ]
  },
  {
   "cell_type": "code",
   "execution_count": 32,
   "metadata": {},
   "outputs": [],
   "source": [
    "UNFCCC = UNFCCC[(UNFCCC['country'] == 'United States of America') & (UNFCCC['organizationType'] == 'City') & (UNFCCC['actorProperties_population'] >= 1000)]  # Filter for cities in the US with populations over 1000 \n",
    "UNFCCC['Date'] = pd.to_datetime(UNFCCC['Date'], format = '%d/%m/%Y')  # format date as datetime object\n",
    "UNFCCC = UNFCCC.sort_values(by = 'Date', ascending = False)\n",
    "UNFCCC = UNFCCC.drop_duplicates(subset = 'publicId', keep = 'first')  # keep only most recent observation of a city\n",
    "UNFCCC.reset_index(inplace = True)  # Reset index\n",
    "UNFCCC.drop(['index','Date','id','accountingYear','organizationType'], axis = 1, inplace = True)  # drop unneeded columns"
   ]
  },
  {
   "cell_type": "code",
   "execution_count": 33,
   "metadata": {},
   "outputs": [],
   "source": [
    "# Generate City and State Columns from OrganisationName\n",
    "UNFCCC['city'] = UNFCCC['organizationName'].apply(lambda x: x.split(',')[0].strip())\n",
    "UNFCCC['state'] = UNFCCC['organizationName'].apply(lambda x: x.split(',')[1].strip() if len(x.split(',')) == 2 else np.NaN)   \n",
    "\n",
    "# Clean City names for better joining\n",
    "strings_to_remove = ['City of', 'City Of', 'Town of', 'Town Of', 'Township Of', 'City and County of', 'Borough Of', 'Village of', '(Town)']\n",
    "for string in strings_to_remove:\n",
    "    UNFCCC['city'] = UNFCCC['city'].str.replace(string, '', regex = False)\n",
    "\n",
    "UNFCCC['city'] = UNFCCC['city'].apply(lambda x: x.strip())\n",
    "\n",
    "UNFCCC = UNFCCC[['city','state','hasCommitments','hasActionsUndertaken',\n",
    "                'hasEmissionInventory','hasInitiativeParticipations','hasImpact','hasMitigations',\n",
    "                'hasAdaptations','hasRiskAssessments','hasClimateActionPlans','hasFinanceActions']]"
   ]
  },
  {
   "cell_type": "markdown",
   "metadata": {},
   "source": [
    "Remove the following irregular / nonconforming observations:\n",
    "1. Metropolitan Council, Twin Cities: covers bistate area and Minneapolis is already included\n",
    "2. Chicago Metropolitan Mayors Caucus:  Chicago is already included\n",
    "3. Metropolitan Washington Council of Governments (COG):  covers bistate area and District of Columbia is already included\n",
    "4. Mid-America Regional Council:  covers bistate area and Kansas City is already included\n",
    "5. San Francisco/Bay Area Air Quality Management District:  San Francisco is already included"
   ]
  },
  {
   "cell_type": "code",
   "execution_count": 34,
   "metadata": {},
   "outputs": [],
   "source": [
    "cities_to_remove = ['Metropolitan Council', 'Chicago Metropolitan Mayors Caucus', 'Metropolitan Washington Council of Governments (COG)', 'Mid-America Regional Council', 'San Francisco/Bay Area Air Quality Management District’S']\n",
    "UNFCCC = UNFCCC[~UNFCCC['city'].isin(cities_to_remove)]"
   ]
  },
  {
   "cell_type": "markdown",
   "metadata": {},
   "source": [
    "Make the following alterations to irregular / nonconforming observations:\n",
    "1. Metropolitan Government of Nashville and Davidson County, TN: rename to Nashville\n",
    "2. Durham: add North Carolina as state"
   ]
  },
  {
   "cell_type": "code",
   "execution_count": 35,
   "metadata": {},
   "outputs": [],
   "source": [
    "UNFCCC.loc[UNFCCC['city'] == 'Metropolitan Government of Nashville and Davidson County', 'city'] = 'Nashville'\n",
    "UNFCCC.loc[UNFCCC['city'] == 'Durham', 'state'] = 'NC'"
   ]
  },
  {
   "cell_type": "code",
   "execution_count": 36,
   "metadata": {},
   "outputs": [
    {
     "data": {
      "text/html": [
       "<div>\n",
       "<style scoped>\n",
       "    .dataframe tbody tr th:only-of-type {\n",
       "        vertical-align: middle;\n",
       "    }\n",
       "\n",
       "    .dataframe tbody tr th {\n",
       "        vertical-align: top;\n",
       "    }\n",
       "\n",
       "    .dataframe thead th {\n",
       "        text-align: right;\n",
       "    }\n",
       "</style>\n",
       "<table border=\"1\" class=\"dataframe\">\n",
       "  <thead>\n",
       "    <tr style=\"text-align: right;\">\n",
       "      <th></th>\n",
       "      <th>city</th>\n",
       "      <th>state</th>\n",
       "      <th>hasCommitments</th>\n",
       "      <th>hasActionsUndertaken</th>\n",
       "      <th>hasEmissionInventory</th>\n",
       "      <th>hasInitiativeParticipations</th>\n",
       "      <th>hasImpact</th>\n",
       "      <th>hasMitigations</th>\n",
       "      <th>hasAdaptations</th>\n",
       "      <th>hasRiskAssessments</th>\n",
       "      <th>hasClimateActionPlans</th>\n",
       "      <th>hasFinanceActions</th>\n",
       "    </tr>\n",
       "  </thead>\n",
       "  <tbody>\n",
       "    <tr>\n",
       "      <th>0</th>\n",
       "      <td>Park Forest</td>\n",
       "      <td>IL</td>\n",
       "      <td>True</td>\n",
       "      <td>True</td>\n",
       "      <td>False</td>\n",
       "      <td>False</td>\n",
       "      <td>False</td>\n",
       "      <td>True</td>\n",
       "      <td>True</td>\n",
       "      <td>True</td>\n",
       "      <td>True</td>\n",
       "      <td>False</td>\n",
       "    </tr>\n",
       "    <tr>\n",
       "      <th>1</th>\n",
       "      <td>Emeryville</td>\n",
       "      <td>CA</td>\n",
       "      <td>True</td>\n",
       "      <td>True</td>\n",
       "      <td>True</td>\n",
       "      <td>True</td>\n",
       "      <td>False</td>\n",
       "      <td>True</td>\n",
       "      <td>True</td>\n",
       "      <td>True</td>\n",
       "      <td>True</td>\n",
       "      <td>False</td>\n",
       "    </tr>\n",
       "    <tr>\n",
       "      <th>2</th>\n",
       "      <td>Grand Rapids</td>\n",
       "      <td>MI</td>\n",
       "      <td>True</td>\n",
       "      <td>True</td>\n",
       "      <td>False</td>\n",
       "      <td>True</td>\n",
       "      <td>False</td>\n",
       "      <td>True</td>\n",
       "      <td>True</td>\n",
       "      <td>True</td>\n",
       "      <td>False</td>\n",
       "      <td>False</td>\n",
       "    </tr>\n",
       "    <tr>\n",
       "      <th>3</th>\n",
       "      <td>Fremont</td>\n",
       "      <td>CA</td>\n",
       "      <td>True</td>\n",
       "      <td>True</td>\n",
       "      <td>True</td>\n",
       "      <td>True</td>\n",
       "      <td>False</td>\n",
       "      <td>True</td>\n",
       "      <td>True</td>\n",
       "      <td>True</td>\n",
       "      <td>True</td>\n",
       "      <td>False</td>\n",
       "    </tr>\n",
       "    <tr>\n",
       "      <th>4</th>\n",
       "      <td>Fort Worth</td>\n",
       "      <td>TX</td>\n",
       "      <td>False</td>\n",
       "      <td>True</td>\n",
       "      <td>False</td>\n",
       "      <td>False</td>\n",
       "      <td>False</td>\n",
       "      <td>False</td>\n",
       "      <td>True</td>\n",
       "      <td>False</td>\n",
       "      <td>False</td>\n",
       "      <td>False</td>\n",
       "    </tr>\n",
       "  </tbody>\n",
       "</table>\n",
       "</div>"
      ],
      "text/plain": [
       "           city state  hasCommitments  hasActionsUndertaken  \\\n",
       "0   Park Forest    IL            True                  True   \n",
       "1    Emeryville    CA            True                  True   \n",
       "2  Grand Rapids    MI            True                  True   \n",
       "3       Fremont    CA            True                  True   \n",
       "4    Fort Worth    TX           False                  True   \n",
       "\n",
       "   hasEmissionInventory  hasInitiativeParticipations  hasImpact  \\\n",
       "0                 False                        False      False   \n",
       "1                  True                         True      False   \n",
       "2                 False                         True      False   \n",
       "3                  True                         True      False   \n",
       "4                 False                        False      False   \n",
       "\n",
       "   hasMitigations  hasAdaptations  hasRiskAssessments  hasClimateActionPlans  \\\n",
       "0            True            True                True                   True   \n",
       "1            True            True                True                   True   \n",
       "2            True            True                True                  False   \n",
       "3            True            True                True                   True   \n",
       "4           False            True               False                  False   \n",
       "\n",
       "   hasFinanceActions  \n",
       "0              False  \n",
       "1              False  \n",
       "2              False  \n",
       "3              False  \n",
       "4              False  "
      ]
     },
     "execution_count": 36,
     "metadata": {},
     "output_type": "execute_result"
    }
   ],
   "source": [
    "UNFCCC.head()"
   ]
  },
  {
   "cell_type": "markdown",
   "metadata": {},
   "source": [
    "##### 3. 2020 Election Results by State\n",
    "Wikipedia Contributors (2019). 2020 United States presidential election. [online] Wikipedia. Available at: https://en.wikipedia.org/wiki/2020_United_States_presidential_election."
   ]
  },
  {
   "cell_type": "code",
   "execution_count": 55,
   "metadata": {},
   "outputs": [],
   "source": [
    "ElectionbyState = pd.read_csv('ElectionbyState.csv')"
   ]
  },
  {
   "cell_type": "code",
   "execution_count": 56,
   "metadata": {},
   "outputs": [],
   "source": [
    "RedBlue = lambda row: False if row['Biden/Harris_Democratic_EV'] > row['Trump/Pence_Republican_EV'] else True  # Assign blue for a state if it had more democratic electoral college votes\n",
    "ElectionbyState['redState'] = ElectionbyState.apply(RedBlue, axis = 1)\n",
    "ElectionbyState = ElectionbyState[['state_abb','redState']]\n",
    "ElectionbyState.rename(columns = {'state_abb':'state'}, inplace = True)"
   ]
  },
  {
   "cell_type": "code",
   "execution_count": 57,
   "metadata": {},
   "outputs": [
    {
     "data": {
      "text/html": [
       "<div>\n",
       "<style scoped>\n",
       "    .dataframe tbody tr th:only-of-type {\n",
       "        vertical-align: middle;\n",
       "    }\n",
       "\n",
       "    .dataframe tbody tr th {\n",
       "        vertical-align: top;\n",
       "    }\n",
       "\n",
       "    .dataframe thead th {\n",
       "        text-align: right;\n",
       "    }\n",
       "</style>\n",
       "<table border=\"1\" class=\"dataframe\">\n",
       "  <thead>\n",
       "    <tr style=\"text-align: right;\">\n",
       "      <th></th>\n",
       "      <th>state</th>\n",
       "      <th>redState</th>\n",
       "    </tr>\n",
       "  </thead>\n",
       "  <tbody>\n",
       "    <tr>\n",
       "      <th>0</th>\n",
       "      <td>AL</td>\n",
       "      <td>True</td>\n",
       "    </tr>\n",
       "    <tr>\n",
       "      <th>1</th>\n",
       "      <td>AK</td>\n",
       "      <td>True</td>\n",
       "    </tr>\n",
       "    <tr>\n",
       "      <th>2</th>\n",
       "      <td>AZ</td>\n",
       "      <td>False</td>\n",
       "    </tr>\n",
       "    <tr>\n",
       "      <th>3</th>\n",
       "      <td>AR</td>\n",
       "      <td>True</td>\n",
       "    </tr>\n",
       "    <tr>\n",
       "      <th>4</th>\n",
       "      <td>CA</td>\n",
       "      <td>False</td>\n",
       "    </tr>\n",
       "  </tbody>\n",
       "</table>\n",
       "</div>"
      ],
      "text/plain": [
       "  state  redState\n",
       "0    AL      True\n",
       "1    AK      True\n",
       "2    AZ     False\n",
       "3    AR      True\n",
       "4    CA     False"
      ]
     },
     "execution_count": 57,
     "metadata": {},
     "output_type": "execute_result"
    }
   ],
   "source": [
    "ElectionbyState.head()"
   ]
  },
  {
   "cell_type": "markdown",
   "metadata": {},
   "source": [
    "##### 4. Land Temperatures from 1828 to 2013\n",
    "www.kaggle.com. (Berkeley Earth). Climate Change: Earth Surface Temperature Data. [online] Available at: https://www.kaggle.com/datasets/berkeleyearth/climate-change-earth-surface-temperature-data."
   ]
  },
  {
   "cell_type": "code",
   "execution_count": 82,
   "metadata": {},
   "outputs": [],
   "source": [
    "LandTemp = pd.read_csv('GlobalLandTemperatures.csv')"
   ]
  },
  {
   "cell_type": "code",
   "execution_count": 83,
   "metadata": {},
   "outputs": [],
   "source": [
    "LandTemp = LandTemp[LandTemp['Country'] == 'United States']  # filter for USA State Data\n",
    "LandTemp['Date'] = pd.to_datetime(LandTemp['dt'], format = '%Y-%m-%d')  # create datetime column\n",
    "LandTemp['Year'] = LandTemp['Date'].dt.year  # create year column\n",
    "LandTemp['Month'] = LandTemp['Date'].dt.month_name()  # create month column\n",
    "LandTemp = LandTemp[['Year','Month','State','AverageTemperature']]"
   ]
  },
  {
   "cell_type": "code",
   "execution_count": 84,
   "metadata": {},
   "outputs": [],
   "source": [
    "LandTemp = LandTemp[LandTemp['Month'].isin(['January','July'])]  # keep only January and July observations\n",
    "LandTemp = LandTemp.pivot(index = ['Year','State'], columns = 'Month', values = 'AverageTemperature').reset_index()  # Pivot to get widened form\n",
    "LandTemp['janJulyDiff'] = LandTemp['July'] - LandTemp['January']  # calculate July to January temperature difference\n",
    "LandTemp.reset_index(inplace = True)\n",
    "LandTemp.dropna(inplace = True)"
   ]
  },
  {
   "cell_type": "code",
   "execution_count": 104,
   "metadata": {},
   "outputs": [],
   "source": [
    "# large changes in temperature --> https://www.climate.gov/news-features/understanding-climate/climate-change-global-temperature\n",
    "# Indicator: difference in averages of 1940-1960 and 2000-2020\n",
    "LandTemp20002013 = LandTemp[LandTemp['Year'].between(2000,2003)].groupby('State')['janJulyDiff'].mean()  # mean of January July temperature differences 2000-2013\n",
    "LandTemp19401960 = LandTemp[LandTemp['Year'].between(1940,1960)].groupby('State')['janJulyDiff'].mean()  # mean of January July temperature differences 1940-1960\n",
    "\n",
    "tempDiff = LandTemp20002013 - LandTemp19401960\n",
    "tempDiff = pd.DataFrame(tempDiff).reset_index()\n",
    "tempDiff.rename(columns = {'State':'state','janJulyDiff':'tempDiff'}, inplace = True)"
   ]
  },
  {
   "cell_type": "code",
   "execution_count": 105,
   "metadata": {},
   "outputs": [
    {
     "data": {
      "text/html": [
       "<div>\n",
       "<style scoped>\n",
       "    .dataframe tbody tr th:only-of-type {\n",
       "        vertical-align: middle;\n",
       "    }\n",
       "\n",
       "    .dataframe tbody tr th {\n",
       "        vertical-align: top;\n",
       "    }\n",
       "\n",
       "    .dataframe thead th {\n",
       "        text-align: right;\n",
       "    }\n",
       "</style>\n",
       "<table border=\"1\" class=\"dataframe\">\n",
       "  <thead>\n",
       "    <tr style=\"text-align: right;\">\n",
       "      <th></th>\n",
       "      <th>state</th>\n",
       "      <th>tempDiff</th>\n",
       "    </tr>\n",
       "  </thead>\n",
       "  <tbody>\n",
       "    <tr>\n",
       "      <th>0</th>\n",
       "      <td>Alabama</td>\n",
       "      <td>1.679440</td>\n",
       "    </tr>\n",
       "    <tr>\n",
       "      <th>1</th>\n",
       "      <td>Alaska</td>\n",
       "      <td>-3.913524</td>\n",
       "    </tr>\n",
       "    <tr>\n",
       "      <th>2</th>\n",
       "      <td>Arizona</td>\n",
       "      <td>-0.513298</td>\n",
       "    </tr>\n",
       "    <tr>\n",
       "      <th>3</th>\n",
       "      <td>Arkansas</td>\n",
       "      <td>0.912119</td>\n",
       "    </tr>\n",
       "    <tr>\n",
       "      <th>4</th>\n",
       "      <td>California</td>\n",
       "      <td>-0.821321</td>\n",
       "    </tr>\n",
       "  </tbody>\n",
       "</table>\n",
       "</div>"
      ],
      "text/plain": [
       "        state  tempDiff\n",
       "0     Alabama  1.679440\n",
       "1      Alaska -3.913524\n",
       "2     Arizona -0.513298\n",
       "3    Arkansas  0.912119\n",
       "4  California -0.821321"
      ]
     },
     "execution_count": 105,
     "metadata": {},
     "output_type": "execute_result"
    }
   ],
   "source": [
    "tempDiff.head()"
   ]
  },
  {
   "cell_type": "markdown",
   "metadata": {},
   "source": [
    "##### 5. US Bureau of Labor Statistics State Unemployment Rate (February 2024)\n",
    "Bls.gov. (2024). Table 1. Civilian labor force and unemployment by state and selected area, seasonally adjusted. [online] Available at: https://www.bls.gov/news.release/laus.t01.htm."
   ]
  },
  {
   "cell_type": "code",
   "execution_count": 17,
   "metadata": {},
   "outputs": [],
   "source": [
    "Unemp = pd.read_csv('StateEmployment.csv')"
   ]
  },
  {
   "cell_type": "code",
   "execution_count": 18,
   "metadata": {},
   "outputs": [
    {
     "data": {
      "text/html": [
       "<div>\n",
       "<style scoped>\n",
       "    .dataframe tbody tr th:only-of-type {\n",
       "        vertical-align: middle;\n",
       "    }\n",
       "\n",
       "    .dataframe tbody tr th {\n",
       "        vertical-align: top;\n",
       "    }\n",
       "\n",
       "    .dataframe thead th {\n",
       "        text-align: right;\n",
       "    }\n",
       "</style>\n",
       "<table border=\"1\" class=\"dataframe\">\n",
       "  <thead>\n",
       "    <tr style=\"text-align: right;\">\n",
       "      <th></th>\n",
       "      <th>state</th>\n",
       "      <th>unemploymentRate</th>\n",
       "    </tr>\n",
       "  </thead>\n",
       "  <tbody>\n",
       "    <tr>\n",
       "      <th>0</th>\n",
       "      <td>AK</td>\n",
       "      <td>0.047</td>\n",
       "    </tr>\n",
       "    <tr>\n",
       "      <th>1</th>\n",
       "      <td>AL</td>\n",
       "      <td>0.030</td>\n",
       "    </tr>\n",
       "    <tr>\n",
       "      <th>2</th>\n",
       "      <td>AR</td>\n",
       "      <td>0.036</td>\n",
       "    </tr>\n",
       "    <tr>\n",
       "      <th>3</th>\n",
       "      <td>AZ</td>\n",
       "      <td>0.041</td>\n",
       "    </tr>\n",
       "    <tr>\n",
       "      <th>4</th>\n",
       "      <td>CA</td>\n",
       "      <td>0.053</td>\n",
       "    </tr>\n",
       "  </tbody>\n",
       "</table>\n",
       "</div>"
      ],
      "text/plain": [
       "  state  unemploymentRate\n",
       "0    AK             0.047\n",
       "1    AL             0.030\n",
       "2    AR             0.036\n",
       "3    AZ             0.041\n",
       "4    CA             0.053"
      ]
     },
     "execution_count": 18,
     "metadata": {},
     "output_type": "execute_result"
    }
   ],
   "source": [
    "Unemp.head()"
   ]
  },
  {
   "cell_type": "markdown",
   "metadata": {},
   "source": [
    "##### 6. Poverty Estimates for U.S., States, and Counties, 2021\n",
    "U.S. Department of Commerce, Bureau of the Census, Small Area Income and Poverty Estimates (SAIPE) Program"
   ]
  },
  {
   "cell_type": "code",
   "execution_count": 65,
   "metadata": {},
   "outputs": [],
   "source": [
    "Poverty = pd.read_csv('PovertyEstimates.csv')"
   ]
  },
  {
   "cell_type": "code",
   "execution_count": 66,
   "metadata": {},
   "outputs": [],
   "source": [
    "Poverty['povertyProp'] = Poverty['PCTPOVALL_2021'] / 100  # convert to decimal\n",
    "Poverty = Poverty[['fips','povertyProp']]  # option to include: 'county','state',"
   ]
  },
  {
   "cell_type": "code",
   "execution_count": 67,
   "metadata": {},
   "outputs": [
    {
     "data": {
      "text/html": [
       "<div>\n",
       "<style scoped>\n",
       "    .dataframe tbody tr th:only-of-type {\n",
       "        vertical-align: middle;\n",
       "    }\n",
       "\n",
       "    .dataframe tbody tr th {\n",
       "        vertical-align: top;\n",
       "    }\n",
       "\n",
       "    .dataframe thead th {\n",
       "        text-align: right;\n",
       "    }\n",
       "</style>\n",
       "<table border=\"1\" class=\"dataframe\">\n",
       "  <thead>\n",
       "    <tr style=\"text-align: right;\">\n",
       "      <th></th>\n",
       "      <th>fips</th>\n",
       "      <th>povertyProp</th>\n",
       "    </tr>\n",
       "  </thead>\n",
       "  <tbody>\n",
       "    <tr>\n",
       "      <th>0</th>\n",
       "      <td>0</td>\n",
       "      <td>0.128</td>\n",
       "    </tr>\n",
       "    <tr>\n",
       "      <th>1</th>\n",
       "      <td>1000</td>\n",
       "      <td>0.163</td>\n",
       "    </tr>\n",
       "    <tr>\n",
       "      <th>2</th>\n",
       "      <td>1001</td>\n",
       "      <td>0.107</td>\n",
       "    </tr>\n",
       "    <tr>\n",
       "      <th>3</th>\n",
       "      <td>1003</td>\n",
       "      <td>0.108</td>\n",
       "    </tr>\n",
       "    <tr>\n",
       "      <th>4</th>\n",
       "      <td>1005</td>\n",
       "      <td>0.230</td>\n",
       "    </tr>\n",
       "  </tbody>\n",
       "</table>\n",
       "</div>"
      ],
      "text/plain": [
       "   fips  povertyProp\n",
       "0     0        0.128\n",
       "1  1000        0.163\n",
       "2  1001        0.107\n",
       "3  1003        0.108\n",
       "4  1005        0.230"
      ]
     },
     "execution_count": 67,
     "metadata": {},
     "output_type": "execute_result"
    }
   ],
   "source": [
    "Poverty.head()"
   ]
  },
  {
   "cell_type": "markdown",
   "metadata": {},
   "source": [
    "##### 7. Number of Natural Disasters by State since 1953\n",
    "worldpopulationreview.com. Natural Disasters by State [Updated May 2023]. [online] Available at: https://worldpopulationreview.com/state-rankings/natural-disasters-by-state."
   ]
  },
  {
   "cell_type": "code",
   "execution_count": 24,
   "metadata": {},
   "outputs": [],
   "source": [
    "NaturalDisasters = pd.read_csv('NaturalDisasters.csv')"
   ]
  },
  {
   "cell_type": "code",
   "execution_count": 25,
   "metadata": {},
   "outputs": [
    {
     "data": {
      "text/html": [
       "<div>\n",
       "<style scoped>\n",
       "    .dataframe tbody tr th:only-of-type {\n",
       "        vertical-align: middle;\n",
       "    }\n",
       "\n",
       "    .dataframe tbody tr th {\n",
       "        vertical-align: top;\n",
       "    }\n",
       "\n",
       "    .dataframe thead th {\n",
       "        text-align: right;\n",
       "    }\n",
       "</style>\n",
       "<table border=\"1\" class=\"dataframe\">\n",
       "  <thead>\n",
       "    <tr style=\"text-align: right;\">\n",
       "      <th></th>\n",
       "      <th>state</th>\n",
       "      <th>numDisasters</th>\n",
       "    </tr>\n",
       "  </thead>\n",
       "  <tbody>\n",
       "    <tr>\n",
       "      <th>0</th>\n",
       "      <td>AL</td>\n",
       "      <td>82</td>\n",
       "    </tr>\n",
       "    <tr>\n",
       "      <th>1</th>\n",
       "      <td>AK</td>\n",
       "      <td>55</td>\n",
       "    </tr>\n",
       "    <tr>\n",
       "      <th>2</th>\n",
       "      <td>AZ</td>\n",
       "      <td>68</td>\n",
       "    </tr>\n",
       "    <tr>\n",
       "      <th>3</th>\n",
       "      <td>AR</td>\n",
       "      <td>71</td>\n",
       "    </tr>\n",
       "    <tr>\n",
       "      <th>4</th>\n",
       "      <td>CA</td>\n",
       "      <td>284</td>\n",
       "    </tr>\n",
       "  </tbody>\n",
       "</table>\n",
       "</div>"
      ],
      "text/plain": [
       "  state  numDisasters\n",
       "0    AL            82\n",
       "1    AK            55\n",
       "2    AZ            68\n",
       "3    AR            71\n",
       "4    CA           284"
      ]
     },
     "execution_count": 25,
     "metadata": {},
     "output_type": "execute_result"
    }
   ],
   "source": [
    "NaturalDisasters.head()"
   ]
  },
  {
   "cell_type": "markdown",
   "metadata": {},
   "source": [
    "#### Joining Datasets"
   ]
  },
  {
   "cell_type": "code",
   "execution_count": 109,
   "metadata": {},
   "outputs": [],
   "source": [
    "df = pd.merge(Cities, UNFCCC, how = 'left', on = ['state','city'])\n",
    "\n",
    "bool_columns = ['hasCommitments','hasActionsUndertaken','hasEmissionInventory','hasInitiativeParticipations','hasImpact','hasMitigations','hasAdaptations', 'hasRiskAssessments', 'hasClimateActionPlans','hasFinanceActions']\n",
    "df[bool_columns] = df[bool_columns].fillna(False).applymap(pd.to_numeric, errors='coerce').astype(bool)  # assign False to NaNs and ensure type bool"
   ]
  },
  {
   "cell_type": "code",
   "execution_count": 110,
   "metadata": {},
   "outputs": [],
   "source": [
    "df = pd.merge(df, ElectionbyState, on = 'state', how = 'left')\n",
    "df = pd.merge(df, tempDiff, on = 'state', how = 'left')\n",
    "df = pd.merge(df, Unemp, on = 'state', how = 'left')\n",
    "df = pd.merge(df, Poverty, on = 'fips', how = 'left')\n",
    "df = pd.merge(df, NaturalDisasters, on = 'state', how = 'left')\n",
    "\n",
    "df = df[['city','state','county','fips','latitude','longitude','population','redState','unemploymentRate','povertyProp','tempDiff','numDisasters','hasCommitments', 'hasActionsUndertaken',\n",
    "       'hasEmissionInventory', 'hasInitiativeParticipations', 'hasImpact','hasMitigations', 'hasAdaptations', 'hasRiskAssessments','hasClimateActionPlans', 'hasFinanceActions']]"
   ]
  },
  {
   "cell_type": "code",
   "execution_count": 111,
   "metadata": {},
   "outputs": [
    {
     "data": {
      "text/html": [
       "<div>\n",
       "<style scoped>\n",
       "    .dataframe tbody tr th:only-of-type {\n",
       "        vertical-align: middle;\n",
       "    }\n",
       "\n",
       "    .dataframe tbody tr th {\n",
       "        vertical-align: top;\n",
       "    }\n",
       "\n",
       "    .dataframe thead th {\n",
       "        text-align: right;\n",
       "    }\n",
       "</style>\n",
       "<table border=\"1\" class=\"dataframe\">\n",
       "  <thead>\n",
       "    <tr style=\"text-align: right;\">\n",
       "      <th></th>\n",
       "      <th>city</th>\n",
       "      <th>state</th>\n",
       "      <th>county</th>\n",
       "      <th>fips</th>\n",
       "      <th>latitude</th>\n",
       "      <th>longitude</th>\n",
       "      <th>population</th>\n",
       "      <th>redState</th>\n",
       "      <th>unemploymentRate</th>\n",
       "      <th>povertyProp</th>\n",
       "      <th>...</th>\n",
       "      <th>hasCommitments</th>\n",
       "      <th>hasActionsUndertaken</th>\n",
       "      <th>hasEmissionInventory</th>\n",
       "      <th>hasInitiativeParticipations</th>\n",
       "      <th>hasImpact</th>\n",
       "      <th>hasMitigations</th>\n",
       "      <th>hasAdaptations</th>\n",
       "      <th>hasRiskAssessments</th>\n",
       "      <th>hasClimateActionPlans</th>\n",
       "      <th>hasFinanceActions</th>\n",
       "    </tr>\n",
       "  </thead>\n",
       "  <tbody>\n",
       "    <tr>\n",
       "      <th>0</th>\n",
       "      <td>New York City</td>\n",
       "      <td>NY</td>\n",
       "      <td>Queens</td>\n",
       "      <td>36081</td>\n",
       "      <td>40.6943</td>\n",
       "      <td>-73.9249</td>\n",
       "      <td>18908608</td>\n",
       "      <td>False</td>\n",
       "      <td>0.044</td>\n",
       "      <td>0.136</td>\n",
       "      <td>...</td>\n",
       "      <td>True</td>\n",
       "      <td>True</td>\n",
       "      <td>True</td>\n",
       "      <td>True</td>\n",
       "      <td>False</td>\n",
       "      <td>True</td>\n",
       "      <td>True</td>\n",
       "      <td>True</td>\n",
       "      <td>True</td>\n",
       "      <td>False</td>\n",
       "    </tr>\n",
       "    <tr>\n",
       "      <th>1</th>\n",
       "      <td>Los Angeles</td>\n",
       "      <td>CA</td>\n",
       "      <td>Los Angeles</td>\n",
       "      <td>6037</td>\n",
       "      <td>34.1141</td>\n",
       "      <td>-118.4068</td>\n",
       "      <td>11922389</td>\n",
       "      <td>False</td>\n",
       "      <td>0.053</td>\n",
       "      <td>0.141</td>\n",
       "      <td>...</td>\n",
       "      <td>True</td>\n",
       "      <td>True</td>\n",
       "      <td>True</td>\n",
       "      <td>True</td>\n",
       "      <td>False</td>\n",
       "      <td>True</td>\n",
       "      <td>True</td>\n",
       "      <td>True</td>\n",
       "      <td>True</td>\n",
       "      <td>True</td>\n",
       "    </tr>\n",
       "    <tr>\n",
       "      <th>2</th>\n",
       "      <td>Chicago</td>\n",
       "      <td>IL</td>\n",
       "      <td>Cook</td>\n",
       "      <td>17031</td>\n",
       "      <td>41.8375</td>\n",
       "      <td>-87.6866</td>\n",
       "      <td>8497759</td>\n",
       "      <td>False</td>\n",
       "      <td>0.048</td>\n",
       "      <td>0.138</td>\n",
       "      <td>...</td>\n",
       "      <td>True</td>\n",
       "      <td>True</td>\n",
       "      <td>True</td>\n",
       "      <td>True</td>\n",
       "      <td>False</td>\n",
       "      <td>True</td>\n",
       "      <td>True</td>\n",
       "      <td>True</td>\n",
       "      <td>True</td>\n",
       "      <td>True</td>\n",
       "    </tr>\n",
       "    <tr>\n",
       "      <th>3</th>\n",
       "      <td>Miami</td>\n",
       "      <td>FL</td>\n",
       "      <td>Miami-Dade</td>\n",
       "      <td>12086</td>\n",
       "      <td>25.7840</td>\n",
       "      <td>-80.2101</td>\n",
       "      <td>6080145</td>\n",
       "      <td>True</td>\n",
       "      <td>0.031</td>\n",
       "      <td>0.152</td>\n",
       "      <td>...</td>\n",
       "      <td>True</td>\n",
       "      <td>True</td>\n",
       "      <td>True</td>\n",
       "      <td>True</td>\n",
       "      <td>False</td>\n",
       "      <td>True</td>\n",
       "      <td>True</td>\n",
       "      <td>True</td>\n",
       "      <td>True</td>\n",
       "      <td>False</td>\n",
       "    </tr>\n",
       "    <tr>\n",
       "      <th>4</th>\n",
       "      <td>Houston</td>\n",
       "      <td>TX</td>\n",
       "      <td>Harris</td>\n",
       "      <td>48201</td>\n",
       "      <td>29.7860</td>\n",
       "      <td>-95.3885</td>\n",
       "      <td>5970127</td>\n",
       "      <td>True</td>\n",
       "      <td>0.039</td>\n",
       "      <td>0.164</td>\n",
       "      <td>...</td>\n",
       "      <td>True</td>\n",
       "      <td>True</td>\n",
       "      <td>True</td>\n",
       "      <td>True</td>\n",
       "      <td>False</td>\n",
       "      <td>True</td>\n",
       "      <td>True</td>\n",
       "      <td>True</td>\n",
       "      <td>True</td>\n",
       "      <td>False</td>\n",
       "    </tr>\n",
       "  </tbody>\n",
       "</table>\n",
       "<p>5 rows × 22 columns</p>\n",
       "</div>"
      ],
      "text/plain": [
       "            city state       county   fips  latitude  longitude  population  \\\n",
       "0  New York City    NY       Queens  36081   40.6943   -73.9249    18908608   \n",
       "1    Los Angeles    CA  Los Angeles   6037   34.1141  -118.4068    11922389   \n",
       "2        Chicago    IL         Cook  17031   41.8375   -87.6866     8497759   \n",
       "3          Miami    FL   Miami-Dade  12086   25.7840   -80.2101     6080145   \n",
       "4        Houston    TX       Harris  48201   29.7860   -95.3885     5970127   \n",
       "\n",
       "  redState  unemploymentRate  povertyProp  ...  hasCommitments  \\\n",
       "0    False             0.044        0.136  ...            True   \n",
       "1    False             0.053        0.141  ...            True   \n",
       "2    False             0.048        0.138  ...            True   \n",
       "3     True             0.031        0.152  ...            True   \n",
       "4     True             0.039        0.164  ...            True   \n",
       "\n",
       "   hasActionsUndertaken  hasEmissionInventory  hasInitiativeParticipations  \\\n",
       "0                  True                  True                         True   \n",
       "1                  True                  True                         True   \n",
       "2                  True                  True                         True   \n",
       "3                  True                  True                         True   \n",
       "4                  True                  True                         True   \n",
       "\n",
       "   hasImpact  hasMitigations  hasAdaptations  hasRiskAssessments  \\\n",
       "0      False            True            True                True   \n",
       "1      False            True            True                True   \n",
       "2      False            True            True                True   \n",
       "3      False            True            True                True   \n",
       "4      False            True            True                True   \n",
       "\n",
       "   hasClimateActionPlans  hasFinanceActions  \n",
       "0                   True              False  \n",
       "1                   True               True  \n",
       "2                   True               True  \n",
       "3                   True              False  \n",
       "4                   True              False  \n",
       "\n",
       "[5 rows x 22 columns]"
      ]
     },
     "execution_count": 111,
     "metadata": {},
     "output_type": "execute_result"
    }
   ],
   "source": [
    "df.head()"
   ]
  }
 ],
 "metadata": {
  "kernelspec": {
   "display_name": "Python 3",
   "language": "python",
   "name": "python3"
  },
  "language_info": {
   "codemirror_mode": {
    "name": "ipython",
    "version": 3
   },
   "file_extension": ".py",
   "mimetype": "text/x-python",
   "name": "python",
   "nbconvert_exporter": "python",
   "pygments_lexer": "ipython3",
   "version": "3.11.1"
  }
 },
 "nbformat": 4,
 "nbformat_minor": 2
}

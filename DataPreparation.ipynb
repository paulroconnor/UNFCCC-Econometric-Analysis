{
 "cells": [
  {
   "cell_type": "markdown",
   "metadata": {},
   "source": [
    "## Econometric UNFCCC Green Cities Commitment Analysis: USA\n",
    "### Data Preparation"
   ]
  },
  {
   "cell_type": "markdown",
   "metadata": {},
   "source": [
    "Data includes the following:\n",
    "1. UNFCCC data on cities' commitments, actions, etc\n",
    "2. 2020 Election results by state\n",
    "3. Land Temperature data\n",
    "4. US Bureau of Labor Statistics State Unemployment Rate"
   ]
  },
  {
   "cell_type": "code",
   "execution_count": 1,
   "metadata": {},
   "outputs": [],
   "source": [
    "import pandas as pd\n",
    "import numpy as np\n",
    "import re"
   ]
  },
  {
   "cell_type": "markdown",
   "metadata": {},
   "source": [
    "#### 1. UNFCCC Data\n",
    "Global Climate Action UNFCCC - Actor Tracking (2022). Available at: https://climateaction.unfccc.int/Actors."
   ]
  },
  {
   "cell_type": "code",
   "execution_count": 2,
   "metadata": {},
   "outputs": [],
   "source": [
    "UNFCCC = pd.read_csv('UNFCCC.csv')"
   ]
  },
  {
   "cell_type": "code",
   "execution_count": 3,
   "metadata": {},
   "outputs": [],
   "source": [
    "UNFCCC = UNFCCC[(UNFCCC['country'] == 'United States of America') & (UNFCCC['organizationType'] == 'City') & (UNFCCC['actorProperties_population'] >= 1000)]  # Filter for cities in the US with populations over 1000 \n",
    "UNFCCC['Date'] = pd.to_datetime(UNFCCC['Date'], format = '%Y-%m-%d')  # format date as datetime object\n",
    "UNFCCC = UNFCCC.sort_values(by = 'Date', ascending = False)\n",
    "UNFCCC = UNFCCC.drop_duplicates(subset = 'publicId', keep = 'first')  # keep only most recent observation of a city\n",
    "UNFCCC.reset_index(inplace = True)  # Reset index\n",
    "UNFCCC.drop(['index','Date','id','accountingYear','organizationType'], axis = 1, inplace = True)  # drop unneeded columns\n",
    "UNFCCC.rename(columns = {'actorProperties_population':'population'}, inplace = True)"
   ]
  },
  {
   "cell_type": "code",
   "execution_count": 4,
   "metadata": {},
   "outputs": [],
   "source": [
    "# Generate City and State Columns from OrganisationName\n",
    "UNFCCC['city'] = UNFCCC['organizationName'].apply(lambda x: x.split(',')[0].strip())\n",
    "UNFCCC['state'] = UNFCCC['organizationName'].apply(lambda x: x.split(',')[1].strip() if len(x.split(',')) == 2 else np.NaN)   \n",
    "\n",
    "# Clean City names for better joining\n",
    "UNFCCC['city'] = UNFCCC['city'].apply(lambda x: re.sub(r'City of |City Of |Town Of |Township Of |City and County of |Borough Of |(Town)', '', x))\n",
    "\n",
    "UNFCCC = UNFCCC[['city','state','population','hasCommitments','hasActionsUndertaken',\n",
    "                'hasEmissionInventory','hasInitiativeParticipations','hasImpact','hasMitigations',\n",
    "                'hasAdaptations','hasRiskAssessments','hasClimateActionPlans','hasFinanceActions']]"
   ]
  },
  {
   "cell_type": "code",
   "execution_count": 5,
   "metadata": {},
   "outputs": [],
   "source": [
    "# Remove the following irregular / nonconforming observations:\n",
    "    # Metropolitan Council, Twin Cities  --> covers bistate area and Minneapolis is already included\n",
    "    # Chicago Metropolitan Mayors Caucus  --> Chicago is already included\n",
    "    # Metropolitan Washington Council of Governments (COG)  --> covers bistate area and District of Columbia is already included\n",
    "    # Mid-America Regional Council  --> covers bistate area and Kansas City is already included\n",
    "    # San Francisco/Bay Area Air Quality Management District  --> San Francisco is already included\n",
    "\n",
    "cities_to_remove = ['Metropolitan Council', 'Chicago Metropolitan Mayors Caucus', 'Metropolitan Washington Council of Governments (COG)', 'Mid-America Regional Council', 'San Francisco/Bay Area Air Quality Management District’S']\n",
    "UNFCCC = UNFCCC[~UNFCCC['city'].isin(cities_to_remove)]\n",
    "\n",
    "\n",
    "# Make the following alterations to irregular / nonconforming observations:\n",
    "    # Metropolitan Government of Nashville and Davidson County, TN  --> rename to Nashville\n",
    "    # Durham --> add North Carolina as state\n",
    "\n",
    "UNFCCC.loc[UNFCCC['city'] == 'Metropolitan Government of Nashville and Davidson County', 'city'] = 'Nashville'\n",
    "UNFCCC.loc[UNFCCC['city'] == 'Durham', 'state'] = 'NC'"
   ]
  },
  {
   "cell_type": "code",
   "execution_count": 62,
   "metadata": {},
   "outputs": [
    {
     "data": {
      "text/html": [
       "<div>\n",
       "<style scoped>\n",
       "    .dataframe tbody tr th:only-of-type {\n",
       "        vertical-align: middle;\n",
       "    }\n",
       "\n",
       "    .dataframe tbody tr th {\n",
       "        vertical-align: top;\n",
       "    }\n",
       "\n",
       "    .dataframe thead th {\n",
       "        text-align: right;\n",
       "    }\n",
       "</style>\n",
       "<table border=\"1\" class=\"dataframe\">\n",
       "  <thead>\n",
       "    <tr style=\"text-align: right;\">\n",
       "      <th></th>\n",
       "      <th>city</th>\n",
       "      <th>state</th>\n",
       "      <th>population</th>\n",
       "      <th>hasCommitments</th>\n",
       "      <th>hasActionsUndertaken</th>\n",
       "      <th>hasEmissionInventory</th>\n",
       "      <th>hasInitiativeParticipations</th>\n",
       "      <th>hasImpact</th>\n",
       "      <th>hasMitigations</th>\n",
       "      <th>hasAdaptations</th>\n",
       "      <th>hasRiskAssessments</th>\n",
       "      <th>hasClimateActionPlans</th>\n",
       "      <th>hasFinanceActions</th>\n",
       "    </tr>\n",
       "  </thead>\n",
       "  <tbody>\n",
       "    <tr>\n",
       "      <th>0</th>\n",
       "      <td>Village of Park Forest</td>\n",
       "      <td>IL</td>\n",
       "      <td>21261.0</td>\n",
       "      <td>True</td>\n",
       "      <td>True</td>\n",
       "      <td>False</td>\n",
       "      <td>False</td>\n",
       "      <td>False</td>\n",
       "      <td>True</td>\n",
       "      <td>True</td>\n",
       "      <td>True</td>\n",
       "      <td>True</td>\n",
       "      <td>False</td>\n",
       "    </tr>\n",
       "    <tr>\n",
       "      <th>1</th>\n",
       "      <td>Emeryville</td>\n",
       "      <td>CA</td>\n",
       "      <td>12905.0</td>\n",
       "      <td>True</td>\n",
       "      <td>True</td>\n",
       "      <td>True</td>\n",
       "      <td>True</td>\n",
       "      <td>False</td>\n",
       "      <td>True</td>\n",
       "      <td>True</td>\n",
       "      <td>True</td>\n",
       "      <td>True</td>\n",
       "      <td>False</td>\n",
       "    </tr>\n",
       "    <tr>\n",
       "      <th>2</th>\n",
       "      <td>Grand Rapids</td>\n",
       "      <td>MI</td>\n",
       "      <td>199417.0</td>\n",
       "      <td>True</td>\n",
       "      <td>True</td>\n",
       "      <td>False</td>\n",
       "      <td>True</td>\n",
       "      <td>False</td>\n",
       "      <td>True</td>\n",
       "      <td>True</td>\n",
       "      <td>True</td>\n",
       "      <td>False</td>\n",
       "      <td>False</td>\n",
       "    </tr>\n",
       "    <tr>\n",
       "      <th>3</th>\n",
       "      <td>Fremont</td>\n",
       "      <td>CA</td>\n",
       "      <td>230504.0</td>\n",
       "      <td>True</td>\n",
       "      <td>True</td>\n",
       "      <td>True</td>\n",
       "      <td>True</td>\n",
       "      <td>False</td>\n",
       "      <td>True</td>\n",
       "      <td>True</td>\n",
       "      <td>True</td>\n",
       "      <td>True</td>\n",
       "      <td>False</td>\n",
       "    </tr>\n",
       "    <tr>\n",
       "      <th>4</th>\n",
       "      <td>Fort Worth</td>\n",
       "      <td>TX</td>\n",
       "      <td>918915.0</td>\n",
       "      <td>False</td>\n",
       "      <td>True</td>\n",
       "      <td>False</td>\n",
       "      <td>False</td>\n",
       "      <td>False</td>\n",
       "      <td>False</td>\n",
       "      <td>True</td>\n",
       "      <td>False</td>\n",
       "      <td>False</td>\n",
       "      <td>False</td>\n",
       "    </tr>\n",
       "  </tbody>\n",
       "</table>\n",
       "</div>"
      ],
      "text/plain": [
       "                     city state  population  hasCommitments  \\\n",
       "0  Village of Park Forest    IL     21261.0            True   \n",
       "1              Emeryville    CA     12905.0            True   \n",
       "2            Grand Rapids    MI    199417.0            True   \n",
       "3                 Fremont    CA    230504.0            True   \n",
       "4              Fort Worth    TX    918915.0           False   \n",
       "\n",
       "   hasActionsUndertaken  hasEmissionInventory  hasInitiativeParticipations  \\\n",
       "0                  True                 False                        False   \n",
       "1                  True                  True                         True   \n",
       "2                  True                 False                         True   \n",
       "3                  True                  True                         True   \n",
       "4                  True                 False                        False   \n",
       "\n",
       "   hasImpact  hasMitigations  hasAdaptations  hasRiskAssessments  \\\n",
       "0      False            True            True                True   \n",
       "1      False            True            True                True   \n",
       "2      False            True            True                True   \n",
       "3      False            True            True                True   \n",
       "4      False           False            True               False   \n",
       "\n",
       "   hasClimateActionPlans  hasFinanceActions  \n",
       "0                   True              False  \n",
       "1                   True              False  \n",
       "2                  False              False  \n",
       "3                   True              False  \n",
       "4                  False              False  "
      ]
     },
     "execution_count": 62,
     "metadata": {},
     "output_type": "execute_result"
    }
   ],
   "source": [
    "UNFCCC.head()"
   ]
  },
  {
   "cell_type": "markdown",
   "metadata": {},
   "source": [
    "#### 2. 2020 Election Results by State\n",
    "Wikipedia Contributors (2019). 2020 United States presidential election. [online] Wikipedia. Available at: https://en.wikipedia.org/wiki/2020_United_States_presidential_election."
   ]
  },
  {
   "cell_type": "code",
   "execution_count": 7,
   "metadata": {},
   "outputs": [],
   "source": [
    "ElectionbyState = pd.read_csv('ElectionbyState.csv')"
   ]
  },
  {
   "cell_type": "code",
   "execution_count": 8,
   "metadata": {},
   "outputs": [],
   "source": [
    "RedBlue = lambda row: 'blue' if row['Biden/Harris_Democratic_EV'] > row['Trump/Pence_Republican_EV'] else 'red'  # Assign blue for a state if it had more democratic electoral college votes\n",
    "ElectionbyState['redBlueState'] = ElectionbyState.apply(RedBlue, axis = 1)\n",
    "ElectionbyState = ElectionbyState[['state_abb','redBlueState']]\n",
    "ElectionbyState.rename(columns = {'state_abb':'state'}, inplace = True)"
   ]
  },
  {
   "cell_type": "code",
   "execution_count": 9,
   "metadata": {},
   "outputs": [
    {
     "data": {
      "text/html": [
       "<div>\n",
       "<style scoped>\n",
       "    .dataframe tbody tr th:only-of-type {\n",
       "        vertical-align: middle;\n",
       "    }\n",
       "\n",
       "    .dataframe tbody tr th {\n",
       "        vertical-align: top;\n",
       "    }\n",
       "\n",
       "    .dataframe thead th {\n",
       "        text-align: right;\n",
       "    }\n",
       "</style>\n",
       "<table border=\"1\" class=\"dataframe\">\n",
       "  <thead>\n",
       "    <tr style=\"text-align: right;\">\n",
       "      <th></th>\n",
       "      <th>state</th>\n",
       "      <th>redBlueState</th>\n",
       "    </tr>\n",
       "  </thead>\n",
       "  <tbody>\n",
       "    <tr>\n",
       "      <th>0</th>\n",
       "      <td>AL</td>\n",
       "      <td>red</td>\n",
       "    </tr>\n",
       "    <tr>\n",
       "      <th>1</th>\n",
       "      <td>AK</td>\n",
       "      <td>red</td>\n",
       "    </tr>\n",
       "    <tr>\n",
       "      <th>2</th>\n",
       "      <td>AZ</td>\n",
       "      <td>blue</td>\n",
       "    </tr>\n",
       "    <tr>\n",
       "      <th>3</th>\n",
       "      <td>AR</td>\n",
       "      <td>red</td>\n",
       "    </tr>\n",
       "    <tr>\n",
       "      <th>4</th>\n",
       "      <td>CA</td>\n",
       "      <td>blue</td>\n",
       "    </tr>\n",
       "  </tbody>\n",
       "</table>\n",
       "</div>"
      ],
      "text/plain": [
       "  state redBlueState\n",
       "0    AL          red\n",
       "1    AK          red\n",
       "2    AZ         blue\n",
       "3    AR          red\n",
       "4    CA         blue"
      ]
     },
     "execution_count": 9,
     "metadata": {},
     "output_type": "execute_result"
    }
   ],
   "source": [
    "ElectionbyState.head()"
   ]
  },
  {
   "cell_type": "markdown",
   "metadata": {},
   "source": [
    "#### 3. Land Temperatures from 1828 to 2013\n",
    "www.kaggle.com. (Berkeley Earth). Climate Change: Earth Surface Temperature Data. [online] Available at: https://www.kaggle.com/datasets/berkeleyearth/climate-change-earth-surface-temperature-data."
   ]
  },
  {
   "cell_type": "code",
   "execution_count": 45,
   "metadata": {},
   "outputs": [],
   "source": [
    "LandTemp = pd.read_csv('GlobalLandTemperatures.csv')"
   ]
  },
  {
   "cell_type": "code",
   "execution_count": 46,
   "metadata": {},
   "outputs": [],
   "source": [
    "LandTemp = LandTemp[LandTemp['Country'] == 'United States']  # filter for USA State Data\n",
    "LandTemp['Date'] = pd.to_datetime(LandTemp['dt'], format = '%Y-%m-%d')  # create datetime column\n",
    "LandTemp['Year'] = LandTemp['Date'].dt.year # create year column\n",
    "LandTemp['Month'] = LandTemp['Date'].dt.month_name()  # create month column\n",
    "LandTemp = LandTemp[['Year','Month','State','AverageTemperature']]"
   ]
  },
  {
   "cell_type": "code",
   "execution_count": 47,
   "metadata": {},
   "outputs": [],
   "source": [
    "LandTemp = LandTemp[LandTemp['Month'].isin(['January','July'])]  # keep only January and July observations\n",
    "LandTemp = LandTemp.pivot(index = ['Year','State'], columns = 'Month', values = 'AverageTemperature').reset_index()  # Pivot to get widened form\n",
    "LandTemp['JanJulyDiff'] = LandTemp['July'] - LandTemp['January']  # calculate July to January temperature difference"
   ]
  },
  {
   "cell_type": "code",
   "execution_count": 63,
   "metadata": {},
   "outputs": [
    {
     "data": {
      "text/html": [
       "<div>\n",
       "<style scoped>\n",
       "    .dataframe tbody tr th:only-of-type {\n",
       "        vertical-align: middle;\n",
       "    }\n",
       "\n",
       "    .dataframe tbody tr th {\n",
       "        vertical-align: top;\n",
       "    }\n",
       "\n",
       "    .dataframe thead th {\n",
       "        text-align: right;\n",
       "    }\n",
       "</style>\n",
       "<table border=\"1\" class=\"dataframe\">\n",
       "  <thead>\n",
       "    <tr style=\"text-align: right;\">\n",
       "      <th>Month</th>\n",
       "      <th>Year</th>\n",
       "      <th>State</th>\n",
       "      <th>JanJulyDiff</th>\n",
       "    </tr>\n",
       "  </thead>\n",
       "  <tbody>\n",
       "    <tr>\n",
       "      <th>0</th>\n",
       "      <td>1744</td>\n",
       "      <td>Alabama</td>\n",
       "      <td>NaN</td>\n",
       "    </tr>\n",
       "    <tr>\n",
       "      <th>1</th>\n",
       "      <td>1744</td>\n",
       "      <td>Connecticut</td>\n",
       "      <td>NaN</td>\n",
       "    </tr>\n",
       "    <tr>\n",
       "      <th>2</th>\n",
       "      <td>1744</td>\n",
       "      <td>Delaware</td>\n",
       "      <td>NaN</td>\n",
       "    </tr>\n",
       "    <tr>\n",
       "      <th>3</th>\n",
       "      <td>1744</td>\n",
       "      <td>District Of Columbia</td>\n",
       "      <td>NaN</td>\n",
       "    </tr>\n",
       "    <tr>\n",
       "      <th>4</th>\n",
       "      <td>1744</td>\n",
       "      <td>Florida</td>\n",
       "      <td>NaN</td>\n",
       "    </tr>\n",
       "  </tbody>\n",
       "</table>\n",
       "</div>"
      ],
      "text/plain": [
       "Month  Year                 State  JanJulyDiff\n",
       "0      1744               Alabama          NaN\n",
       "1      1744           Connecticut          NaN\n",
       "2      1744              Delaware          NaN\n",
       "3      1744  District Of Columbia          NaN\n",
       "4      1744               Florida          NaN"
      ]
     },
     "execution_count": 63,
     "metadata": {},
     "output_type": "execute_result"
    }
   ],
   "source": [
    "LandTemp[['Year','State','JanJulyDiff']].head()"
   ]
  },
  {
   "cell_type": "markdown",
   "metadata": {},
   "source": [
    "#### 4. US Bureau of Labor Statistics State Unemployment Rate (February 2024)\n",
    "Bls.gov. (2024). Table 1. Civilian labor force and unemployment by state and selected area, seasonally adjusted. [online] Available at: https://www.bls.gov/news.release/laus.t01.htm."
   ]
  },
  {
   "cell_type": "code",
   "execution_count": 59,
   "metadata": {},
   "outputs": [],
   "source": [
    "Unemp = pd.read_csv('StateEmployment.csv')"
   ]
  },
  {
   "cell_type": "code",
   "execution_count": 61,
   "metadata": {},
   "outputs": [
    {
     "data": {
      "text/html": [
       "<div>\n",
       "<style scoped>\n",
       "    .dataframe tbody tr th:only-of-type {\n",
       "        vertical-align: middle;\n",
       "    }\n",
       "\n",
       "    .dataframe tbody tr th {\n",
       "        vertical-align: top;\n",
       "    }\n",
       "\n",
       "    .dataframe thead th {\n",
       "        text-align: right;\n",
       "    }\n",
       "</style>\n",
       "<table border=\"1\" class=\"dataframe\">\n",
       "  <thead>\n",
       "    <tr style=\"text-align: right;\">\n",
       "      <th></th>\n",
       "      <th>state</th>\n",
       "      <th>unemploymentRate</th>\n",
       "    </tr>\n",
       "  </thead>\n",
       "  <tbody>\n",
       "    <tr>\n",
       "      <th>0</th>\n",
       "      <td>AK</td>\n",
       "      <td>4.7</td>\n",
       "    </tr>\n",
       "    <tr>\n",
       "      <th>1</th>\n",
       "      <td>AL</td>\n",
       "      <td>3.0</td>\n",
       "    </tr>\n",
       "    <tr>\n",
       "      <th>2</th>\n",
       "      <td>AR</td>\n",
       "      <td>3.6</td>\n",
       "    </tr>\n",
       "    <tr>\n",
       "      <th>3</th>\n",
       "      <td>AZ</td>\n",
       "      <td>4.1</td>\n",
       "    </tr>\n",
       "    <tr>\n",
       "      <th>4</th>\n",
       "      <td>CA</td>\n",
       "      <td>5.3</td>\n",
       "    </tr>\n",
       "  </tbody>\n",
       "</table>\n",
       "</div>"
      ],
      "text/plain": [
       "  state  unemploymentRate\n",
       "0    AK               4.7\n",
       "1    AL               3.0\n",
       "2    AR               3.6\n",
       "3    AZ               4.1\n",
       "4    CA               5.3"
      ]
     },
     "execution_count": 61,
     "metadata": {},
     "output_type": "execute_result"
    }
   ],
   "source": [
    "Unemp.head()"
   ]
  }
 ],
 "metadata": {
  "kernelspec": {
   "display_name": "Python 3",
   "language": "python",
   "name": "python3"
  },
  "language_info": {
   "codemirror_mode": {
    "name": "ipython",
    "version": 3
   },
   "file_extension": ".py",
   "mimetype": "text/x-python",
   "name": "python",
   "nbconvert_exporter": "python",
   "pygments_lexer": "ipython3",
   "version": "3.11.1"
  }
 },
 "nbformat": 4,
 "nbformat_minor": 2
}

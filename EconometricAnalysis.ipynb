{
 "cells": [
  {
   "cell_type": "markdown",
   "metadata": {},
   "source": [
    "# Econometric UNFCCC Green Cities Commitment Analysis: USA\n",
    "## Econometric Analysis"
   ]
  },
  {
   "cell_type": "code",
   "execution_count": 1,
   "metadata": {},
   "outputs": [],
   "source": [
    "import pandas as pd\n",
    "import numpy as np\n",
    "import statsmodels.api as sm\n",
    "from sklearn.ensemble import RandomForestRegressor"
   ]
  },
  {
   "cell_type": "code",
   "execution_count": 2,
   "metadata": {},
   "outputs": [],
   "source": [
    "df_all = pd.read_csv('allcities.csv')\n",
    "df_unfccc = pd.read_csv('UNFCCC.csv')"
   ]
  },
  {
   "cell_type": "code",
   "execution_count": 3,
   "metadata": {},
   "outputs": [],
   "source": [
    "def BooltoZeroOne(df):\n",
    "    for column in df.columns:\n",
    "        if df[column].dtype == bool:\n",
    "            df[column] = df[column].astype(int)"
   ]
  },
  {
   "cell_type": "code",
   "execution_count": 4,
   "metadata": {},
   "outputs": [],
   "source": [
    "BooltoZeroOne(df_all)\n",
    "BooltoZeroOne(df_unfccc)"
   ]
  },
  {
   "cell_type": "code",
   "execution_count": 5,
   "metadata": {},
   "outputs": [],
   "source": [
    "def FitLogistic(df, y_var, X_vars):\n",
    "    df = df.dropna()\n",
    "    X = df[X_vars]\n",
    "    X = sm.add_constant(X)\n",
    "    y = df[y_var]\n",
    "    model = sm.Logit(y, X).fit(cov_type = 'HC3')\n",
    "    print(model.summary())\n",
    "\n",
    "def FitRandomForest(df, y_var, X_vars):\n",
    "    df = df.dropna()\n",
    "    X = df[X_vars]\n",
    "    y = df[y_var]\n",
    "    rf = RandomForestRegressor()\n",
    "    model = rf.fit(X, y)\n",
    "    return pd.DataFrame({\n",
    "        'Feature':X_vars,\n",
    "        'Importance':model.feature_importances_\n",
    "    }).sort_values(by = 'Importance', ascending = False)"
   ]
  },
  {
   "cell_type": "code",
   "execution_count": 6,
   "metadata": {},
   "outputs": [
    {
     "name": "stdout",
     "output_type": "stream",
     "text": [
      "Optimization terminated successfully.\n",
      "         Current function value: 0.051165\n",
      "         Iterations 10\n",
      "                           Logit Regression Results                           \n",
      "==============================================================================\n",
      "Dep. Variable:                 UNFCCC   No. Observations:                14546\n",
      "Model:                          Logit   Df Residuals:                    14535\n",
      "Method:                           MLE   Df Model:                           10\n",
      "Date:                Sat, 06 Apr 2024   Pseudo R-squ.:                  0.2865\n",
      "Time:                        16:09:13   Log-Likelihood:                -744.24\n",
      "converged:                       True   LL-Null:                       -1043.1\n",
      "Covariance Type:                  HC3   LLR p-value:                5.273e-122\n",
      "==========================================================================================\n",
      "                             coef    std err          z      P>|z|      [0.025      0.975]\n",
      "------------------------------------------------------------------------------------------\n",
      "const                     -2.2981      1.065     -2.157      0.031      -4.386      -0.210\n",
      "population              5.141e-06   1.11e-06      4.612      0.000    2.96e-06    7.33e-06\n",
      "redCounty                 -1.6347      0.265     -6.165      0.000      -2.154      -1.115\n",
      "redState                  -0.5035      0.313     -1.609      0.108      -1.117       0.110\n",
      "unemploymentRate         -37.6075     13.662     -2.753      0.006     -64.385     -10.830\n",
      "povertyProp                7.0573      3.276      2.154      0.031       0.636      13.478\n",
      "tempDiff                   0.0375      0.116      0.323      0.746      -0.190       0.265\n",
      "numDisasters               0.0040      0.001      3.446      0.001       0.002       0.006\n",
      "avgEmissionsPerCapita     -0.0395      0.023     -1.689      0.091      -0.085       0.006\n",
      "lessThanHighSchoolProp   -11.4064      3.133     -3.641      0.000     -17.546      -5.266\n",
      "medianHouseholdIncome  -1.358e-08   6.56e-06     -0.002      0.998   -1.29e-05    1.28e-05\n",
      "==========================================================================================\n"
     ]
    }
   ],
   "source": [
    "FitLogistic(df_all, y_var = 'UNFCCC', X_vars = ['population','redCounty','redState','unemploymentRate','povertyProp','tempDiff','numDisasters','avgEmissionsPerCapita','lessThanHighSchoolProp','medianHouseholdIncome'])"
   ]
  },
  {
   "cell_type": "code",
   "execution_count": 7,
   "metadata": {},
   "outputs": [
    {
     "data": {
      "text/html": [
       "<div>\n",
       "<style scoped>\n",
       "    .dataframe tbody tr th:only-of-type {\n",
       "        vertical-align: middle;\n",
       "    }\n",
       "\n",
       "    .dataframe tbody tr th {\n",
       "        vertical-align: top;\n",
       "    }\n",
       "\n",
       "    .dataframe thead th {\n",
       "        text-align: right;\n",
       "    }\n",
       "</style>\n",
       "<table border=\"1\" class=\"dataframe\">\n",
       "  <thead>\n",
       "    <tr style=\"text-align: right;\">\n",
       "      <th></th>\n",
       "      <th>Feature</th>\n",
       "      <th>Importance</th>\n",
       "    </tr>\n",
       "  </thead>\n",
       "  <tbody>\n",
       "    <tr>\n",
       "      <th>0</th>\n",
       "      <td>population</td>\n",
       "      <td>0.552670</td>\n",
       "    </tr>\n",
       "    <tr>\n",
       "      <th>8</th>\n",
       "      <td>lessThanHighSchoolProp</td>\n",
       "      <td>0.110932</td>\n",
       "    </tr>\n",
       "    <tr>\n",
       "      <th>9</th>\n",
       "      <td>medianHouseholdIncome</td>\n",
       "      <td>0.090781</td>\n",
       "    </tr>\n",
       "    <tr>\n",
       "      <th>4</th>\n",
       "      <td>povertyProp</td>\n",
       "      <td>0.067949</td>\n",
       "    </tr>\n",
       "    <tr>\n",
       "      <th>3</th>\n",
       "      <td>unemploymentRate</td>\n",
       "      <td>0.059093</td>\n",
       "    </tr>\n",
       "    <tr>\n",
       "      <th>7</th>\n",
       "      <td>avgEmissionsPerCapita</td>\n",
       "      <td>0.044048</td>\n",
       "    </tr>\n",
       "    <tr>\n",
       "      <th>5</th>\n",
       "      <td>tempDiff</td>\n",
       "      <td>0.033075</td>\n",
       "    </tr>\n",
       "    <tr>\n",
       "      <th>6</th>\n",
       "      <td>numDisasters</td>\n",
       "      <td>0.025380</td>\n",
       "    </tr>\n",
       "    <tr>\n",
       "      <th>1</th>\n",
       "      <td>redCounty</td>\n",
       "      <td>0.011991</td>\n",
       "    </tr>\n",
       "    <tr>\n",
       "      <th>2</th>\n",
       "      <td>redState</td>\n",
       "      <td>0.004081</td>\n",
       "    </tr>\n",
       "  </tbody>\n",
       "</table>\n",
       "</div>"
      ],
      "text/plain": [
       "                  Feature  Importance\n",
       "0              population    0.552670\n",
       "8  lessThanHighSchoolProp    0.110932\n",
       "9   medianHouseholdIncome    0.090781\n",
       "4             povertyProp    0.067949\n",
       "3        unemploymentRate    0.059093\n",
       "7   avgEmissionsPerCapita    0.044048\n",
       "5                tempDiff    0.033075\n",
       "6            numDisasters    0.025380\n",
       "1               redCounty    0.011991\n",
       "2                redState    0.004081"
      ]
     },
     "execution_count": 7,
     "metadata": {},
     "output_type": "execute_result"
    }
   ],
   "source": [
    "FitRandomForest(df_all, y_var = 'UNFCCC', X_vars = ['population','redCounty','redState','unemploymentRate','povertyProp','tempDiff','numDisasters','avgEmissionsPerCapita','lessThanHighSchoolProp','medianHouseholdIncome'])"
   ]
  }
 ],
 "metadata": {
  "kernelspec": {
   "display_name": "Python 3",
   "language": "python",
   "name": "python3"
  },
  "language_info": {
   "codemirror_mode": {
    "name": "ipython",
    "version": 3
   },
   "file_extension": ".py",
   "mimetype": "text/x-python",
   "name": "python",
   "nbconvert_exporter": "python",
   "pygments_lexer": "ipython3",
   "version": "3.11.1"
  }
 },
 "nbformat": 4,
 "nbformat_minor": 2
}

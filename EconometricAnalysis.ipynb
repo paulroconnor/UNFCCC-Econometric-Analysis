{
 "cells": [
  {
   "cell_type": "markdown",
   "metadata": {},
   "source": [
    "# Econometric UNFCCC Green Cities Commitment Analysis: USA\n",
    "## Econometric Analysis"
   ]
  },
  {
   "cell_type": "code",
   "execution_count": 1,
   "metadata": {},
   "outputs": [],
   "source": [
    "import pandas as pd\n",
    "import numpy as np\n",
    "import statsmodels.api as sm\n",
    "from sklearn.ensemble import RandomForestClassifier"
   ]
  },
  {
   "cell_type": "markdown",
   "metadata": {},
   "source": [
    "### 1. Load and Prepare Data"
   ]
  },
  {
   "cell_type": "code",
   "execution_count": 2,
   "metadata": {},
   "outputs": [],
   "source": [
    "df_all = pd.read_csv('allcities.csv')\n",
    "df_unfccc = pd.read_csv('UNFCCC.csv')"
   ]
  },
  {
   "cell_type": "code",
   "execution_count": 3,
   "metadata": {},
   "outputs": [],
   "source": [
    "def BooltoZeroOne(df):\n",
    "    for column in df.columns:\n",
    "        if df[column].dtype == bool:\n",
    "            df[column] = df[column].astype(int)"
   ]
  },
  {
   "cell_type": "code",
   "execution_count": 4,
   "metadata": {},
   "outputs": [],
   "source": [
    "BooltoZeroOne(df_all)\n",
    "BooltoZeroOne(df_unfccc)"
   ]
  },
  {
   "cell_type": "code",
   "execution_count": 5,
   "metadata": {},
   "outputs": [],
   "source": [
    "independent_variables = ['population','redCounty','unemploymentRate','povertyProp','tempDiff','numDisasters','avgEmissionsPerCapita','lessThanHighSchoolProp','medianHouseholdIncome'] # 'redState' remove to deal with multicolinearity issues"
   ]
  },
  {
   "cell_type": "markdown",
   "metadata": {},
   "source": [
    "### 2. Define Model Fitting Functions"
   ]
  },
  {
   "cell_type": "code",
   "execution_count": 6,
   "metadata": {},
   "outputs": [],
   "source": [
    "def FitLogistic(df, y_var, X_vars, format = 'return', constant = True):\n",
    "    df = df.dropna()\n",
    "\n",
    "    X = df[X_vars]\n",
    "    \n",
    "    if constant:\n",
    "        X = sm.add_constant(X)\n",
    "\n",
    "    y = df[y_var]\n",
    "\n",
    "    model = sm.Logit(y, X).fit(cov_type = 'HC3', disp = False)\n",
    "\n",
    "    if format == 'return':\n",
    "        return model.summary()\n",
    "    elif format == 'print':\n",
    "        print(model.summary())\n",
    "    elif format == 'model':\n",
    "        return model\n",
    "    elif format == 'csv':\n",
    "        print(model.summary())\n",
    "        summary = pd.read_html(model.summary().tables[1].as_html(), header = 0, index_col = 0)[0]\n",
    "        summary.to_csv(f'Results/LR_{y_var}_FM.csv')"
   ]
  },
  {
   "cell_type": "code",
   "execution_count": 7,
   "metadata": {},
   "outputs": [],
   "source": [
    "def FitRandomForest(df, y_var, X_vars, format = 'importance'):\n",
    "    df = df.dropna()\n",
    "\n",
    "    X = df[X_vars]\n",
    "\n",
    "    y = df[y_var]\n",
    "\n",
    "    rf = RandomForestClassifier()\n",
    "    model = rf.fit(X, y)\n",
    "\n",
    "    if format == 'importance':\n",
    "\n",
    "        return pd.DataFrame({\n",
    "            'Feature':X_vars,\n",
    "            'Importance':model.feature_importances_\n",
    "        }).sort_values(by = 'Importance', ascending = False)\n",
    "    \n",
    "    elif format == 'model':\n",
    "        return model"
   ]
  },
  {
   "cell_type": "code",
   "execution_count": 8,
   "metadata": {},
   "outputs": [],
   "source": [
    "def ForwardSelection(df, y_var, vars_to_check, format = 'return'):\n",
    "    best_model = None\n",
    "    best_aic = float('inf')\n",
    "\n",
    "    vars_selected = []\n",
    "    v = vars_to_check.copy()\n",
    "\n",
    "    while v:\n",
    "        potential_vars = []\n",
    "        for var in v:\n",
    "            vars_current = vars_selected + [var]\n",
    "            model = FitLogistic(df, y_var, vars_current, format = 'model')\n",
    "            aic = model.aic\n",
    "            if aic < best_aic:\n",
    "                best_aic = aic\n",
    "                best_model = model\n",
    "                potential_vars = vars_current\n",
    "        \n",
    "        if not potential_vars:\n",
    "            break\n",
    "\n",
    "        var_selected = potential_vars[-1]\n",
    "        vars_selected.append(var_selected)\n",
    "        v.remove(var_selected)\n",
    "\n",
    "    print(' ')\n",
    "    print(f'Best AIC: {best_aic}')\n",
    "    print(' ')\n",
    "    \n",
    "    if format == 'return':\n",
    "        return best_model.summary()\n",
    "    elif format == 'print':\n",
    "        print(best_model.summary())\n",
    "    elif format == 'model':\n",
    "        return best_model\n",
    "    elif format == 'csv':\n",
    "        print(best_model.summary())\n",
    "        summary = pd.read_html(best_model.summary().tables[1].as_html(), header = 0, index_col = 0)[0]\n",
    "        summary.to_csv(f'Results/LR_{y_var}_FS.csv')"
   ]
  },
  {
   "cell_type": "markdown",
   "metadata": {},
   "source": [
    "### 3. Analysing Determinants of Cities to Sign up to the UNFCC"
   ]
  },
  {
   "cell_type": "markdown",
   "metadata": {},
   "source": [
    "##### a) Logistic Regression"
   ]
  },
  {
   "cell_type": "code",
   "execution_count": 9,
   "metadata": {},
   "outputs": [
    {
     "name": "stderr",
     "output_type": "stream",
     "text": [
      "C:\\Users\\paulo\\AppData\\Local\\Temp\\ipykernel_24524\\2056613847.py:6: FutureWarning: The behavior of DataFrame concatenation with empty or all-NA entries is deprecated. In a future version, this will no longer exclude empty or all-NA columns when determining the result dtypes. To retain the old behavior, exclude the relevant entries before the concat operation.\n",
      "  df = pd.concat([df, pd.DataFrame([[independent_variables[i], lr.params.iloc[1], lr.pvalues.iloc[1], lr.aic, lr.bic]], columns =  ['Variable','Coefficient','P-Value','AIC','BIC']).dropna(axis = 1)], ignore_index=True)\n"
     ]
    },
    {
     "data": {
      "text/html": [
       "<div>\n",
       "<style scoped>\n",
       "    .dataframe tbody tr th:only-of-type {\n",
       "        vertical-align: middle;\n",
       "    }\n",
       "\n",
       "    .dataframe tbody tr th {\n",
       "        vertical-align: top;\n",
       "    }\n",
       "\n",
       "    .dataframe thead th {\n",
       "        text-align: right;\n",
       "    }\n",
       "</style>\n",
       "<table border=\"1\" class=\"dataframe\">\n",
       "  <thead>\n",
       "    <tr style=\"text-align: right;\">\n",
       "      <th></th>\n",
       "      <th>Variable</th>\n",
       "      <th>Coefficient</th>\n",
       "      <th>P-Value</th>\n",
       "      <th>AIC</th>\n",
       "      <th>BIC</th>\n",
       "    </tr>\n",
       "  </thead>\n",
       "  <tbody>\n",
       "    <tr>\n",
       "      <th>0</th>\n",
       "      <td>population</td>\n",
       "      <td>0.000005</td>\n",
       "      <td>7.914043e-07</td>\n",
       "      <td>1633.058200</td>\n",
       "      <td>1648.228343</td>\n",
       "    </tr>\n",
       "    <tr>\n",
       "      <th>1</th>\n",
       "      <td>redCounty</td>\n",
       "      <td>-2.241665</td>\n",
       "      <td>1.495721e-19</td>\n",
       "      <td>1948.025817</td>\n",
       "      <td>1963.195959</td>\n",
       "    </tr>\n",
       "    <tr>\n",
       "      <th>2</th>\n",
       "      <td>unemploymentRate</td>\n",
       "      <td>-19.445843</td>\n",
       "      <td>2.839589e-03</td>\n",
       "      <td>2082.614319</td>\n",
       "      <td>2097.784461</td>\n",
       "    </tr>\n",
       "    <tr>\n",
       "      <th>3</th>\n",
       "      <td>povertyProp</td>\n",
       "      <td>-1.460479</td>\n",
       "      <td>2.475538e-01</td>\n",
       "      <td>2089.316769</td>\n",
       "      <td>2104.486912</td>\n",
       "    </tr>\n",
       "    <tr>\n",
       "      <th>4</th>\n",
       "      <td>tempDiff</td>\n",
       "      <td>-0.136376</td>\n",
       "      <td>3.557506e-02</td>\n",
       "      <td>2086.179931</td>\n",
       "      <td>2101.350074</td>\n",
       "    </tr>\n",
       "    <tr>\n",
       "      <th>5</th>\n",
       "      <td>numDisasters</td>\n",
       "      <td>0.002648</td>\n",
       "      <td>1.908950e-03</td>\n",
       "      <td>2080.883574</td>\n",
       "      <td>2096.053717</td>\n",
       "    </tr>\n",
       "    <tr>\n",
       "      <th>6</th>\n",
       "      <td>avgEmissionsPerCapita</td>\n",
       "      <td>-0.081271</td>\n",
       "      <td>2.026106e-06</td>\n",
       "      <td>2046.253409</td>\n",
       "      <td>2061.423552</td>\n",
       "    </tr>\n",
       "    <tr>\n",
       "      <th>7</th>\n",
       "      <td>lessThanHighSchoolProp</td>\n",
       "      <td>-4.100230</td>\n",
       "      <td>7.179528e-03</td>\n",
       "      <td>2083.070827</td>\n",
       "      <td>2098.240970</td>\n",
       "    </tr>\n",
       "    <tr>\n",
       "      <th>8</th>\n",
       "      <td>medianHouseholdIncome</td>\n",
       "      <td>0.000017</td>\n",
       "      <td>3.400496e-11</td>\n",
       "      <td>2063.615413</td>\n",
       "      <td>2078.785556</td>\n",
       "    </tr>\n",
       "  </tbody>\n",
       "</table>\n",
       "</div>"
      ],
      "text/plain": [
       "                 Variable  Coefficient       P-Value          AIC          BIC\n",
       "0              population     0.000005  7.914043e-07  1633.058200  1648.228343\n",
       "1               redCounty    -2.241665  1.495721e-19  1948.025817  1963.195959\n",
       "2        unemploymentRate   -19.445843  2.839589e-03  2082.614319  2097.784461\n",
       "3             povertyProp    -1.460479  2.475538e-01  2089.316769  2104.486912\n",
       "4                tempDiff    -0.136376  3.557506e-02  2086.179931  2101.350074\n",
       "5            numDisasters     0.002648  1.908950e-03  2080.883574  2096.053717\n",
       "6   avgEmissionsPerCapita    -0.081271  2.026106e-06  2046.253409  2061.423552\n",
       "7  lessThanHighSchoolProp    -4.100230  7.179528e-03  2083.070827  2098.240970\n",
       "8   medianHouseholdIncome     0.000017  3.400496e-11  2063.615413  2078.785556"
      ]
     },
     "execution_count": 9,
     "metadata": {},
     "output_type": "execute_result"
    }
   ],
   "source": [
    "# All variables on their own versus UNFCCC\n",
    "df = pd.DataFrame(columns = ['Variable','Coefficient','P-Value','AIC','BIC'])\n",
    "\n",
    "for i in range(len(independent_variables)):\n",
    "    lr = FitLogistic(df_all, y_var = 'UNFCCC', X_vars = [independent_variables[i]], format = 'model')\n",
    "    df = pd.concat([df, pd.DataFrame([[independent_variables[i], lr.params.iloc[1], lr.pvalues.iloc[1], lr.aic, lr.bic]], columns =  ['Variable','Coefficient','P-Value','AIC','BIC']).dropna(axis = 1)], ignore_index=True)    \n",
    "df"
   ]
  },
  {
   "cell_type": "code",
   "execution_count": 10,
   "metadata": {},
   "outputs": [
    {
     "name": "stdout",
     "output_type": "stream",
     "text": [
      "                           Logit Regression Results                           \n",
      "==============================================================================\n",
      "Dep. Variable:                 UNFCCC   No. Observations:                14546\n",
      "Model:                          Logit   Df Residuals:                    14536\n",
      "Method:                           MLE   Df Model:                            9\n",
      "Date:                Wed, 17 Apr 2024   Pseudo R-squ.:                  0.2852\n",
      "Time:                        16:48:30   Log-Likelihood:                -745.59\n",
      "converged:                       True   LL-Null:                       -1043.1\n",
      "Covariance Type:                  HC3   LLR p-value:                2.387e-122\n",
      "==========================================================================================\n",
      "                             coef    std err          z      P>|z|      [0.025      0.975]\n",
      "------------------------------------------------------------------------------------------\n",
      "const                     -2.6832      1.063     -2.525      0.012      -4.766      -0.601\n",
      "population              5.112e-06   1.13e-06      4.508      0.000    2.89e-06    7.33e-06\n",
      "redCounty                 -1.6551      0.264     -6.267      0.000      -2.173      -1.137\n",
      "unemploymentRate         -30.9751     12.543     -2.470      0.014     -55.559      -6.391\n",
      "povertyProp                7.4411      3.265      2.279      0.023       1.042      13.840\n",
      "tempDiff                  -0.0677      0.093     -0.731      0.465      -0.249       0.114\n",
      "numDisasters               0.0036      0.001      3.194      0.001       0.001       0.006\n",
      "avgEmissionsPerCapita     -0.0574      0.021     -2.790      0.005      -0.098      -0.017\n",
      "lessThanHighSchoolProp   -11.7234      3.184     -3.682      0.000     -17.963      -5.484\n",
      "medianHouseholdIncome   3.065e-06   6.44e-06      0.476      0.634   -9.55e-06    1.57e-05\n",
      "==========================================================================================\n"
     ]
    },
    {
     "name": "stderr",
     "output_type": "stream",
     "text": [
      "C:\\Users\\paulo\\AppData\\Local\\Temp\\ipykernel_24524\\985204587.py:21: FutureWarning: Passing literal html to 'read_html' is deprecated and will be removed in a future version. To read from a literal string, wrap it in a 'StringIO' object.\n",
      "  summary = pd.read_html(model.summary().tables[1].as_html(), header = 0, index_col = 0)[0]\n"
     ]
    }
   ],
   "source": [
    "# All variables versus UNFCCC\n",
    "FitLogistic(df_all, y_var = 'UNFCCC', X_vars = independent_variables, format = 'csv')"
   ]
  },
  {
   "cell_type": "code",
   "execution_count": 11,
   "metadata": {},
   "outputs": [
    {
     "name": "stdout",
     "output_type": "stream",
     "text": [
      " \n",
      "Best AIC: 1508.0410742380075\n",
      " \n",
      "                           Logit Regression Results                           \n",
      "==============================================================================\n",
      "Dep. Variable:                 UNFCCC   No. Observations:                14546\n",
      "Model:                          Logit   Df Residuals:                    14538\n",
      "Method:                           MLE   Df Model:                            7\n",
      "Date:                Wed, 17 Apr 2024   Pseudo R-squ.:                  0.2848\n",
      "Time:                        16:48:32   Log-Likelihood:                -746.02\n",
      "converged:                       True   LL-Null:                       -1043.1\n",
      "Covariance Type:                  HC3   LLR p-value:                4.288e-124\n",
      "==========================================================================================\n",
      "                             coef    std err          z      P>|z|      [0.025      0.975]\n",
      "------------------------------------------------------------------------------------------\n",
      "const                     -2.2571      0.476     -4.738      0.000      -3.191      -1.323\n",
      "population              5.104e-06   1.13e-06      4.535      0.000     2.9e-06    7.31e-06\n",
      "redCounty                 -1.6964      0.258     -6.588      0.000      -2.201      -1.192\n",
      "lessThanHighSchoolProp   -12.1757      3.175     -3.834      0.000     -18.399      -5.952\n",
      "avgEmissionsPerCapita     -0.0594      0.020     -3.045      0.002      -0.098      -0.021\n",
      "numDisasters               0.0039      0.001      3.637      0.000       0.002       0.006\n",
      "unemploymentRate         -29.3218     12.698     -2.309      0.021     -54.210      -4.433\n",
      "povertyProp                5.8572      2.511      2.333      0.020       0.936      10.779\n",
      "==========================================================================================\n"
     ]
    },
    {
     "name": "stderr",
     "output_type": "stream",
     "text": [
      "C:\\Users\\paulo\\AppData\\Local\\Temp\\ipykernel_24524\\48646732.py:38: FutureWarning: Passing literal html to 'read_html' is deprecated and will be removed in a future version. To read from a literal string, wrap it in a 'StringIO' object.\n",
      "  summary = pd.read_html(best_model.summary().tables[1].as_html(), header = 0, index_col = 0)[0]\n"
     ]
    }
   ],
   "source": [
    "ForwardSelection(df = df_all, y_var = 'UNFCCC', vars_to_check = independent_variables, format = 'csv')"
   ]
  },
  {
   "cell_type": "markdown",
   "metadata": {},
   "source": [
    "##### b) Random Forest Classification"
   ]
  },
  {
   "cell_type": "code",
   "execution_count": 12,
   "metadata": {},
   "outputs": [
    {
     "data": {
      "text/html": [
       "<div>\n",
       "<style scoped>\n",
       "    .dataframe tbody tr th:only-of-type {\n",
       "        vertical-align: middle;\n",
       "    }\n",
       "\n",
       "    .dataframe tbody tr th {\n",
       "        vertical-align: top;\n",
       "    }\n",
       "\n",
       "    .dataframe thead th {\n",
       "        text-align: right;\n",
       "    }\n",
       "</style>\n",
       "<table border=\"1\" class=\"dataframe\">\n",
       "  <thead>\n",
       "    <tr style=\"text-align: right;\">\n",
       "      <th></th>\n",
       "      <th>Feature</th>\n",
       "      <th>Importance</th>\n",
       "    </tr>\n",
       "  </thead>\n",
       "  <tbody>\n",
       "    <tr>\n",
       "      <th>0</th>\n",
       "      <td>population</td>\n",
       "      <td>0.621927</td>\n",
       "    </tr>\n",
       "    <tr>\n",
       "      <th>7</th>\n",
       "      <td>lessThanHighSchoolProp</td>\n",
       "      <td>0.082198</td>\n",
       "    </tr>\n",
       "    <tr>\n",
       "      <th>8</th>\n",
       "      <td>medianHouseholdIncome</td>\n",
       "      <td>0.070566</td>\n",
       "    </tr>\n",
       "    <tr>\n",
       "      <th>3</th>\n",
       "      <td>povertyProp</td>\n",
       "      <td>0.066003</td>\n",
       "    </tr>\n",
       "    <tr>\n",
       "      <th>2</th>\n",
       "      <td>unemploymentRate</td>\n",
       "      <td>0.054355</td>\n",
       "    </tr>\n",
       "    <tr>\n",
       "      <th>6</th>\n",
       "      <td>avgEmissionsPerCapita</td>\n",
       "      <td>0.035062</td>\n",
       "    </tr>\n",
       "    <tr>\n",
       "      <th>4</th>\n",
       "      <td>tempDiff</td>\n",
       "      <td>0.030842</td>\n",
       "    </tr>\n",
       "    <tr>\n",
       "      <th>5</th>\n",
       "      <td>numDisasters</td>\n",
       "      <td>0.028105</td>\n",
       "    </tr>\n",
       "    <tr>\n",
       "      <th>1</th>\n",
       "      <td>redCounty</td>\n",
       "      <td>0.010941</td>\n",
       "    </tr>\n",
       "  </tbody>\n",
       "</table>\n",
       "</div>"
      ],
      "text/plain": [
       "                  Feature  Importance\n",
       "0              population    0.621927\n",
       "7  lessThanHighSchoolProp    0.082198\n",
       "8   medianHouseholdIncome    0.070566\n",
       "3             povertyProp    0.066003\n",
       "2        unemploymentRate    0.054355\n",
       "6   avgEmissionsPerCapita    0.035062\n",
       "4                tempDiff    0.030842\n",
       "5            numDisasters    0.028105\n",
       "1               redCounty    0.010941"
      ]
     },
     "execution_count": 12,
     "metadata": {},
     "output_type": "execute_result"
    }
   ],
   "source": [
    "FitRandomForest(df_all, y_var = 'UNFCCC', X_vars = independent_variables)  "
   ]
  },
  {
   "cell_type": "markdown",
   "metadata": {},
   "source": [
    "### 4. Analysing Determinants of Cities to Undertake Individual Actions Recorded by the UNFCCC"
   ]
  },
  {
   "cell_type": "markdown",
   "metadata": {},
   "source": [
    "#### i) Has Commitments"
   ]
  },
  {
   "cell_type": "markdown",
   "metadata": {},
   "source": [
    "##### a) Logistic Regression"
   ]
  },
  {
   "cell_type": "code",
   "execution_count": 13,
   "metadata": {},
   "outputs": [
    {
     "name": "stdout",
     "output_type": "stream",
     "text": [
      "                           Logit Regression Results                           \n",
      "==============================================================================\n",
      "Dep. Variable:         hasCommitments   No. Observations:                  197\n",
      "Model:                          Logit   Df Residuals:                      187\n",
      "Method:                           MLE   Df Model:                            9\n",
      "Date:                Wed, 17 Apr 2024   Pseudo R-squ.:                  0.1520\n",
      "Time:                        16:48:34   Log-Likelihood:                -98.116\n",
      "converged:                       True   LL-Null:                       -115.70\n",
      "Covariance Type:                  HC3   LLR p-value:                 5.569e-05\n",
      "==========================================================================================\n",
      "                             coef    std err          z      P>|z|      [0.025      0.975]\n",
      "------------------------------------------------------------------------------------------\n",
      "const                     -0.1391      2.187     -0.064      0.949      -4.426       4.148\n",
      "population              1.996e-06   5.72e-07      3.489      0.000    8.74e-07    3.12e-06\n",
      "redCounty                 -0.1289      0.431     -0.299      0.765      -0.974       0.716\n",
      "unemploymentRate           3.5542     25.300      0.140      0.888     -46.033      53.141\n",
      "povertyProp                3.6097      8.302      0.435      0.664     -12.663      19.882\n",
      "tempDiff                   0.0098      0.195      0.050      0.960      -0.372       0.392\n",
      "numDisasters              -0.0022      0.003     -0.850      0.395      -0.007       0.003\n",
      "avgEmissionsPerCapita     -0.0338      0.030     -1.122      0.262      -0.093       0.025\n",
      "lessThanHighSchoolProp   -10.1511      5.962     -1.703      0.089     -21.837       1.534\n",
      "medianHouseholdIncome   2.163e-05   1.79e-05      1.209      0.227   -1.34e-05    5.67e-05\n",
      "==========================================================================================\n"
     ]
    },
    {
     "name": "stderr",
     "output_type": "stream",
     "text": [
      "C:\\Users\\paulo\\AppData\\Local\\Temp\\ipykernel_24524\\985204587.py:21: FutureWarning: Passing literal html to 'read_html' is deprecated and will be removed in a future version. To read from a literal string, wrap it in a 'StringIO' object.\n",
      "  summary = pd.read_html(model.summary().tables[1].as_html(), header = 0, index_col = 0)[0]\n"
     ]
    }
   ],
   "source": [
    "FitLogistic(df_unfccc, y_var = 'hasCommitments', X_vars = independent_variables, format = 'csv')"
   ]
  },
  {
   "cell_type": "code",
   "execution_count": 14,
   "metadata": {},
   "outputs": [
    {
     "name": "stdout",
     "output_type": "stream",
     "text": [
      " \n",
      "Best AIC: 205.95133559257675\n",
      " \n",
      "                           Logit Regression Results                           \n",
      "==============================================================================\n",
      "Dep. Variable:         hasCommitments   No. Observations:                  197\n",
      "Model:                          Logit   Df Residuals:                      193\n",
      "Method:                           MLE   Df Model:                            3\n",
      "Date:                Wed, 17 Apr 2024   Pseudo R-squ.:                  0.1445\n",
      "Time:                        16:48:34   Log-Likelihood:                -98.976\n",
      "converged:                       True   LL-Null:                       -115.70\n",
      "Covariance Type:                  HC3   LLR p-value:                 2.592e-07\n",
      "==========================================================================================\n",
      "                             coef    std err          z      P>|z|      [0.025      0.975]\n",
      "------------------------------------------------------------------------------------------\n",
      "const                      0.2236      0.900      0.249      0.804      -1.539       1.987\n",
      "population              1.886e-06   5.46e-07      3.454      0.001    8.16e-07    2.96e-06\n",
      "lessThanHighSchoolProp   -10.1646      4.168     -2.439      0.015     -18.334      -1.995\n",
      "medianHouseholdIncome   1.492e-05   9.99e-06      1.494      0.135   -4.65e-06    3.45e-05\n",
      "==========================================================================================\n"
     ]
    },
    {
     "name": "stderr",
     "output_type": "stream",
     "text": [
      "C:\\Users\\paulo\\AppData\\Local\\Temp\\ipykernel_24524\\48646732.py:38: FutureWarning: Passing literal html to 'read_html' is deprecated and will be removed in a future version. To read from a literal string, wrap it in a 'StringIO' object.\n",
      "  summary = pd.read_html(best_model.summary().tables[1].as_html(), header = 0, index_col = 0)[0]\n"
     ]
    }
   ],
   "source": [
    "ForwardSelection(df = df_unfccc, y_var = 'hasCommitments', vars_to_check = independent_variables, format = 'csv')"
   ]
  },
  {
   "cell_type": "markdown",
   "metadata": {},
   "source": [
    "##### b) Random Forest Classification"
   ]
  },
  {
   "cell_type": "code",
   "execution_count": 15,
   "metadata": {},
   "outputs": [
    {
     "data": {
      "text/html": [
       "<div>\n",
       "<style scoped>\n",
       "    .dataframe tbody tr th:only-of-type {\n",
       "        vertical-align: middle;\n",
       "    }\n",
       "\n",
       "    .dataframe tbody tr th {\n",
       "        vertical-align: top;\n",
       "    }\n",
       "\n",
       "    .dataframe thead th {\n",
       "        text-align: right;\n",
       "    }\n",
       "</style>\n",
       "<table border=\"1\" class=\"dataframe\">\n",
       "  <thead>\n",
       "    <tr style=\"text-align: right;\">\n",
       "      <th></th>\n",
       "      <th>Feature</th>\n",
       "      <th>Importance</th>\n",
       "    </tr>\n",
       "  </thead>\n",
       "  <tbody>\n",
       "    <tr>\n",
       "      <th>0</th>\n",
       "      <td>population</td>\n",
       "      <td>0.302055</td>\n",
       "    </tr>\n",
       "    <tr>\n",
       "      <th>8</th>\n",
       "      <td>medianHouseholdIncome</td>\n",
       "      <td>0.142913</td>\n",
       "    </tr>\n",
       "    <tr>\n",
       "      <th>3</th>\n",
       "      <td>povertyProp</td>\n",
       "      <td>0.126079</td>\n",
       "    </tr>\n",
       "    <tr>\n",
       "      <th>7</th>\n",
       "      <td>lessThanHighSchoolProp</td>\n",
       "      <td>0.125803</td>\n",
       "    </tr>\n",
       "    <tr>\n",
       "      <th>2</th>\n",
       "      <td>unemploymentRate</td>\n",
       "      <td>0.103068</td>\n",
       "    </tr>\n",
       "    <tr>\n",
       "      <th>6</th>\n",
       "      <td>avgEmissionsPerCapita</td>\n",
       "      <td>0.072160</td>\n",
       "    </tr>\n",
       "    <tr>\n",
       "      <th>4</th>\n",
       "      <td>tempDiff</td>\n",
       "      <td>0.062247</td>\n",
       "    </tr>\n",
       "    <tr>\n",
       "      <th>5</th>\n",
       "      <td>numDisasters</td>\n",
       "      <td>0.051437</td>\n",
       "    </tr>\n",
       "    <tr>\n",
       "      <th>1</th>\n",
       "      <td>redCounty</td>\n",
       "      <td>0.014239</td>\n",
       "    </tr>\n",
       "  </tbody>\n",
       "</table>\n",
       "</div>"
      ],
      "text/plain": [
       "                  Feature  Importance\n",
       "0              population    0.302055\n",
       "8   medianHouseholdIncome    0.142913\n",
       "3             povertyProp    0.126079\n",
       "7  lessThanHighSchoolProp    0.125803\n",
       "2        unemploymentRate    0.103068\n",
       "6   avgEmissionsPerCapita    0.072160\n",
       "4                tempDiff    0.062247\n",
       "5            numDisasters    0.051437\n",
       "1               redCounty    0.014239"
      ]
     },
     "execution_count": 15,
     "metadata": {},
     "output_type": "execute_result"
    }
   ],
   "source": [
    "FitRandomForest(df_unfccc, y_var = 'hasCommitments', X_vars = independent_variables) "
   ]
  },
  {
   "cell_type": "markdown",
   "metadata": {},
   "source": [
    "#### ii) Has Actions Undertaken"
   ]
  },
  {
   "cell_type": "markdown",
   "metadata": {},
   "source": [
    "##### a) Logistic Regression"
   ]
  },
  {
   "cell_type": "code",
   "execution_count": 16,
   "metadata": {},
   "outputs": [
    {
     "name": "stdout",
     "output_type": "stream",
     "text": [
      "                            Logit Regression Results                            \n",
      "================================================================================\n",
      "Dep. Variable:     hasActionsUndertaken   No. Observations:                  197\n",
      "Model:                            Logit   Df Residuals:                      187\n",
      "Method:                             MLE   Df Model:                            9\n",
      "Date:                  Wed, 17 Apr 2024   Pseudo R-squ.:                  0.3082\n",
      "Time:                          16:48:35   Log-Likelihood:                -68.766\n",
      "converged:                         True   LL-Null:                       -99.405\n",
      "Covariance Type:                    HC3   LLR p-value:                 7.599e-10\n",
      "==========================================================================================\n",
      "                             coef    std err          z      P>|z|      [0.025      0.975]\n",
      "------------------------------------------------------------------------------------------\n",
      "const                     -2.0394      2.724     -0.749      0.454      -7.379       3.300\n",
      "population              6.722e-06   1.69e-06      3.973      0.000    3.41e-06       1e-05\n",
      "redCounty                  0.1141      0.528      0.216      0.829      -0.921       1.149\n",
      "unemploymentRate           6.2560     29.511      0.212      0.832     -51.585      64.097\n",
      "povertyProp              -11.4840      9.034     -1.271      0.204     -29.190       6.222\n",
      "tempDiff                   0.1219      0.232      0.525      0.600      -0.333       0.577\n",
      "numDisasters              -0.0039      0.004     -1.057      0.290      -0.011       0.003\n",
      "avgEmissionsPerCapita      0.0768      0.044      1.753      0.080      -0.009       0.163\n",
      "lessThanHighSchoolProp    -3.0434      7.403     -0.411      0.681     -17.554      11.467\n",
      "medianHouseholdIncome   4.372e-05    2.5e-05      1.747      0.081   -5.32e-06    9.28e-05\n",
      "==========================================================================================\n",
      "\n",
      "Possibly complete quasi-separation: A fraction 0.16 of observations can be\n",
      "perfectly predicted. This might indicate that there is complete\n",
      "quasi-separation. In this case some parameters will not be identified.\n"
     ]
    },
    {
     "name": "stderr",
     "output_type": "stream",
     "text": [
      "C:\\Users\\paulo\\AppData\\Local\\Temp\\ipykernel_24524\\985204587.py:21: FutureWarning: Passing literal html to 'read_html' is deprecated and will be removed in a future version. To read from a literal string, wrap it in a 'StringIO' object.\n",
      "  summary = pd.read_html(model.summary().tables[1].as_html(), header = 0, index_col = 0)[0]\n"
     ]
    }
   ],
   "source": [
    "FitLogistic(df_unfccc, y_var = 'hasActionsUndertaken', X_vars = independent_variables, format = 'csv')"
   ]
  },
  {
   "cell_type": "code",
   "execution_count": 17,
   "metadata": {},
   "outputs": [
    {
     "name": "stdout",
     "output_type": "stream",
     "text": [
      " \n",
      "Best AIC: 149.90686314892724\n",
      " \n",
      "                            Logit Regression Results                            \n",
      "================================================================================\n",
      "Dep. Variable:     hasActionsUndertaken   No. Observations:                  197\n",
      "Model:                            Logit   Df Residuals:                      191\n",
      "Method:                             MLE   Df Model:                            5\n",
      "Date:                  Wed, 17 Apr 2024   Pseudo R-squ.:                  0.3063\n",
      "Time:                          16:48:35   Log-Likelihood:                -68.953\n",
      "converged:                         True   LL-Null:                       -99.405\n",
      "Covariance Type:                    HC3   LLR p-value:                 7.905e-12\n",
      "=========================================================================================\n",
      "                            coef    std err          z      P>|z|      [0.025      0.975]\n",
      "-----------------------------------------------------------------------------------------\n",
      "const                    -1.7988      2.639     -0.682      0.495      -6.970       3.373\n",
      "population             6.782e-06   1.75e-06      3.884      0.000    3.36e-06    1.02e-05\n",
      "povertyProp             -12.3997      8.853     -1.401      0.161     -29.751       4.952\n",
      "avgEmissionsPerCapita     0.0797      0.045      1.779      0.075      -0.008       0.168\n",
      "medianHouseholdIncome  4.179e-05   2.47e-05      1.691      0.091   -6.64e-06    9.02e-05\n",
      "numDisasters             -0.0048      0.003     -1.589      0.112      -0.011       0.001\n",
      "=========================================================================================\n",
      "\n",
      "Possibly complete quasi-separation: A fraction 0.16 of observations can be\n",
      "perfectly predicted. This might indicate that there is complete\n",
      "quasi-separation. In this case some parameters will not be identified.\n"
     ]
    },
    {
     "name": "stderr",
     "output_type": "stream",
     "text": [
      "C:\\Users\\paulo\\AppData\\Local\\Temp\\ipykernel_24524\\48646732.py:38: FutureWarning: Passing literal html to 'read_html' is deprecated and will be removed in a future version. To read from a literal string, wrap it in a 'StringIO' object.\n",
      "  summary = pd.read_html(best_model.summary().tables[1].as_html(), header = 0, index_col = 0)[0]\n"
     ]
    }
   ],
   "source": [
    "ForwardSelection(df = df_unfccc, y_var = 'hasActionsUndertaken', vars_to_check = independent_variables, format = 'csv')"
   ]
  },
  {
   "cell_type": "markdown",
   "metadata": {},
   "source": [
    "##### b) Random Forest Classification"
   ]
  },
  {
   "cell_type": "code",
   "execution_count": 18,
   "metadata": {},
   "outputs": [
    {
     "data": {
      "text/html": [
       "<div>\n",
       "<style scoped>\n",
       "    .dataframe tbody tr th:only-of-type {\n",
       "        vertical-align: middle;\n",
       "    }\n",
       "\n",
       "    .dataframe tbody tr th {\n",
       "        vertical-align: top;\n",
       "    }\n",
       "\n",
       "    .dataframe thead th {\n",
       "        text-align: right;\n",
       "    }\n",
       "</style>\n",
       "<table border=\"1\" class=\"dataframe\">\n",
       "  <thead>\n",
       "    <tr style=\"text-align: right;\">\n",
       "      <th></th>\n",
       "      <th>Feature</th>\n",
       "      <th>Importance</th>\n",
       "    </tr>\n",
       "  </thead>\n",
       "  <tbody>\n",
       "    <tr>\n",
       "      <th>0</th>\n",
       "      <td>population</td>\n",
       "      <td>0.309502</td>\n",
       "    </tr>\n",
       "    <tr>\n",
       "      <th>8</th>\n",
       "      <td>medianHouseholdIncome</td>\n",
       "      <td>0.173818</td>\n",
       "    </tr>\n",
       "    <tr>\n",
       "      <th>3</th>\n",
       "      <td>povertyProp</td>\n",
       "      <td>0.142366</td>\n",
       "    </tr>\n",
       "    <tr>\n",
       "      <th>7</th>\n",
       "      <td>lessThanHighSchoolProp</td>\n",
       "      <td>0.103071</td>\n",
       "    </tr>\n",
       "    <tr>\n",
       "      <th>6</th>\n",
       "      <td>avgEmissionsPerCapita</td>\n",
       "      <td>0.084664</td>\n",
       "    </tr>\n",
       "    <tr>\n",
       "      <th>2</th>\n",
       "      <td>unemploymentRate</td>\n",
       "      <td>0.078921</td>\n",
       "    </tr>\n",
       "    <tr>\n",
       "      <th>5</th>\n",
       "      <td>numDisasters</td>\n",
       "      <td>0.051408</td>\n",
       "    </tr>\n",
       "    <tr>\n",
       "      <th>4</th>\n",
       "      <td>tempDiff</td>\n",
       "      <td>0.049109</td>\n",
       "    </tr>\n",
       "    <tr>\n",
       "      <th>1</th>\n",
       "      <td>redCounty</td>\n",
       "      <td>0.007141</td>\n",
       "    </tr>\n",
       "  </tbody>\n",
       "</table>\n",
       "</div>"
      ],
      "text/plain": [
       "                  Feature  Importance\n",
       "0              population    0.309502\n",
       "8   medianHouseholdIncome    0.173818\n",
       "3             povertyProp    0.142366\n",
       "7  lessThanHighSchoolProp    0.103071\n",
       "6   avgEmissionsPerCapita    0.084664\n",
       "2        unemploymentRate    0.078921\n",
       "5            numDisasters    0.051408\n",
       "4                tempDiff    0.049109\n",
       "1               redCounty    0.007141"
      ]
     },
     "execution_count": 18,
     "metadata": {},
     "output_type": "execute_result"
    }
   ],
   "source": [
    "FitRandomForest(df_unfccc, y_var = 'hasActionsUndertaken', X_vars = independent_variables) "
   ]
  },
  {
   "cell_type": "markdown",
   "metadata": {},
   "source": [
    "#### iii) hasEmissionInventory"
   ]
  },
  {
   "cell_type": "markdown",
   "metadata": {},
   "source": [
    "##### a) Logistic Regression"
   ]
  },
  {
   "cell_type": "code",
   "execution_count": 19,
   "metadata": {},
   "outputs": [
    {
     "name": "stdout",
     "output_type": "stream",
     "text": [
      "                            Logit Regression Results                            \n",
      "================================================================================\n",
      "Dep. Variable:     hasEmissionInventory   No. Observations:                  197\n",
      "Model:                            Logit   Df Residuals:                      187\n",
      "Method:                             MLE   Df Model:                            9\n",
      "Date:                  Wed, 17 Apr 2024   Pseudo R-squ.:                  0.1900\n",
      "Time:                          16:48:35   Log-Likelihood:                -109.70\n",
      "converged:                         True   LL-Null:                       -135.43\n",
      "Covariance Type:                    HC3   LLR p-value:                 5.708e-08\n",
      "==========================================================================================\n",
      "                             coef    std err          z      P>|z|      [0.025      0.975]\n",
      "------------------------------------------------------------------------------------------\n",
      "const                     -6.9776      2.093     -3.333      0.001     -11.080      -2.875\n",
      "population              1.242e-06   3.21e-07      3.871      0.000    6.13e-07    1.87e-06\n",
      "redCounty                 -0.3871      0.401     -0.965      0.335      -1.173       0.399\n",
      "unemploymentRate          12.0756     23.950      0.504      0.614     -34.866      59.018\n",
      "povertyProp               19.9898      7.171      2.788      0.005       5.935      34.044\n",
      "tempDiff                   0.1262      0.188      0.672      0.502      -0.242       0.494\n",
      "numDisasters              -0.0006      0.003     -0.219      0.827      -0.006       0.004\n",
      "avgEmissionsPerCapita      0.0144      0.026      0.549      0.583      -0.037       0.066\n",
      "lessThanHighSchoolProp   -12.1968      6.142     -1.986      0.047     -24.234      -0.159\n",
      "medianHouseholdIncome   6.392e-05    1.6e-05      3.993      0.000    3.25e-05    9.53e-05\n",
      "==========================================================================================\n"
     ]
    },
    {
     "name": "stderr",
     "output_type": "stream",
     "text": [
      "C:\\Users\\paulo\\AppData\\Local\\Temp\\ipykernel_24524\\985204587.py:21: FutureWarning: Passing literal html to 'read_html' is deprecated and will be removed in a future version. To read from a literal string, wrap it in a 'StringIO' object.\n",
      "  summary = pd.read_html(model.summary().tables[1].as_html(), header = 0, index_col = 0)[0]\n"
     ]
    }
   ],
   "source": [
    "FitLogistic(df_unfccc, y_var = 'hasEmissionInventory', X_vars = independent_variables, format = 'csv')"
   ]
  },
  {
   "cell_type": "code",
   "execution_count": 20,
   "metadata": {},
   "outputs": [
    {
     "name": "stdout",
     "output_type": "stream",
     "text": [
      " \n",
      "Best AIC: 230.9334041402301\n",
      " \n",
      "                            Logit Regression Results                            \n",
      "================================================================================\n",
      "Dep. Variable:     hasEmissionInventory   No. Observations:                  197\n",
      "Model:                            Logit   Df Residuals:                      192\n",
      "Method:                             MLE   Df Model:                            4\n",
      "Date:                  Wed, 17 Apr 2024   Pseudo R-squ.:                  0.1843\n",
      "Time:                          16:48:35   Log-Likelihood:                -110.47\n",
      "converged:                         True   LL-Null:                       -135.43\n",
      "Covariance Type:                    HC3   LLR p-value:                 3.746e-10\n",
      "==========================================================================================\n",
      "                             coef    std err          z      P>|z|      [0.025      0.975]\n",
      "------------------------------------------------------------------------------------------\n",
      "const                     -6.5556      1.785     -3.673      0.000     -10.054      -3.057\n",
      "population              1.268e-06   3.22e-07      3.932      0.000    6.36e-07     1.9e-06\n",
      "medianHouseholdIncome    6.12e-05   1.48e-05      4.143      0.000    3.22e-05    9.02e-05\n",
      "povertyProp               20.8728      7.021      2.973      0.003       7.112      34.634\n",
      "lessThanHighSchoolProp   -11.1956      4.754     -2.355      0.019     -20.514      -1.877\n",
      "==========================================================================================\n"
     ]
    },
    {
     "name": "stderr",
     "output_type": "stream",
     "text": [
      "C:\\Users\\paulo\\AppData\\Local\\Temp\\ipykernel_24524\\48646732.py:38: FutureWarning: Passing literal html to 'read_html' is deprecated and will be removed in a future version. To read from a literal string, wrap it in a 'StringIO' object.\n",
      "  summary = pd.read_html(best_model.summary().tables[1].as_html(), header = 0, index_col = 0)[0]\n"
     ]
    }
   ],
   "source": [
    "ForwardSelection(df = df_unfccc, y_var = 'hasEmissionInventory', vars_to_check = independent_variables, format = 'csv')"
   ]
  },
  {
   "cell_type": "markdown",
   "metadata": {},
   "source": [
    "##### b) Random Forest Classification"
   ]
  },
  {
   "cell_type": "code",
   "execution_count": 21,
   "metadata": {},
   "outputs": [
    {
     "data": {
      "text/html": [
       "<div>\n",
       "<style scoped>\n",
       "    .dataframe tbody tr th:only-of-type {\n",
       "        vertical-align: middle;\n",
       "    }\n",
       "\n",
       "    .dataframe tbody tr th {\n",
       "        vertical-align: top;\n",
       "    }\n",
       "\n",
       "    .dataframe thead th {\n",
       "        text-align: right;\n",
       "    }\n",
       "</style>\n",
       "<table border=\"1\" class=\"dataframe\">\n",
       "  <thead>\n",
       "    <tr style=\"text-align: right;\">\n",
       "      <th></th>\n",
       "      <th>Feature</th>\n",
       "      <th>Importance</th>\n",
       "    </tr>\n",
       "  </thead>\n",
       "  <tbody>\n",
       "    <tr>\n",
       "      <th>0</th>\n",
       "      <td>population</td>\n",
       "      <td>0.331316</td>\n",
       "    </tr>\n",
       "    <tr>\n",
       "      <th>8</th>\n",
       "      <td>medianHouseholdIncome</td>\n",
       "      <td>0.135762</td>\n",
       "    </tr>\n",
       "    <tr>\n",
       "      <th>7</th>\n",
       "      <td>lessThanHighSchoolProp</td>\n",
       "      <td>0.112454</td>\n",
       "    </tr>\n",
       "    <tr>\n",
       "      <th>3</th>\n",
       "      <td>povertyProp</td>\n",
       "      <td>0.109655</td>\n",
       "    </tr>\n",
       "    <tr>\n",
       "      <th>2</th>\n",
       "      <td>unemploymentRate</td>\n",
       "      <td>0.107586</td>\n",
       "    </tr>\n",
       "    <tr>\n",
       "      <th>6</th>\n",
       "      <td>avgEmissionsPerCapita</td>\n",
       "      <td>0.070210</td>\n",
       "    </tr>\n",
       "    <tr>\n",
       "      <th>5</th>\n",
       "      <td>numDisasters</td>\n",
       "      <td>0.063954</td>\n",
       "    </tr>\n",
       "    <tr>\n",
       "      <th>4</th>\n",
       "      <td>tempDiff</td>\n",
       "      <td>0.052829</td>\n",
       "    </tr>\n",
       "    <tr>\n",
       "      <th>1</th>\n",
       "      <td>redCounty</td>\n",
       "      <td>0.016235</td>\n",
       "    </tr>\n",
       "  </tbody>\n",
       "</table>\n",
       "</div>"
      ],
      "text/plain": [
       "                  Feature  Importance\n",
       "0              population    0.331316\n",
       "8   medianHouseholdIncome    0.135762\n",
       "7  lessThanHighSchoolProp    0.112454\n",
       "3             povertyProp    0.109655\n",
       "2        unemploymentRate    0.107586\n",
       "6   avgEmissionsPerCapita    0.070210\n",
       "5            numDisasters    0.063954\n",
       "4                tempDiff    0.052829\n",
       "1               redCounty    0.016235"
      ]
     },
     "execution_count": 21,
     "metadata": {},
     "output_type": "execute_result"
    }
   ],
   "source": [
    "FitRandomForest(df_unfccc, y_var = 'hasEmissionInventory', X_vars = independent_variables) "
   ]
  },
  {
   "cell_type": "markdown",
   "metadata": {},
   "source": [
    "#### iv) hasInitiativeParticipations"
   ]
  },
  {
   "cell_type": "markdown",
   "metadata": {},
   "source": [
    "##### a) Logistic Regression"
   ]
  },
  {
   "cell_type": "code",
   "execution_count": 22,
   "metadata": {},
   "outputs": [
    {
     "name": "stdout",
     "output_type": "stream",
     "text": [
      "                                Logit Regression Results                               \n",
      "=======================================================================================\n",
      "Dep. Variable:     hasInitiativeParticipations   No. Observations:                  197\n",
      "Model:                                   Logit   Df Residuals:                      187\n",
      "Method:                                    MLE   Df Model:                            9\n",
      "Date:                         Wed, 17 Apr 2024   Pseudo R-squ.:                  0.1135\n",
      "Time:                                 16:48:35   Log-Likelihood:                -81.704\n",
      "converged:                                True   LL-Null:                       -92.163\n",
      "Covariance Type:                           HC3   LLR p-value:                   0.01301\n",
      "==========================================================================================\n",
      "                             coef    std err          z      P>|z|      [0.025      0.975]\n",
      "------------------------------------------------------------------------------------------\n",
      "const                     -2.3845      2.482     -0.961      0.337      -7.249       2.479\n",
      "population              5.844e-07   2.35e-07      2.483      0.013    1.23e-07    1.05e-06\n",
      "redCounty                 -0.7807      0.450     -1.734      0.083      -1.663       0.102\n",
      "unemploymentRate         -44.0401     28.260     -1.558      0.119     -99.428      11.348\n",
      "povertyProp               22.5619      9.894      2.280      0.023       3.170      41.954\n",
      "tempDiff                  -0.2899      0.208     -1.392      0.164      -0.698       0.118\n",
      "numDisasters               0.0007      0.003      0.215      0.830      -0.006       0.007\n",
      "avgEmissionsPerCapita      0.0052      0.044      0.117      0.907      -0.081       0.092\n",
      "lessThanHighSchoolProp    -0.9127      5.956     -0.153      0.878     -12.586      10.760\n",
      "medianHouseholdIncome   3.379e-05   1.73e-05      1.956      0.050   -6.22e-08    6.77e-05\n",
      "==========================================================================================\n"
     ]
    },
    {
     "name": "stderr",
     "output_type": "stream",
     "text": [
      "C:\\Users\\paulo\\AppData\\Local\\Temp\\ipykernel_24524\\985204587.py:21: FutureWarning: Passing literal html to 'read_html' is deprecated and will be removed in a future version. To read from a literal string, wrap it in a 'StringIO' object.\n",
      "  summary = pd.read_html(model.summary().tables[1].as_html(), header = 0, index_col = 0)[0]\n"
     ]
    }
   ],
   "source": [
    "FitLogistic(df_unfccc, y_var = 'hasInitiativeParticipations', X_vars = independent_variables, format = 'csv')"
   ]
  },
  {
   "cell_type": "code",
   "execution_count": 23,
   "metadata": {},
   "outputs": [
    {
     "name": "stdout",
     "output_type": "stream",
     "text": [
      " \n",
      "Best AIC: 178.22869681211463\n",
      " \n",
      "                                Logit Regression Results                               \n",
      "=======================================================================================\n",
      "Dep. Variable:     hasInitiativeParticipations   No. Observations:                  197\n",
      "Model:                                   Logit   Df Residuals:                      194\n",
      "Method:                                    MLE   Df Model:                            2\n",
      "Date:                         Wed, 17 Apr 2024   Pseudo R-squ.:                 0.06563\n",
      "Time:                                 16:48:36   Log-Likelihood:                -86.114\n",
      "converged:                                True   LL-Null:                       -92.163\n",
      "Covariance Type:                           HC3   LLR p-value:                  0.002360\n",
      "==============================================================================\n",
      "                 coef    std err          z      P>|z|      [0.025      0.975]\n",
      "------------------------------------------------------------------------------\n",
      "const          1.5515      0.248      6.266      0.000       1.066       2.037\n",
      "redCounty     -0.9902      0.404     -2.450      0.014      -1.782      -0.198\n",
      "population  6.131e-07   2.23e-07      2.743      0.006    1.75e-07    1.05e-06\n",
      "==============================================================================\n"
     ]
    },
    {
     "name": "stderr",
     "output_type": "stream",
     "text": [
      "C:\\Users\\paulo\\AppData\\Local\\Temp\\ipykernel_24524\\48646732.py:38: FutureWarning: Passing literal html to 'read_html' is deprecated and will be removed in a future version. To read from a literal string, wrap it in a 'StringIO' object.\n",
      "  summary = pd.read_html(best_model.summary().tables[1].as_html(), header = 0, index_col = 0)[0]\n"
     ]
    }
   ],
   "source": [
    "ForwardSelection(df = df_unfccc, y_var = 'hasInitiativeParticipations', vars_to_check = independent_variables, format = 'csv')"
   ]
  },
  {
   "cell_type": "markdown",
   "metadata": {},
   "source": [
    "##### b) Random Forest Classification"
   ]
  },
  {
   "cell_type": "code",
   "execution_count": 24,
   "metadata": {},
   "outputs": [
    {
     "data": {
      "text/html": [
       "<div>\n",
       "<style scoped>\n",
       "    .dataframe tbody tr th:only-of-type {\n",
       "        vertical-align: middle;\n",
       "    }\n",
       "\n",
       "    .dataframe tbody tr th {\n",
       "        vertical-align: top;\n",
       "    }\n",
       "\n",
       "    .dataframe thead th {\n",
       "        text-align: right;\n",
       "    }\n",
       "</style>\n",
       "<table border=\"1\" class=\"dataframe\">\n",
       "  <thead>\n",
       "    <tr style=\"text-align: right;\">\n",
       "      <th></th>\n",
       "      <th>Feature</th>\n",
       "      <th>Importance</th>\n",
       "    </tr>\n",
       "  </thead>\n",
       "  <tbody>\n",
       "    <tr>\n",
       "      <th>0</th>\n",
       "      <td>population</td>\n",
       "      <td>0.273440</td>\n",
       "    </tr>\n",
       "    <tr>\n",
       "      <th>8</th>\n",
       "      <td>medianHouseholdIncome</td>\n",
       "      <td>0.129273</td>\n",
       "    </tr>\n",
       "    <tr>\n",
       "      <th>3</th>\n",
       "      <td>povertyProp</td>\n",
       "      <td>0.105813</td>\n",
       "    </tr>\n",
       "    <tr>\n",
       "      <th>6</th>\n",
       "      <td>avgEmissionsPerCapita</td>\n",
       "      <td>0.097748</td>\n",
       "    </tr>\n",
       "    <tr>\n",
       "      <th>7</th>\n",
       "      <td>lessThanHighSchoolProp</td>\n",
       "      <td>0.093380</td>\n",
       "    </tr>\n",
       "    <tr>\n",
       "      <th>4</th>\n",
       "      <td>tempDiff</td>\n",
       "      <td>0.091394</td>\n",
       "    </tr>\n",
       "    <tr>\n",
       "      <th>2</th>\n",
       "      <td>unemploymentRate</td>\n",
       "      <td>0.087153</td>\n",
       "    </tr>\n",
       "    <tr>\n",
       "      <th>5</th>\n",
       "      <td>numDisasters</td>\n",
       "      <td>0.083117</td>\n",
       "    </tr>\n",
       "    <tr>\n",
       "      <th>1</th>\n",
       "      <td>redCounty</td>\n",
       "      <td>0.038682</td>\n",
       "    </tr>\n",
       "  </tbody>\n",
       "</table>\n",
       "</div>"
      ],
      "text/plain": [
       "                  Feature  Importance\n",
       "0              population    0.273440\n",
       "8   medianHouseholdIncome    0.129273\n",
       "3             povertyProp    0.105813\n",
       "6   avgEmissionsPerCapita    0.097748\n",
       "7  lessThanHighSchoolProp    0.093380\n",
       "4                tempDiff    0.091394\n",
       "2        unemploymentRate    0.087153\n",
       "5            numDisasters    0.083117\n",
       "1               redCounty    0.038682"
      ]
     },
     "execution_count": 24,
     "metadata": {},
     "output_type": "execute_result"
    }
   ],
   "source": [
    "FitRandomForest(df_unfccc, y_var = 'hasInitiativeParticipations', X_vars = independent_variables) "
   ]
  },
  {
   "cell_type": "markdown",
   "metadata": {},
   "source": [
    "#### v) hasImpact"
   ]
  },
  {
   "cell_type": "markdown",
   "metadata": {},
   "source": [
    "##### a) Logistic Regression"
   ]
  },
  {
   "cell_type": "code",
   "execution_count": 25,
   "metadata": {},
   "outputs": [
    {
     "name": "stdout",
     "output_type": "stream",
     "text": [
      "                           Logit Regression Results                           \n",
      "==============================================================================\n",
      "Dep. Variable:              hasImpact   No. Observations:                  197\n",
      "Model:                          Logit   Df Residuals:                      187\n",
      "Method:                           MLE   Df Model:                            9\n",
      "Date:                Wed, 17 Apr 2024   Pseudo R-squ.:                  0.1173\n",
      "Time:                        16:48:36   Log-Likelihood:                -34.911\n",
      "converged:                       True   LL-Null:                       -39.548\n",
      "Covariance Type:                  HC3   LLR p-value:                    0.4123\n",
      "==========================================================================================\n",
      "                             coef    std err          z      P>|z|      [0.025      0.975]\n",
      "------------------------------------------------------------------------------------------\n",
      "const                     -4.9208      3.353     -1.467      0.142     -11.493       1.652\n",
      "population              1.528e-08   2.05e-07      0.074      0.941   -3.87e-07    4.18e-07\n",
      "redCounty                  0.2834      0.799      0.355      0.723      -1.282       1.849\n",
      "unemploymentRate         -14.2487     49.016     -0.291      0.771    -110.319      81.821\n",
      "povertyProp               20.7779     13.630      1.524      0.127      -5.936      47.492\n",
      "tempDiff                  -0.2694      0.346     -0.780      0.436      -0.947       0.408\n",
      "numDisasters               0.0128      0.006      1.983      0.047       0.000       0.025\n",
      "avgEmissionsPerCapita      0.0024      0.061      0.040      0.968      -0.117       0.122\n",
      "lessThanHighSchoolProp   -22.1627     14.934     -1.484      0.138     -51.432       7.107\n",
      "medianHouseholdIncome  -2.959e-07    2.4e-05     -0.012      0.990   -4.74e-05    4.68e-05\n",
      "==========================================================================================\n"
     ]
    },
    {
     "name": "stderr",
     "output_type": "stream",
     "text": [
      "C:\\Users\\paulo\\AppData\\Local\\Temp\\ipykernel_24524\\985204587.py:21: FutureWarning: Passing literal html to 'read_html' is deprecated and will be removed in a future version. To read from a literal string, wrap it in a 'StringIO' object.\n",
      "  summary = pd.read_html(model.summary().tables[1].as_html(), header = 0, index_col = 0)[0]\n"
     ]
    }
   ],
   "source": [
    "FitLogistic(df_unfccc, y_var = 'hasImpact', X_vars = independent_variables, format = 'csv')"
   ]
  },
  {
   "cell_type": "code",
   "execution_count": 26,
   "metadata": {},
   "outputs": [
    {
     "name": "stdout",
     "output_type": "stream",
     "text": [
      " \n",
      "Best AIC: 78.25775360746783\n",
      " \n",
      "                           Logit Regression Results                           \n",
      "==============================================================================\n",
      "Dep. Variable:              hasImpact   No. Observations:                  197\n",
      "Model:                          Logit   Df Residuals:                      193\n",
      "Method:                           MLE   Df Model:                            3\n",
      "Date:                Wed, 17 Apr 2024   Pseudo R-squ.:                  0.1117\n",
      "Time:                        16:48:36   Log-Likelihood:                -35.129\n",
      "converged:                       True   LL-Null:                       -39.548\n",
      "Covariance Type:                  HC3   LLR p-value:                   0.03152\n",
      "==========================================================================================\n",
      "                             coef    std err          z      P>|z|      [0.025      0.975]\n",
      "------------------------------------------------------------------------------------------\n",
      "const                     -4.7994      2.083     -2.304      0.021      -8.881      -0.717\n",
      "numDisasters               0.0132      0.005      2.471      0.013       0.003       0.024\n",
      "lessThanHighSchoolProp   -25.3963     13.773     -1.844      0.065     -52.391       1.598\n",
      "povertyProp               19.4192     11.895      1.633      0.103      -3.894      42.732\n",
      "==========================================================================================\n"
     ]
    },
    {
     "name": "stderr",
     "output_type": "stream",
     "text": [
      "C:\\Users\\paulo\\AppData\\Local\\Temp\\ipykernel_24524\\48646732.py:38: FutureWarning: Passing literal html to 'read_html' is deprecated and will be removed in a future version. To read from a literal string, wrap it in a 'StringIO' object.\n",
      "  summary = pd.read_html(best_model.summary().tables[1].as_html(), header = 0, index_col = 0)[0]\n"
     ]
    }
   ],
   "source": [
    "ForwardSelection(df = df_unfccc, y_var = 'hasImpact', vars_to_check = independent_variables, format = 'csv')"
   ]
  },
  {
   "cell_type": "markdown",
   "metadata": {},
   "source": [
    "##### b) Random Forest Classification"
   ]
  },
  {
   "cell_type": "code",
   "execution_count": 27,
   "metadata": {},
   "outputs": [
    {
     "data": {
      "text/html": [
       "<div>\n",
       "<style scoped>\n",
       "    .dataframe tbody tr th:only-of-type {\n",
       "        vertical-align: middle;\n",
       "    }\n",
       "\n",
       "    .dataframe tbody tr th {\n",
       "        vertical-align: top;\n",
       "    }\n",
       "\n",
       "    .dataframe thead th {\n",
       "        text-align: right;\n",
       "    }\n",
       "</style>\n",
       "<table border=\"1\" class=\"dataframe\">\n",
       "  <thead>\n",
       "    <tr style=\"text-align: right;\">\n",
       "      <th></th>\n",
       "      <th>Feature</th>\n",
       "      <th>Importance</th>\n",
       "    </tr>\n",
       "  </thead>\n",
       "  <tbody>\n",
       "    <tr>\n",
       "      <th>0</th>\n",
       "      <td>population</td>\n",
       "      <td>0.266380</td>\n",
       "    </tr>\n",
       "    <tr>\n",
       "      <th>3</th>\n",
       "      <td>povertyProp</td>\n",
       "      <td>0.175909</td>\n",
       "    </tr>\n",
       "    <tr>\n",
       "      <th>7</th>\n",
       "      <td>lessThanHighSchoolProp</td>\n",
       "      <td>0.141555</td>\n",
       "    </tr>\n",
       "    <tr>\n",
       "      <th>8</th>\n",
       "      <td>medianHouseholdIncome</td>\n",
       "      <td>0.125967</td>\n",
       "    </tr>\n",
       "    <tr>\n",
       "      <th>2</th>\n",
       "      <td>unemploymentRate</td>\n",
       "      <td>0.121706</td>\n",
       "    </tr>\n",
       "    <tr>\n",
       "      <th>4</th>\n",
       "      <td>tempDiff</td>\n",
       "      <td>0.056743</td>\n",
       "    </tr>\n",
       "    <tr>\n",
       "      <th>5</th>\n",
       "      <td>numDisasters</td>\n",
       "      <td>0.056174</td>\n",
       "    </tr>\n",
       "    <tr>\n",
       "      <th>6</th>\n",
       "      <td>avgEmissionsPerCapita</td>\n",
       "      <td>0.048546</td>\n",
       "    </tr>\n",
       "    <tr>\n",
       "      <th>1</th>\n",
       "      <td>redCounty</td>\n",
       "      <td>0.007020</td>\n",
       "    </tr>\n",
       "  </tbody>\n",
       "</table>\n",
       "</div>"
      ],
      "text/plain": [
       "                  Feature  Importance\n",
       "0              population    0.266380\n",
       "3             povertyProp    0.175909\n",
       "7  lessThanHighSchoolProp    0.141555\n",
       "8   medianHouseholdIncome    0.125967\n",
       "2        unemploymentRate    0.121706\n",
       "4                tempDiff    0.056743\n",
       "5            numDisasters    0.056174\n",
       "6   avgEmissionsPerCapita    0.048546\n",
       "1               redCounty    0.007020"
      ]
     },
     "execution_count": 27,
     "metadata": {},
     "output_type": "execute_result"
    }
   ],
   "source": [
    "FitRandomForest(df_unfccc, y_var = 'hasImpact', X_vars = independent_variables) "
   ]
  },
  {
   "cell_type": "markdown",
   "metadata": {},
   "source": [
    "#### vi) hasMitigations"
   ]
  },
  {
   "cell_type": "markdown",
   "metadata": {},
   "source": [
    "##### a) Logistic Regression"
   ]
  },
  {
   "cell_type": "code",
   "execution_count": 28,
   "metadata": {},
   "outputs": [
    {
     "name": "stdout",
     "output_type": "stream",
     "text": [
      "                           Logit Regression Results                           \n",
      "==============================================================================\n",
      "Dep. Variable:         hasMitigations   No. Observations:                  197\n",
      "Model:                          Logit   Df Residuals:                      187\n",
      "Method:                           MLE   Df Model:                            9\n",
      "Date:                Wed, 17 Apr 2024   Pseudo R-squ.:                  0.1843\n",
      "Time:                        16:48:36   Log-Likelihood:                -84.313\n",
      "converged:                       True   LL-Null:                       -103.37\n",
      "Covariance Type:                  HC3   LLR p-value:                 1.665e-05\n",
      "==========================================================================================\n",
      "                             coef    std err          z      P>|z|      [0.025      0.975]\n",
      "------------------------------------------------------------------------------------------\n",
      "const                     -4.5465      2.664     -1.707      0.088      -9.767       0.674\n",
      "population              1.577e-06   1.03e-06      1.537      0.124   -4.34e-07    3.59e-06\n",
      "redCounty                  0.6372      0.482      1.322      0.186      -0.307       1.581\n",
      "unemploymentRate          11.9140     25.905      0.460      0.646     -38.859      62.687\n",
      "povertyProp                6.1274      8.426      0.727      0.467     -10.388      22.643\n",
      "tempDiff                   0.0051      0.216      0.024      0.981      -0.418       0.429\n",
      "numDisasters              -0.0037      0.004     -1.037      0.300      -0.011       0.003\n",
      "avgEmissionsPerCapita      0.0570      0.041      1.396      0.163      -0.023       0.137\n",
      "lessThanHighSchoolProp    -6.5227      6.586     -0.990      0.322     -19.431       6.386\n",
      "medianHouseholdIncome   5.737e-05   2.53e-05      2.270      0.023    7.83e-06       0.000\n",
      "==========================================================================================\n"
     ]
    },
    {
     "name": "stderr",
     "output_type": "stream",
     "text": [
      "C:\\Users\\paulo\\AppData\\Local\\Temp\\ipykernel_24524\\985204587.py:21: FutureWarning: Passing literal html to 'read_html' is deprecated and will be removed in a future version. To read from a literal string, wrap it in a 'StringIO' object.\n",
      "  summary = pd.read_html(model.summary().tables[1].as_html(), header = 0, index_col = 0)[0]\n"
     ]
    }
   ],
   "source": [
    "FitLogistic(df_unfccc, y_var = 'hasMitigations', X_vars = independent_variables, format = 'csv')"
   ]
  },
  {
   "cell_type": "code",
   "execution_count": 29,
   "metadata": {},
   "outputs": [
    {
     "name": "stdout",
     "output_type": "stream",
     "text": [
      " \n",
      "Best AIC: 181.54821795245488\n",
      " \n",
      "                           Logit Regression Results                           \n",
      "==============================================================================\n",
      "Dep. Variable:         hasMitigations   No. Observations:                  197\n",
      "Model:                          Logit   Df Residuals:                      192\n",
      "Method:                           MLE   Df Model:                            4\n",
      "Date:                Wed, 17 Apr 2024   Pseudo R-squ.:                  0.1702\n",
      "Time:                        16:48:36   Log-Likelihood:                -85.774\n",
      "converged:                       True   LL-Null:                       -103.37\n",
      "Covariance Type:                  HC3   LLR p-value:                 4.247e-07\n",
      "=========================================================================================\n",
      "                            coef    std err          z      P>|z|      [0.025      0.975]\n",
      "-----------------------------------------------------------------------------------------\n",
      "const                    -3.1234      1.352     -2.310      0.021      -5.774      -0.473\n",
      "population             1.605e-06   1.06e-06      1.508      0.131   -4.81e-07    3.69e-06\n",
      "medianHouseholdIncome  5.019e-05   1.63e-05      3.078      0.002    1.82e-05    8.21e-05\n",
      "numDisasters             -0.0058      0.003     -2.161      0.031      -0.011      -0.001\n",
      "avgEmissionsPerCapita     0.0603      0.039      1.552      0.121      -0.016       0.137\n",
      "=========================================================================================\n"
     ]
    },
    {
     "name": "stderr",
     "output_type": "stream",
     "text": [
      "C:\\Users\\paulo\\AppData\\Local\\Temp\\ipykernel_24524\\48646732.py:38: FutureWarning: Passing literal html to 'read_html' is deprecated and will be removed in a future version. To read from a literal string, wrap it in a 'StringIO' object.\n",
      "  summary = pd.read_html(best_model.summary().tables[1].as_html(), header = 0, index_col = 0)[0]\n"
     ]
    }
   ],
   "source": [
    "ForwardSelection(df = df_unfccc, y_var = 'hasMitigations', vars_to_check = independent_variables, format = 'csv')"
   ]
  },
  {
   "cell_type": "markdown",
   "metadata": {},
   "source": [
    "##### b) Random Forest Classification"
   ]
  },
  {
   "cell_type": "code",
   "execution_count": 30,
   "metadata": {},
   "outputs": [
    {
     "data": {
      "text/html": [
       "<div>\n",
       "<style scoped>\n",
       "    .dataframe tbody tr th:only-of-type {\n",
       "        vertical-align: middle;\n",
       "    }\n",
       "\n",
       "    .dataframe tbody tr th {\n",
       "        vertical-align: top;\n",
       "    }\n",
       "\n",
       "    .dataframe thead th {\n",
       "        text-align: right;\n",
       "    }\n",
       "</style>\n",
       "<table border=\"1\" class=\"dataframe\">\n",
       "  <thead>\n",
       "    <tr style=\"text-align: right;\">\n",
       "      <th></th>\n",
       "      <th>Feature</th>\n",
       "      <th>Importance</th>\n",
       "    </tr>\n",
       "  </thead>\n",
       "  <tbody>\n",
       "    <tr>\n",
       "      <th>0</th>\n",
       "      <td>population</td>\n",
       "      <td>0.289224</td>\n",
       "    </tr>\n",
       "    <tr>\n",
       "      <th>8</th>\n",
       "      <td>medianHouseholdIncome</td>\n",
       "      <td>0.166196</td>\n",
       "    </tr>\n",
       "    <tr>\n",
       "      <th>7</th>\n",
       "      <td>lessThanHighSchoolProp</td>\n",
       "      <td>0.124578</td>\n",
       "    </tr>\n",
       "    <tr>\n",
       "      <th>3</th>\n",
       "      <td>povertyProp</td>\n",
       "      <td>0.110108</td>\n",
       "    </tr>\n",
       "    <tr>\n",
       "      <th>2</th>\n",
       "      <td>unemploymentRate</td>\n",
       "      <td>0.082786</td>\n",
       "    </tr>\n",
       "    <tr>\n",
       "      <th>4</th>\n",
       "      <td>tempDiff</td>\n",
       "      <td>0.076798</td>\n",
       "    </tr>\n",
       "    <tr>\n",
       "      <th>6</th>\n",
       "      <td>avgEmissionsPerCapita</td>\n",
       "      <td>0.075343</td>\n",
       "    </tr>\n",
       "    <tr>\n",
       "      <th>5</th>\n",
       "      <td>numDisasters</td>\n",
       "      <td>0.062369</td>\n",
       "    </tr>\n",
       "    <tr>\n",
       "      <th>1</th>\n",
       "      <td>redCounty</td>\n",
       "      <td>0.012598</td>\n",
       "    </tr>\n",
       "  </tbody>\n",
       "</table>\n",
       "</div>"
      ],
      "text/plain": [
       "                  Feature  Importance\n",
       "0              population    0.289224\n",
       "8   medianHouseholdIncome    0.166196\n",
       "7  lessThanHighSchoolProp    0.124578\n",
       "3             povertyProp    0.110108\n",
       "2        unemploymentRate    0.082786\n",
       "4                tempDiff    0.076798\n",
       "6   avgEmissionsPerCapita    0.075343\n",
       "5            numDisasters    0.062369\n",
       "1               redCounty    0.012598"
      ]
     },
     "execution_count": 30,
     "metadata": {},
     "output_type": "execute_result"
    }
   ],
   "source": [
    "FitRandomForest(df_unfccc, y_var = 'hasMitigations', X_vars = independent_variables) "
   ]
  },
  {
   "cell_type": "markdown",
   "metadata": {},
   "source": [
    "#### vii) hasAdaptations"
   ]
  },
  {
   "cell_type": "markdown",
   "metadata": {},
   "source": [
    "##### a) Logistic Regression"
   ]
  },
  {
   "cell_type": "code",
   "execution_count": 31,
   "metadata": {},
   "outputs": [
    {
     "name": "stdout",
     "output_type": "stream",
     "text": [
      "                           Logit Regression Results                           \n",
      "==============================================================================\n",
      "Dep. Variable:         hasAdaptations   No. Observations:                  197\n",
      "Model:                          Logit   Df Residuals:                      187\n",
      "Method:                           MLE   Df Model:                            9\n",
      "Date:                Wed, 17 Apr 2024   Pseudo R-squ.:                  0.1524\n",
      "Time:                        16:48:37   Log-Likelihood:                -103.33\n",
      "converged:                       True   LL-Null:                       -121.91\n",
      "Covariance Type:                  HC3   LLR p-value:                 2.477e-05\n",
      "==========================================================================================\n",
      "                             coef    std err          z      P>|z|      [0.025      0.975]\n",
      "------------------------------------------------------------------------------------------\n",
      "const                     -1.3016      2.036     -0.639      0.523      -5.291       2.688\n",
      "population               1.29e-06   7.97e-07      1.618      0.106   -2.73e-07    2.85e-06\n",
      "redCounty                 -0.6769      0.400     -1.690      0.091      -1.462       0.108\n",
      "unemploymentRate          -8.6848     23.146     -0.375      0.707     -54.050      36.681\n",
      "povertyProp               -4.9832      7.143     -0.698      0.485     -18.983       9.016\n",
      "tempDiff                  -0.0582      0.184     -0.316      0.752      -0.420       0.303\n",
      "numDisasters              -0.0035      0.003     -1.342      0.180      -0.009       0.002\n",
      "avgEmissionsPerCapita      0.0522      0.035      1.470      0.142      -0.017       0.122\n",
      "lessThanHighSchoolProp     1.5497      5.532      0.280      0.779      -9.292      12.392\n",
      "medianHouseholdIncome   2.956e-05   1.64e-05      1.798      0.072   -2.67e-06    6.18e-05\n",
      "==========================================================================================\n"
     ]
    },
    {
     "name": "stderr",
     "output_type": "stream",
     "text": [
      "C:\\Users\\paulo\\AppData\\Local\\Temp\\ipykernel_24524\\985204587.py:21: FutureWarning: Passing literal html to 'read_html' is deprecated and will be removed in a future version. To read from a literal string, wrap it in a 'StringIO' object.\n",
      "  summary = pd.read_html(model.summary().tables[1].as_html(), header = 0, index_col = 0)[0]\n"
     ]
    }
   ],
   "source": [
    "FitLogistic(df_unfccc, y_var = 'hasAdaptations', X_vars = independent_variables, format = 'csv')"
   ]
  },
  {
   "cell_type": "code",
   "execution_count": 32,
   "metadata": {},
   "outputs": [
    {
     "name": "stdout",
     "output_type": "stream",
     "text": [
      " \n",
      "Best AIC: 219.6236800370598\n",
      " \n",
      "                           Logit Regression Results                           \n",
      "==============================================================================\n",
      "Dep. Variable:         hasAdaptations   No. Observations:                  197\n",
      "Model:                          Logit   Df Residuals:                      193\n",
      "Method:                           MLE   Df Model:                            3\n",
      "Date:                Wed, 17 Apr 2024   Pseudo R-squ.:                  0.1320\n",
      "Time:                        16:48:37   Log-Likelihood:                -105.81\n",
      "converged:                       True   LL-Null:                       -121.91\n",
      "Covariance Type:                  HC3   LLR p-value:                 4.773e-07\n",
      "=========================================================================================\n",
      "                            coef    std err          z      P>|z|      [0.025      0.975]\n",
      "-----------------------------------------------------------------------------------------\n",
      "const                    -3.1342      1.185     -2.644      0.008      -5.457      -0.811\n",
      "population             1.246e-06   7.57e-07      1.645      0.100   -2.39e-07    2.73e-06\n",
      "medianHouseholdIncome  3.539e-05   1.18e-05      3.005      0.003    1.23e-05    5.85e-05\n",
      "avgEmissionsPerCapita     0.0573      0.039      1.460      0.144      -0.020       0.134\n",
      "=========================================================================================\n"
     ]
    },
    {
     "name": "stderr",
     "output_type": "stream",
     "text": [
      "C:\\Users\\paulo\\AppData\\Local\\Temp\\ipykernel_24524\\48646732.py:38: FutureWarning: Passing literal html to 'read_html' is deprecated and will be removed in a future version. To read from a literal string, wrap it in a 'StringIO' object.\n",
      "  summary = pd.read_html(best_model.summary().tables[1].as_html(), header = 0, index_col = 0)[0]\n"
     ]
    }
   ],
   "source": [
    "ForwardSelection(df = df_unfccc, y_var = 'hasAdaptations', vars_to_check = independent_variables, format = 'csv')"
   ]
  },
  {
   "cell_type": "markdown",
   "metadata": {},
   "source": [
    "##### b) Random Forest Classification"
   ]
  },
  {
   "cell_type": "code",
   "execution_count": 33,
   "metadata": {},
   "outputs": [
    {
     "data": {
      "text/html": [
       "<div>\n",
       "<style scoped>\n",
       "    .dataframe tbody tr th:only-of-type {\n",
       "        vertical-align: middle;\n",
       "    }\n",
       "\n",
       "    .dataframe tbody tr th {\n",
       "        vertical-align: top;\n",
       "    }\n",
       "\n",
       "    .dataframe thead th {\n",
       "        text-align: right;\n",
       "    }\n",
       "</style>\n",
       "<table border=\"1\" class=\"dataframe\">\n",
       "  <thead>\n",
       "    <tr style=\"text-align: right;\">\n",
       "      <th></th>\n",
       "      <th>Feature</th>\n",
       "      <th>Importance</th>\n",
       "    </tr>\n",
       "  </thead>\n",
       "  <tbody>\n",
       "    <tr>\n",
       "      <th>0</th>\n",
       "      <td>population</td>\n",
       "      <td>0.308776</td>\n",
       "    </tr>\n",
       "    <tr>\n",
       "      <th>8</th>\n",
       "      <td>medianHouseholdIncome</td>\n",
       "      <td>0.171767</td>\n",
       "    </tr>\n",
       "    <tr>\n",
       "      <th>3</th>\n",
       "      <td>povertyProp</td>\n",
       "      <td>0.118985</td>\n",
       "    </tr>\n",
       "    <tr>\n",
       "      <th>7</th>\n",
       "      <td>lessThanHighSchoolProp</td>\n",
       "      <td>0.104497</td>\n",
       "    </tr>\n",
       "    <tr>\n",
       "      <th>2</th>\n",
       "      <td>unemploymentRate</td>\n",
       "      <td>0.091917</td>\n",
       "    </tr>\n",
       "    <tr>\n",
       "      <th>6</th>\n",
       "      <td>avgEmissionsPerCapita</td>\n",
       "      <td>0.070635</td>\n",
       "    </tr>\n",
       "    <tr>\n",
       "      <th>5</th>\n",
       "      <td>numDisasters</td>\n",
       "      <td>0.057306</td>\n",
       "    </tr>\n",
       "    <tr>\n",
       "      <th>4</th>\n",
       "      <td>tempDiff</td>\n",
       "      <td>0.055717</td>\n",
       "    </tr>\n",
       "    <tr>\n",
       "      <th>1</th>\n",
       "      <td>redCounty</td>\n",
       "      <td>0.020398</td>\n",
       "    </tr>\n",
       "  </tbody>\n",
       "</table>\n",
       "</div>"
      ],
      "text/plain": [
       "                  Feature  Importance\n",
       "0              population    0.308776\n",
       "8   medianHouseholdIncome    0.171767\n",
       "3             povertyProp    0.118985\n",
       "7  lessThanHighSchoolProp    0.104497\n",
       "2        unemploymentRate    0.091917\n",
       "6   avgEmissionsPerCapita    0.070635\n",
       "5            numDisasters    0.057306\n",
       "4                tempDiff    0.055717\n",
       "1               redCounty    0.020398"
      ]
     },
     "execution_count": 33,
     "metadata": {},
     "output_type": "execute_result"
    }
   ],
   "source": [
    "FitRandomForest(df_unfccc, y_var = 'hasAdaptations', X_vars = independent_variables) "
   ]
  },
  {
   "cell_type": "markdown",
   "metadata": {},
   "source": [
    "#### viii) hasRiskAssessments"
   ]
  },
  {
   "cell_type": "markdown",
   "metadata": {},
   "source": [
    "##### a) Logistic Regression"
   ]
  },
  {
   "cell_type": "code",
   "execution_count": 34,
   "metadata": {},
   "outputs": [
    {
     "name": "stdout",
     "output_type": "stream",
     "text": [
      "                           Logit Regression Results                           \n",
      "==============================================================================\n",
      "Dep. Variable:     hasRiskAssessments   No. Observations:                  197\n",
      "Model:                          Logit   Df Residuals:                      187\n",
      "Method:                           MLE   Df Model:                            9\n",
      "Date:                Wed, 17 Apr 2024   Pseudo R-squ.:                  0.1377\n",
      "Time:                        16:48:37   Log-Likelihood:                -117.48\n",
      "converged:                       True   LL-Null:                       -136.24\n",
      "Covariance Type:                  HC3   LLR p-value:                 2.128e-05\n",
      "==========================================================================================\n",
      "                             coef    std err          z      P>|z|      [0.025      0.975]\n",
      "------------------------------------------------------------------------------------------\n",
      "const                     -5.0770      1.940     -2.617      0.009      -8.879      -1.275\n",
      "population              8.596e-07   2.94e-07      2.927      0.003    2.84e-07    1.44e-06\n",
      "redCounty                 -0.2266      0.382     -0.593      0.553      -0.975       0.522\n",
      "unemploymentRate          17.4772     22.405      0.780      0.435     -26.435      61.389\n",
      "povertyProp                7.7847      6.938      1.122      0.262      -5.814      21.384\n",
      "tempDiff                   0.2023      0.191      1.058      0.290      -0.173       0.577\n",
      "numDisasters              -0.0019      0.002     -0.759      0.448      -0.007       0.003\n",
      "avgEmissionsPerCapita      0.0052      0.027      0.193      0.847      -0.047       0.058\n",
      "lessThanHighSchoolProp    -4.8573      5.622     -0.864      0.388     -15.876       6.161\n",
      "medianHouseholdIncome   5.057e-05    1.5e-05      3.372      0.001    2.12e-05       8e-05\n",
      "==========================================================================================\n"
     ]
    },
    {
     "name": "stderr",
     "output_type": "stream",
     "text": [
      "C:\\Users\\paulo\\AppData\\Local\\Temp\\ipykernel_24524\\985204587.py:21: FutureWarning: Passing literal html to 'read_html' is deprecated and will be removed in a future version. To read from a literal string, wrap it in a 'StringIO' object.\n",
      "  summary = pd.read_html(model.summary().tables[1].as_html(), header = 0, index_col = 0)[0]\n"
     ]
    }
   ],
   "source": [
    "FitLogistic(df_unfccc, y_var = 'hasRiskAssessments', X_vars = independent_variables, format = 'csv')"
   ]
  },
  {
   "cell_type": "code",
   "execution_count": 35,
   "metadata": {},
   "outputs": [
    {
     "name": "stdout",
     "output_type": "stream",
     "text": [
      " \n",
      "Best AIC: 245.06126170005405\n",
      " \n",
      "                           Logit Regression Results                           \n",
      "==============================================================================\n",
      "Dep. Variable:     hasRiskAssessments   No. Observations:                  197\n",
      "Model:                          Logit   Df Residuals:                      194\n",
      "Method:                           MLE   Df Model:                            2\n",
      "Date:                Wed, 17 Apr 2024   Pseudo R-squ.:                  0.1227\n",
      "Time:                        16:48:37   Log-Likelihood:                -119.53\n",
      "converged:                       True   LL-Null:                       -136.24\n",
      "Covariance Type:                  HC3   LLR p-value:                 5.521e-08\n",
      "=========================================================================================\n",
      "                            coef    std err          z      P>|z|      [0.025      0.975]\n",
      "-----------------------------------------------------------------------------------------\n",
      "const                    -2.7077      0.680     -3.984      0.000      -4.040      -1.376\n",
      "population             8.857e-07   3.04e-07      2.914      0.004     2.9e-07    1.48e-06\n",
      "medianHouseholdIncome  3.073e-05   8.43e-06      3.648      0.000    1.42e-05    4.72e-05\n",
      "=========================================================================================\n"
     ]
    },
    {
     "name": "stderr",
     "output_type": "stream",
     "text": [
      "C:\\Users\\paulo\\AppData\\Local\\Temp\\ipykernel_24524\\48646732.py:38: FutureWarning: Passing literal html to 'read_html' is deprecated and will be removed in a future version. To read from a literal string, wrap it in a 'StringIO' object.\n",
      "  summary = pd.read_html(best_model.summary().tables[1].as_html(), header = 0, index_col = 0)[0]\n"
     ]
    }
   ],
   "source": [
    "ForwardSelection(df = df_unfccc, y_var = 'hasRiskAssessments', vars_to_check = independent_variables, format = 'csv')"
   ]
  },
  {
   "cell_type": "markdown",
   "metadata": {},
   "source": [
    "##### b) Random Forest Classification"
   ]
  },
  {
   "cell_type": "code",
   "execution_count": 36,
   "metadata": {},
   "outputs": [
    {
     "data": {
      "text/html": [
       "<div>\n",
       "<style scoped>\n",
       "    .dataframe tbody tr th:only-of-type {\n",
       "        vertical-align: middle;\n",
       "    }\n",
       "\n",
       "    .dataframe tbody tr th {\n",
       "        vertical-align: top;\n",
       "    }\n",
       "\n",
       "    .dataframe thead th {\n",
       "        text-align: right;\n",
       "    }\n",
       "</style>\n",
       "<table border=\"1\" class=\"dataframe\">\n",
       "  <thead>\n",
       "    <tr style=\"text-align: right;\">\n",
       "      <th></th>\n",
       "      <th>Feature</th>\n",
       "      <th>Importance</th>\n",
       "    </tr>\n",
       "  </thead>\n",
       "  <tbody>\n",
       "    <tr>\n",
       "      <th>0</th>\n",
       "      <td>population</td>\n",
       "      <td>0.284671</td>\n",
       "    </tr>\n",
       "    <tr>\n",
       "      <th>8</th>\n",
       "      <td>medianHouseholdIncome</td>\n",
       "      <td>0.164368</td>\n",
       "    </tr>\n",
       "    <tr>\n",
       "      <th>3</th>\n",
       "      <td>povertyProp</td>\n",
       "      <td>0.123043</td>\n",
       "    </tr>\n",
       "    <tr>\n",
       "      <th>7</th>\n",
       "      <td>lessThanHighSchoolProp</td>\n",
       "      <td>0.115842</td>\n",
       "    </tr>\n",
       "    <tr>\n",
       "      <th>2</th>\n",
       "      <td>unemploymentRate</td>\n",
       "      <td>0.088592</td>\n",
       "    </tr>\n",
       "    <tr>\n",
       "      <th>4</th>\n",
       "      <td>tempDiff</td>\n",
       "      <td>0.073818</td>\n",
       "    </tr>\n",
       "    <tr>\n",
       "      <th>6</th>\n",
       "      <td>avgEmissionsPerCapita</td>\n",
       "      <td>0.071153</td>\n",
       "    </tr>\n",
       "    <tr>\n",
       "      <th>5</th>\n",
       "      <td>numDisasters</td>\n",
       "      <td>0.065764</td>\n",
       "    </tr>\n",
       "    <tr>\n",
       "      <th>1</th>\n",
       "      <td>redCounty</td>\n",
       "      <td>0.012749</td>\n",
       "    </tr>\n",
       "  </tbody>\n",
       "</table>\n",
       "</div>"
      ],
      "text/plain": [
       "                  Feature  Importance\n",
       "0              population    0.284671\n",
       "8   medianHouseholdIncome    0.164368\n",
       "3             povertyProp    0.123043\n",
       "7  lessThanHighSchoolProp    0.115842\n",
       "2        unemploymentRate    0.088592\n",
       "4                tempDiff    0.073818\n",
       "6   avgEmissionsPerCapita    0.071153\n",
       "5            numDisasters    0.065764\n",
       "1               redCounty    0.012749"
      ]
     },
     "execution_count": 36,
     "metadata": {},
     "output_type": "execute_result"
    }
   ],
   "source": [
    "FitRandomForest(df_unfccc, y_var = 'hasRiskAssessments', X_vars = independent_variables) "
   ]
  },
  {
   "cell_type": "markdown",
   "metadata": {},
   "source": [
    "#### ix) hasClimateActionPlans"
   ]
  },
  {
   "cell_type": "markdown",
   "metadata": {},
   "source": [
    "##### a) Logistic Regression"
   ]
  },
  {
   "cell_type": "code",
   "execution_count": 37,
   "metadata": {},
   "outputs": [
    {
     "name": "stdout",
     "output_type": "stream",
     "text": [
      "                             Logit Regression Results                            \n",
      "=================================================================================\n",
      "Dep. Variable:     hasClimateActionPlans   No. Observations:                  197\n",
      "Model:                             Logit   Df Residuals:                      187\n",
      "Method:                              MLE   Df Model:                            9\n",
      "Date:                   Wed, 17 Apr 2024   Pseudo R-squ.:                  0.1118\n",
      "Time:                           16:48:37   Log-Likelihood:                -111.58\n",
      "converged:                          True   LL-Null:                       -125.62\n",
      "Covariance Type:                     HC3   LLR p-value:                 0.0009235\n",
      "==========================================================================================\n",
      "                             coef    std err          z      P>|z|      [0.025      0.975]\n",
      "------------------------------------------------------------------------------------------\n",
      "const                     -2.3055      1.953     -1.180      0.238      -6.133       1.522\n",
      "population              1.011e-06   5.04e-07      2.008      0.045     2.4e-08       2e-06\n",
      "redCounty                 -0.0115      0.392     -0.029      0.977      -0.779       0.756\n",
      "unemploymentRate           8.1750     23.065      0.354      0.723     -37.032      53.382\n",
      "povertyProp                6.9503      6.769      1.027      0.305      -6.317      20.217\n",
      "tempDiff                  -0.0441      0.186     -0.238      0.812      -0.408       0.320\n",
      "numDisasters              -0.0017      0.003     -0.651      0.515      -0.007       0.003\n",
      "avgEmissionsPerCapita      0.0026      0.029      0.092      0.927      -0.054       0.059\n",
      "lessThanHighSchoolProp    -8.5117      5.717     -1.489      0.137     -19.717       2.694\n",
      "medianHouseholdIncome   3.122e-05   1.53e-05      2.043      0.041    1.26e-06    6.12e-05\n",
      "==========================================================================================\n"
     ]
    },
    {
     "name": "stderr",
     "output_type": "stream",
     "text": [
      "C:\\Users\\paulo\\AppData\\Local\\Temp\\ipykernel_24524\\985204587.py:21: FutureWarning: Passing literal html to 'read_html' is deprecated and will be removed in a future version. To read from a literal string, wrap it in a 'StringIO' object.\n",
      "  summary = pd.read_html(model.summary().tables[1].as_html(), header = 0, index_col = 0)[0]\n"
     ]
    }
   ],
   "source": [
    "FitLogistic(df_unfccc, y_var = 'hasClimateActionPlans', X_vars = independent_variables, format = 'csv')"
   ]
  },
  {
   "cell_type": "code",
   "execution_count": 38,
   "metadata": {},
   "outputs": [
    {
     "name": "stdout",
     "output_type": "stream",
     "text": [
      " \n",
      "Best AIC: 232.7526244018722\n",
      " \n",
      "                             Logit Regression Results                            \n",
      "=================================================================================\n",
      "Dep. Variable:     hasClimateActionPlans   No. Observations:                  197\n",
      "Model:                             Logit   Df Residuals:                      193\n",
      "Method:                              MLE   Df Model:                            3\n",
      "Date:                   Wed, 17 Apr 2024   Pseudo R-squ.:                  0.1054\n",
      "Time:                           16:48:37   Log-Likelihood:                -112.38\n",
      "converged:                          True   LL-Null:                       -125.62\n",
      "Covariance Type:                     HC3   LLR p-value:                 7.517e-06\n",
      "==========================================================================================\n",
      "                             coef    std err          z      P>|z|      [0.025      0.975]\n",
      "------------------------------------------------------------------------------------------\n",
      "const                     -0.2797      0.846     -0.331      0.741      -1.938       1.378\n",
      "population              1.039e-06   5.03e-07      2.064      0.039    5.21e-08    2.02e-06\n",
      "lessThanHighSchoolProp    -8.0954      3.861     -2.097      0.036     -15.663      -0.528\n",
      "medianHouseholdIncome   1.707e-05   8.73e-06      1.956      0.050   -3.61e-08    3.42e-05\n",
      "==========================================================================================\n"
     ]
    },
    {
     "name": "stderr",
     "output_type": "stream",
     "text": [
      "C:\\Users\\paulo\\AppData\\Local\\Temp\\ipykernel_24524\\48646732.py:38: FutureWarning: Passing literal html to 'read_html' is deprecated and will be removed in a future version. To read from a literal string, wrap it in a 'StringIO' object.\n",
      "  summary = pd.read_html(best_model.summary().tables[1].as_html(), header = 0, index_col = 0)[0]\n"
     ]
    }
   ],
   "source": [
    "ForwardSelection(df = df_unfccc, y_var = 'hasClimateActionPlans', vars_to_check = independent_variables, format = 'csv')"
   ]
  },
  {
   "cell_type": "markdown",
   "metadata": {},
   "source": [
    "##### b) Random Forest Classification"
   ]
  },
  {
   "cell_type": "code",
   "execution_count": 39,
   "metadata": {},
   "outputs": [
    {
     "data": {
      "text/html": [
       "<div>\n",
       "<style scoped>\n",
       "    .dataframe tbody tr th:only-of-type {\n",
       "        vertical-align: middle;\n",
       "    }\n",
       "\n",
       "    .dataframe tbody tr th {\n",
       "        vertical-align: top;\n",
       "    }\n",
       "\n",
       "    .dataframe thead th {\n",
       "        text-align: right;\n",
       "    }\n",
       "</style>\n",
       "<table border=\"1\" class=\"dataframe\">\n",
       "  <thead>\n",
       "    <tr style=\"text-align: right;\">\n",
       "      <th></th>\n",
       "      <th>Feature</th>\n",
       "      <th>Importance</th>\n",
       "    </tr>\n",
       "  </thead>\n",
       "  <tbody>\n",
       "    <tr>\n",
       "      <th>0</th>\n",
       "      <td>population</td>\n",
       "      <td>0.315853</td>\n",
       "    </tr>\n",
       "    <tr>\n",
       "      <th>8</th>\n",
       "      <td>medianHouseholdIncome</td>\n",
       "      <td>0.146666</td>\n",
       "    </tr>\n",
       "    <tr>\n",
       "      <th>7</th>\n",
       "      <td>lessThanHighSchoolProp</td>\n",
       "      <td>0.110314</td>\n",
       "    </tr>\n",
       "    <tr>\n",
       "      <th>3</th>\n",
       "      <td>povertyProp</td>\n",
       "      <td>0.103286</td>\n",
       "    </tr>\n",
       "    <tr>\n",
       "      <th>4</th>\n",
       "      <td>tempDiff</td>\n",
       "      <td>0.086231</td>\n",
       "    </tr>\n",
       "    <tr>\n",
       "      <th>2</th>\n",
       "      <td>unemploymentRate</td>\n",
       "      <td>0.082003</td>\n",
       "    </tr>\n",
       "    <tr>\n",
       "      <th>5</th>\n",
       "      <td>numDisasters</td>\n",
       "      <td>0.069453</td>\n",
       "    </tr>\n",
       "    <tr>\n",
       "      <th>6</th>\n",
       "      <td>avgEmissionsPerCapita</td>\n",
       "      <td>0.066881</td>\n",
       "    </tr>\n",
       "    <tr>\n",
       "      <th>1</th>\n",
       "      <td>redCounty</td>\n",
       "      <td>0.019312</td>\n",
       "    </tr>\n",
       "  </tbody>\n",
       "</table>\n",
       "</div>"
      ],
      "text/plain": [
       "                  Feature  Importance\n",
       "0              population    0.315853\n",
       "8   medianHouseholdIncome    0.146666\n",
       "7  lessThanHighSchoolProp    0.110314\n",
       "3             povertyProp    0.103286\n",
       "4                tempDiff    0.086231\n",
       "2        unemploymentRate    0.082003\n",
       "5            numDisasters    0.069453\n",
       "6   avgEmissionsPerCapita    0.066881\n",
       "1               redCounty    0.019312"
      ]
     },
     "execution_count": 39,
     "metadata": {},
     "output_type": "execute_result"
    }
   ],
   "source": [
    "FitRandomForest(df_unfccc, y_var = 'hasClimateActionPlans', X_vars = independent_variables) "
   ]
  },
  {
   "cell_type": "markdown",
   "metadata": {},
   "source": [
    "#### x) hasFinanceActions"
   ]
  },
  {
   "cell_type": "markdown",
   "metadata": {},
   "source": [
    "##### a) Logistic Regression"
   ]
  },
  {
   "cell_type": "code",
   "execution_count": 40,
   "metadata": {},
   "outputs": [
    {
     "name": "stdout",
     "output_type": "stream",
     "text": [
      "                           Logit Regression Results                           \n",
      "==============================================================================\n",
      "Dep. Variable:      hasFinanceActions   No. Observations:                  197\n",
      "Model:                          Logit   Df Residuals:                      187\n",
      "Method:                           MLE   Df Model:                            9\n",
      "Date:                Wed, 17 Apr 2024   Pseudo R-squ.:                  0.1239\n",
      "Time:                        16:48:38   Log-Likelihood:                -46.467\n",
      "converged:                       True   LL-Null:                       -53.041\n",
      "Covariance Type:                  HC3   LLR p-value:                    0.1560\n",
      "==========================================================================================\n",
      "                             coef    std err          z      P>|z|      [0.025      0.975]\n",
      "------------------------------------------------------------------------------------------\n",
      "const                     -4.6114      3.559     -1.296      0.195     -11.586       2.363\n",
      "population              2.886e-07   1.95e-07      1.481      0.139   -9.34e-08    6.71e-07\n",
      "redCounty                  0.4928      0.633      0.779      0.436      -0.747       1.733\n",
      "unemploymentRate          83.9648     51.545      1.629      0.103     -17.061     184.990\n",
      "povertyProp                8.0701     11.462      0.704      0.481     -14.396      30.536\n",
      "tempDiff                   0.4548      0.445      1.023      0.306      -0.417       1.326\n",
      "numDisasters               0.0060      0.004      1.617      0.106      -0.001       0.013\n",
      "avgEmissionsPerCapita     -0.0514      0.056     -0.915      0.360      -0.161       0.059\n",
      "lessThanHighSchoolProp   -26.3168     12.799     -2.056      0.040     -51.403      -1.231\n",
      "medianHouseholdIncome   2.776e-06   2.74e-05      0.101      0.919   -5.09e-05    5.64e-05\n",
      "==========================================================================================\n"
     ]
    },
    {
     "name": "stderr",
     "output_type": "stream",
     "text": [
      "C:\\Users\\paulo\\AppData\\Local\\Temp\\ipykernel_24524\\985204587.py:21: FutureWarning: Passing literal html to 'read_html' is deprecated and will be removed in a future version. To read from a literal string, wrap it in a 'StringIO' object.\n",
      "  summary = pd.read_html(model.summary().tables[1].as_html(), header = 0, index_col = 0)[0]\n"
     ]
    }
   ],
   "source": [
    "FitLogistic(df_unfccc, y_var = 'hasFinanceActions', X_vars = independent_variables, format = 'csv')"
   ]
  },
  {
   "cell_type": "code",
   "execution_count": 41,
   "metadata": {},
   "outputs": [
    {
     "name": "stdout",
     "output_type": "stream",
     "text": [
      " \n",
      "Best AIC: 104.05154001823144\n",
      " \n",
      "                           Logit Regression Results                           \n",
      "==============================================================================\n",
      "Dep. Variable:      hasFinanceActions   No. Observations:                  197\n",
      "Model:                          Logit   Df Residuals:                      195\n",
      "Method:                           MLE   Df Model:                            1\n",
      "Date:                Wed, 17 Apr 2024   Pseudo R-squ.:                 0.05685\n",
      "Time:                        16:48:38   Log-Likelihood:                -50.026\n",
      "converged:                       True   LL-Null:                       -53.041\n",
      "Covariance Type:                  HC3   LLR p-value:                   0.01406\n",
      "==============================================================================\n",
      "                 coef    std err          z      P>|z|      [0.025      0.975]\n",
      "------------------------------------------------------------------------------\n",
      "const         -2.7623      0.305     -9.061      0.000      -3.360      -2.165\n",
      "population  2.215e-07   1.41e-07      1.567      0.117   -5.56e-08    4.99e-07\n",
      "==============================================================================\n"
     ]
    },
    {
     "name": "stderr",
     "output_type": "stream",
     "text": [
      "C:\\Users\\paulo\\AppData\\Local\\Temp\\ipykernel_24524\\48646732.py:38: FutureWarning: Passing literal html to 'read_html' is deprecated and will be removed in a future version. To read from a literal string, wrap it in a 'StringIO' object.\n",
      "  summary = pd.read_html(best_model.summary().tables[1].as_html(), header = 0, index_col = 0)[0]\n"
     ]
    }
   ],
   "source": [
    "ForwardSelection(df = df_unfccc, y_var = 'hasFinanceActions', vars_to_check = independent_variables, format = 'csv')"
   ]
  },
  {
   "cell_type": "markdown",
   "metadata": {},
   "source": [
    "##### b) Random Forest Classification"
   ]
  },
  {
   "cell_type": "code",
   "execution_count": 42,
   "metadata": {},
   "outputs": [
    {
     "data": {
      "text/html": [
       "<div>\n",
       "<style scoped>\n",
       "    .dataframe tbody tr th:only-of-type {\n",
       "        vertical-align: middle;\n",
       "    }\n",
       "\n",
       "    .dataframe tbody tr th {\n",
       "        vertical-align: top;\n",
       "    }\n",
       "\n",
       "    .dataframe thead th {\n",
       "        text-align: right;\n",
       "    }\n",
       "</style>\n",
       "<table border=\"1\" class=\"dataframe\">\n",
       "  <thead>\n",
       "    <tr style=\"text-align: right;\">\n",
       "      <th></th>\n",
       "      <th>Feature</th>\n",
       "      <th>Importance</th>\n",
       "    </tr>\n",
       "  </thead>\n",
       "  <tbody>\n",
       "    <tr>\n",
       "      <th>0</th>\n",
       "      <td>population</td>\n",
       "      <td>0.296385</td>\n",
       "    </tr>\n",
       "    <tr>\n",
       "      <th>2</th>\n",
       "      <td>unemploymentRate</td>\n",
       "      <td>0.146985</td>\n",
       "    </tr>\n",
       "    <tr>\n",
       "      <th>4</th>\n",
       "      <td>tempDiff</td>\n",
       "      <td>0.111565</td>\n",
       "    </tr>\n",
       "    <tr>\n",
       "      <th>8</th>\n",
       "      <td>medianHouseholdIncome</td>\n",
       "      <td>0.111393</td>\n",
       "    </tr>\n",
       "    <tr>\n",
       "      <th>7</th>\n",
       "      <td>lessThanHighSchoolProp</td>\n",
       "      <td>0.105282</td>\n",
       "    </tr>\n",
       "    <tr>\n",
       "      <th>3</th>\n",
       "      <td>povertyProp</td>\n",
       "      <td>0.099258</td>\n",
       "    </tr>\n",
       "    <tr>\n",
       "      <th>5</th>\n",
       "      <td>numDisasters</td>\n",
       "      <td>0.077918</td>\n",
       "    </tr>\n",
       "    <tr>\n",
       "      <th>6</th>\n",
       "      <td>avgEmissionsPerCapita</td>\n",
       "      <td>0.044375</td>\n",
       "    </tr>\n",
       "    <tr>\n",
       "      <th>1</th>\n",
       "      <td>redCounty</td>\n",
       "      <td>0.006839</td>\n",
       "    </tr>\n",
       "  </tbody>\n",
       "</table>\n",
       "</div>"
      ],
      "text/plain": [
       "                  Feature  Importance\n",
       "0              population    0.296385\n",
       "2        unemploymentRate    0.146985\n",
       "4                tempDiff    0.111565\n",
       "8   medianHouseholdIncome    0.111393\n",
       "7  lessThanHighSchoolProp    0.105282\n",
       "3             povertyProp    0.099258\n",
       "5            numDisasters    0.077918\n",
       "6   avgEmissionsPerCapita    0.044375\n",
       "1               redCounty    0.006839"
      ]
     },
     "execution_count": 42,
     "metadata": {},
     "output_type": "execute_result"
    }
   ],
   "source": [
    "FitRandomForest(df_unfccc, y_var = 'hasFinanceActions', X_vars = independent_variables) "
   ]
  },
  {
   "cell_type": "markdown",
   "metadata": {},
   "source": [
    "### Combine Results"
   ]
  },
  {
   "cell_type": "code",
   "execution_count": 59,
   "metadata": {},
   "outputs": [
    {
     "data": {
      "text/html": [
       "<div>\n",
       "<style scoped>\n",
       "    .dataframe tbody tr th:only-of-type {\n",
       "        vertical-align: middle;\n",
       "    }\n",
       "\n",
       "    .dataframe tbody tr th {\n",
       "        vertical-align: top;\n",
       "    }\n",
       "\n",
       "    .dataframe thead th {\n",
       "        text-align: right;\n",
       "    }\n",
       "</style>\n",
       "<table border=\"1\" class=\"dataframe\">\n",
       "  <thead>\n",
       "    <tr style=\"text-align: right;\">\n",
       "      <th></th>\n",
       "      <th>Feature</th>\n",
       "      <th>hasCommitments</th>\n",
       "      <th>hasActionsUndertaken</th>\n",
       "      <th>hasEmissionInventory</th>\n",
       "      <th>hasInitiativeParticipations</th>\n",
       "      <th>hasImpact</th>\n",
       "      <th>hasMitigations</th>\n",
       "      <th>hasAdaptations</th>\n",
       "      <th>hasRiskAssessments</th>\n",
       "      <th>hasClimateActionPlans</th>\n",
       "      <th>hasFinanceActions</th>\n",
       "    </tr>\n",
       "  </thead>\n",
       "  <tbody>\n",
       "    <tr>\n",
       "      <th>0</th>\n",
       "      <td>population</td>\n",
       "      <td>0.290024</td>\n",
       "      <td>0.337284</td>\n",
       "      <td>0.328372</td>\n",
       "      <td>0.268289</td>\n",
       "      <td>0.272521</td>\n",
       "      <td>0.296527</td>\n",
       "      <td>0.317405</td>\n",
       "      <td>0.294720</td>\n",
       "      <td>0.321969</td>\n",
       "      <td>0.262324</td>\n",
       "    </tr>\n",
       "    <tr>\n",
       "      <th>1</th>\n",
       "      <td>medianHouseholdIncome</td>\n",
       "      <td>0.142393</td>\n",
       "      <td>0.184740</td>\n",
       "      <td>0.144316</td>\n",
       "      <td>0.117391</td>\n",
       "      <td>0.117095</td>\n",
       "      <td>0.172446</td>\n",
       "      <td>0.161035</td>\n",
       "      <td>0.171207</td>\n",
       "      <td>0.139215</td>\n",
       "      <td>0.108348</td>\n",
       "    </tr>\n",
       "    <tr>\n",
       "      <th>2</th>\n",
       "      <td>lessThanHighSchoolProp</td>\n",
       "      <td>0.121489</td>\n",
       "      <td>0.103761</td>\n",
       "      <td>0.126590</td>\n",
       "      <td>0.100367</td>\n",
       "      <td>0.138350</td>\n",
       "      <td>0.110257</td>\n",
       "      <td>0.102552</td>\n",
       "      <td>0.105832</td>\n",
       "      <td>0.103463</td>\n",
       "      <td>0.146467</td>\n",
       "    </tr>\n",
       "    <tr>\n",
       "      <th>3</th>\n",
       "      <td>povertyProp</td>\n",
       "      <td>0.117586</td>\n",
       "      <td>0.118834</td>\n",
       "      <td>0.100342</td>\n",
       "      <td>0.106541</td>\n",
       "      <td>0.150589</td>\n",
       "      <td>0.105076</td>\n",
       "      <td>0.117346</td>\n",
       "      <td>0.121873</td>\n",
       "      <td>0.095634</td>\n",
       "      <td>0.082847</td>\n",
       "    </tr>\n",
       "    <tr>\n",
       "      <th>4</th>\n",
       "      <td>unemploymentRate</td>\n",
       "      <td>0.099375</td>\n",
       "      <td>0.072497</td>\n",
       "      <td>0.095997</td>\n",
       "      <td>0.099753</td>\n",
       "      <td>0.137099</td>\n",
       "      <td>0.084630</td>\n",
       "      <td>0.084717</td>\n",
       "      <td>0.091063</td>\n",
       "      <td>0.095919</td>\n",
       "      <td>0.129962</td>\n",
       "    </tr>\n",
       "    <tr>\n",
       "      <th>5</th>\n",
       "      <td>avgEmissionsPerCapita</td>\n",
       "      <td>0.088853</td>\n",
       "      <td>0.067258</td>\n",
       "      <td>0.075001</td>\n",
       "      <td>0.088265</td>\n",
       "      <td>0.056117</td>\n",
       "      <td>0.076096</td>\n",
       "      <td>0.074745</td>\n",
       "      <td>0.071182</td>\n",
       "      <td>0.087331</td>\n",
       "      <td>0.047186</td>\n",
       "    </tr>\n",
       "    <tr>\n",
       "      <th>6</th>\n",
       "      <td>tempDiff</td>\n",
       "      <td>0.068714</td>\n",
       "      <td>0.047659</td>\n",
       "      <td>0.056731</td>\n",
       "      <td>0.096381</td>\n",
       "      <td>0.051822</td>\n",
       "      <td>0.072991</td>\n",
       "      <td>0.062833</td>\n",
       "      <td>0.068076</td>\n",
       "      <td>0.070003</td>\n",
       "      <td>0.131262</td>\n",
       "    </tr>\n",
       "    <tr>\n",
       "      <th>7</th>\n",
       "      <td>numDisasters</td>\n",
       "      <td>0.056134</td>\n",
       "      <td>0.055633</td>\n",
       "      <td>0.061826</td>\n",
       "      <td>0.092691</td>\n",
       "      <td>0.066608</td>\n",
       "      <td>0.069418</td>\n",
       "      <td>0.060576</td>\n",
       "      <td>0.066458</td>\n",
       "      <td>0.068926</td>\n",
       "      <td>0.077911</td>\n",
       "    </tr>\n",
       "    <tr>\n",
       "      <th>8</th>\n",
       "      <td>redCounty</td>\n",
       "      <td>0.015434</td>\n",
       "      <td>0.012333</td>\n",
       "      <td>0.010825</td>\n",
       "      <td>0.030323</td>\n",
       "      <td>0.009799</td>\n",
       "      <td>0.012558</td>\n",
       "      <td>0.018790</td>\n",
       "      <td>0.009589</td>\n",
       "      <td>0.017541</td>\n",
       "      <td>0.013692</td>\n",
       "    </tr>\n",
       "  </tbody>\n",
       "</table>\n",
       "</div>"
      ],
      "text/plain": [
       "                  Feature  hasCommitments  hasActionsUndertaken  \\\n",
       "0              population        0.290024              0.337284   \n",
       "1   medianHouseholdIncome        0.142393              0.184740   \n",
       "2  lessThanHighSchoolProp        0.121489              0.103761   \n",
       "3             povertyProp        0.117586              0.118834   \n",
       "4        unemploymentRate        0.099375              0.072497   \n",
       "5   avgEmissionsPerCapita        0.088853              0.067258   \n",
       "6                tempDiff        0.068714              0.047659   \n",
       "7            numDisasters        0.056134              0.055633   \n",
       "8               redCounty        0.015434              0.012333   \n",
       "\n",
       "   hasEmissionInventory  hasInitiativeParticipations  hasImpact  \\\n",
       "0              0.328372                     0.268289   0.272521   \n",
       "1              0.144316                     0.117391   0.117095   \n",
       "2              0.126590                     0.100367   0.138350   \n",
       "3              0.100342                     0.106541   0.150589   \n",
       "4              0.095997                     0.099753   0.137099   \n",
       "5              0.075001                     0.088265   0.056117   \n",
       "6              0.056731                     0.096381   0.051822   \n",
       "7              0.061826                     0.092691   0.066608   \n",
       "8              0.010825                     0.030323   0.009799   \n",
       "\n",
       "   hasMitigations  hasAdaptations  hasRiskAssessments  hasClimateActionPlans  \\\n",
       "0        0.296527        0.317405            0.294720               0.321969   \n",
       "1        0.172446        0.161035            0.171207               0.139215   \n",
       "2        0.110257        0.102552            0.105832               0.103463   \n",
       "3        0.105076        0.117346            0.121873               0.095634   \n",
       "4        0.084630        0.084717            0.091063               0.095919   \n",
       "5        0.076096        0.074745            0.071182               0.087331   \n",
       "6        0.072991        0.062833            0.068076               0.070003   \n",
       "7        0.069418        0.060576            0.066458               0.068926   \n",
       "8        0.012558        0.018790            0.009589               0.017541   \n",
       "\n",
       "   hasFinanceActions  \n",
       "0           0.262324  \n",
       "1           0.108348  \n",
       "2           0.146467  \n",
       "3           0.082847  \n",
       "4           0.129962  \n",
       "5           0.047186  \n",
       "6           0.131262  \n",
       "7           0.077911  \n",
       "8           0.013692  "
      ]
     },
     "execution_count": 59,
     "metadata": {},
     "output_type": "execute_result"
    }
   ],
   "source": [
    "results = FitRandomForest(df_unfccc, y_var = 'hasCommitments', X_vars = independent_variables)\n",
    "results.rename(columns = {results.columns[1]: 'hasCommitments'}, inplace = True) \n",
    "\n",
    "for var in ['hasActionsUndertaken','hasEmissionInventory','hasInitiativeParticipations','hasImpact','hasMitigations','hasAdaptations','hasRiskAssessments','hasClimateActionPlans', 'hasFinanceActions']:\n",
    "    result = FitRandomForest(df_unfccc, y_var = var, X_vars = independent_variables) \n",
    "    result.rename(columns = {result.columns[1]: var}, inplace = True)\n",
    "    results = pd.merge(results, result, how = 'left', on = 'Feature')\n",
    "\n",
    "results.to_csv('Results/Feature_Importances.csv', index = False)\n",
    "results"
   ]
  },
  {
   "cell_type": "code",
   "execution_count": 58,
   "metadata": {},
   "outputs": [
    {
     "name": "stdout",
     "output_type": "stream",
     "text": [
      " \n",
      "Best AIC: 205.95133559257675\n",
      " \n",
      " \n",
      "Best AIC: 149.90686314892724\n",
      " \n",
      " \n",
      "Best AIC: 230.9334041402301\n",
      " \n",
      " \n",
      "Best AIC: 178.22869681211463\n",
      " \n",
      " \n",
      "Best AIC: 78.25775360746783\n",
      " \n",
      " \n",
      "Best AIC: 181.54821795245488\n",
      " \n",
      " \n",
      "Best AIC: 219.6236800370598\n",
      " \n",
      " \n",
      "Best AIC: 245.06126170005405\n",
      " \n",
      " \n",
      "Best AIC: 232.7526244018722\n",
      " \n",
      " \n",
      "Best AIC: 104.05154001823144\n",
      " \n"
     ]
    },
    {
     "data": {
      "text/html": [
       "<div>\n",
       "<style scoped>\n",
       "    .dataframe tbody tr th:only-of-type {\n",
       "        vertical-align: middle;\n",
       "    }\n",
       "\n",
       "    .dataframe tbody tr th {\n",
       "        vertical-align: top;\n",
       "    }\n",
       "\n",
       "    .dataframe thead th {\n",
       "        text-align: right;\n",
       "    }\n",
       "</style>\n",
       "<table border=\"1\" class=\"dataframe\">\n",
       "  <thead>\n",
       "    <tr style=\"text-align: right;\">\n",
       "      <th></th>\n",
       "      <th>hasCommitments</th>\n",
       "      <th>hasActionsUndertaken</th>\n",
       "      <th>hasEmissionInventory</th>\n",
       "      <th>hasInitiativeParticipations</th>\n",
       "      <th>hasImpact</th>\n",
       "      <th>hasMitigations</th>\n",
       "      <th>hasAdaptations</th>\n",
       "      <th>hasRiskAssessments</th>\n",
       "      <th>hasClimateActionPlans</th>\n",
       "      <th>hasFinanceActions</th>\n",
       "    </tr>\n",
       "  </thead>\n",
       "  <tbody>\n",
       "    <tr>\n",
       "      <th>Full Model AIC</th>\n",
       "      <td>216.232072</td>\n",
       "      <td>157.532704</td>\n",
       "      <td>239.393335</td>\n",
       "      <td>183.407443</td>\n",
       "      <td>89.821446</td>\n",
       "      <td>188.626997</td>\n",
       "      <td>226.665619</td>\n",
       "      <td>254.968647</td>\n",
       "      <td>243.161979</td>\n",
       "      <td>112.934162</td>\n",
       "    </tr>\n",
       "    <tr>\n",
       "      <th>Full Model BIC</th>\n",
       "      <td>249.064109</td>\n",
       "      <td>190.364741</td>\n",
       "      <td>272.225372</td>\n",
       "      <td>216.239480</td>\n",
       "      <td>122.653483</td>\n",
       "      <td>221.459034</td>\n",
       "      <td>259.497657</td>\n",
       "      <td>287.800684</td>\n",
       "      <td>275.994016</td>\n",
       "      <td>145.766199</td>\n",
       "    </tr>\n",
       "    <tr>\n",
       "      <th>Forward Selection AIC</th>\n",
       "      <td>205.951336</td>\n",
       "      <td>149.906863</td>\n",
       "      <td>230.933404</td>\n",
       "      <td>178.228697</td>\n",
       "      <td>78.257754</td>\n",
       "      <td>181.548218</td>\n",
       "      <td>219.623680</td>\n",
       "      <td>245.061262</td>\n",
       "      <td>232.752624</td>\n",
       "      <td>104.051540</td>\n",
       "    </tr>\n",
       "    <tr>\n",
       "      <th>Forward Selection BIC</th>\n",
       "      <td>219.084151</td>\n",
       "      <td>169.606086</td>\n",
       "      <td>247.349423</td>\n",
       "      <td>188.078308</td>\n",
       "      <td>91.390569</td>\n",
       "      <td>197.964237</td>\n",
       "      <td>232.756495</td>\n",
       "      <td>254.910873</td>\n",
       "      <td>245.885439</td>\n",
       "      <td>110.617947</td>\n",
       "    </tr>\n",
       "  </tbody>\n",
       "</table>\n",
       "</div>"
      ],
      "text/plain": [
       "                       hasCommitments  hasActionsUndertaken  \\\n",
       "Full Model AIC             216.232072            157.532704   \n",
       "Full Model BIC             249.064109            190.364741   \n",
       "Forward Selection AIC      205.951336            149.906863   \n",
       "Forward Selection BIC      219.084151            169.606086   \n",
       "\n",
       "                       hasEmissionInventory  hasInitiativeParticipations  \\\n",
       "Full Model AIC                   239.393335                   183.407443   \n",
       "Full Model BIC                   272.225372                   216.239480   \n",
       "Forward Selection AIC            230.933404                   178.228697   \n",
       "Forward Selection BIC            247.349423                   188.078308   \n",
       "\n",
       "                        hasImpact  hasMitigations  hasAdaptations  \\\n",
       "Full Model AIC          89.821446      188.626997      226.665619   \n",
       "Full Model BIC         122.653483      221.459034      259.497657   \n",
       "Forward Selection AIC   78.257754      181.548218      219.623680   \n",
       "Forward Selection BIC   91.390569      197.964237      232.756495   \n",
       "\n",
       "                       hasRiskAssessments  hasClimateActionPlans  \\\n",
       "Full Model AIC                 254.968647             243.161979   \n",
       "Full Model BIC                 287.800684             275.994016   \n",
       "Forward Selection AIC          245.061262             232.752624   \n",
       "Forward Selection BIC          254.910873             245.885439   \n",
       "\n",
       "                       hasFinanceActions  \n",
       "Full Model AIC                112.934162  \n",
       "Full Model BIC                145.766199  \n",
       "Forward Selection AIC         104.051540  \n",
       "Forward Selection BIC         110.617947  "
      ]
     },
     "execution_count": 58,
     "metadata": {},
     "output_type": "execute_result"
    }
   ],
   "source": [
    "results = {}\n",
    "\n",
    "for var in ['hasCommitments','hasActionsUndertaken','hasEmissionInventory','hasInitiativeParticipations','hasImpact','hasMitigations','hasAdaptations','hasRiskAssessments','hasClimateActionPlans', 'hasFinanceActions']:\n",
    "    fm = FitLogistic(df_unfccc, y_var = var, X_vars = independent_variables, format = 'model')\n",
    "    fs = ForwardSelection(df_unfccc, y_var = var, vars_to_check = independent_variables, format = 'model')\n",
    "    results[var] = [fm.aic, fm.bic, fs.aic, fs.bic]\n",
    "\n",
    "results = pd.DataFrame(results, index = ['Full Model AIC', 'Full Model BIC', 'Forward Selection AIC', 'Forward Selection BIC'])\n",
    "results.to_csv('Results/Information_Criterion.csv')\n",
    "results"
   ]
  }
 ],
 "metadata": {
  "kernelspec": {
   "display_name": "Python 3",
   "language": "python",
   "name": "python3"
  },
  "language_info": {
   "codemirror_mode": {
    "name": "ipython",
    "version": 3
   },
   "file_extension": ".py",
   "mimetype": "text/x-python",
   "name": "python",
   "nbconvert_exporter": "python",
   "pygments_lexer": "ipython3",
   "version": "3.12.3"
  }
 },
 "nbformat": 4,
 "nbformat_minor": 2
}

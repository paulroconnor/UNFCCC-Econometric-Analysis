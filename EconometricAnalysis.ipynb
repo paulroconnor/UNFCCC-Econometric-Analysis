{
 "cells": [
  {
   "cell_type": "markdown",
   "metadata": {},
   "source": [
    "# Econometric UNFCCC Green Cities Commitment Analysis: USA\n",
    "## Econometric Analysis"
   ]
  },
  {
   "cell_type": "code",
   "execution_count": 1,
   "metadata": {},
   "outputs": [
    {
     "name": "stderr",
     "output_type": "stream",
     "text": [
      "C:\\Users\\paulo\\AppData\\Local\\Packages\\PythonSoftwareFoundation.Python.3.12_qbz5n2kfra8p0\\LocalCache\\local-packages\\Python312\\site-packages\\tqdm\\auto.py:21: TqdmWarning: IProgress not found. Please update jupyter and ipywidgets. See https://ipywidgets.readthedocs.io/en/stable/user_install.html\n",
      "  from .autonotebook import tqdm as notebook_tqdm\n"
     ]
    }
   ],
   "source": [
    "import pandas as pd\n",
    "import numpy as np\n",
    "import statsmodels.api as sm\n",
    "from sklearn.ensemble import RandomForestClassifier"
   ]
  },
  {
   "cell_type": "markdown",
   "metadata": {},
   "source": [
    "### 1. Load and Prepare Data"
   ]
  },
  {
   "cell_type": "code",
   "execution_count": 2,
   "metadata": {},
   "outputs": [],
   "source": [
    "df_all = pd.read_csv('allcities.csv')\n",
    "df_unfccc = pd.read_csv('UNFCCC.csv')"
   ]
  },
  {
   "cell_type": "code",
   "execution_count": 3,
   "metadata": {},
   "outputs": [],
   "source": [
    "def BooltoZeroOne(df):\n",
    "    for column in df.columns:\n",
    "        if df[column].dtype == bool:\n",
    "            df[column] = df[column].astype(int)"
   ]
  },
  {
   "cell_type": "code",
   "execution_count": 4,
   "metadata": {},
   "outputs": [],
   "source": [
    "BooltoZeroOne(df_all)\n",
    "BooltoZeroOne(df_unfccc)"
   ]
  },
  {
   "cell_type": "markdown",
   "metadata": {},
   "source": [
    "### 2. Define Model Fitting Functions"
   ]
  },
  {
   "cell_type": "code",
   "execution_count": 60,
   "metadata": {},
   "outputs": [],
   "source": [
    "def FitLogistic(df, y_var, X_vars, format = 'return', constant = True):\n",
    "    df = df.dropna()\n",
    "\n",
    "    X = df[X_vars]\n",
    "    if constant:\n",
    "        X = sm.add_constant(X)\n",
    "\n",
    "    y = df[y_var]\n",
    "\n",
    "    model = sm.Logit(y, X).fit(cov_type = 'HC3', disp = False)\n",
    "\n",
    "    if format == 'return'\n",
    "        return model.summary()\n",
    "    elif format == 'print':\n",
    "        print(model.summary())\n",
    "    elif format == 'model':\n",
    "        return model"
   ]
  },
  {
   "cell_type": "code",
   "execution_count": 75,
   "metadata": {},
   "outputs": [],
   "source": [
    "def FitRandomForest(df, y_var, X_vars, format = 'importance'):\n",
    "    df = df.dropna()\n",
    "\n",
    "    X = df[X_vars]\n",
    "\n",
    "    y = df[y_var]\n",
    "\n",
    "    rf = RandomForestClassifier()\n",
    "    model = rf.fit(X, y)\n",
    "\n",
    "    if format == 'importance':\n",
    "\n",
    "        return pd.DataFrame({\n",
    "            'Feature':X_vars,\n",
    "            'Importance':model.feature_importances_\n",
    "        }).sort_values(by = 'Importance', ascending = False)\n",
    "    \n",
    "    elif format == 'model':\n",
    "        return model"
   ]
  },
  {
   "cell_type": "markdown",
   "metadata": {},
   "source": [
    "### 3. Analysing Determinants of Cities to Sign up to the UNFCC"
   ]
  },
  {
   "cell_type": "markdown",
   "metadata": {},
   "source": [
    "##### a) Logistic Regression"
   ]
  },
  {
   "cell_type": "code",
   "execution_count": 63,
   "metadata": {},
   "outputs": [
    {
     "name": "stderr",
     "output_type": "stream",
     "text": [
      "C:\\Users\\paulo\\AppData\\Local\\Temp\\ipykernel_12320\\3353378975.py:5: FutureWarning: The behavior of DataFrame concatenation with empty or all-NA entries is deprecated. In a future version, this will no longer exclude empty or all-NA columns when determining the result dtypes. To retain the old behavior, exclude the relevant entries before the concat operation.\n",
      "  df = pd.concat([df, pd.DataFrame([[vars[i], lr.params.iloc[1], lr.pvalues.iloc[1], lr.aic, lr.bic]], columns =  ['Variable','Coefficient','P-Value','AIC','BIC']).dropna(axis = 1)], ignore_index=True)\n"
     ]
    },
    {
     "data": {
      "text/html": [
       "<div>\n",
       "<style scoped>\n",
       "    .dataframe tbody tr th:only-of-type {\n",
       "        vertical-align: middle;\n",
       "    }\n",
       "\n",
       "    .dataframe tbody tr th {\n",
       "        vertical-align: top;\n",
       "    }\n",
       "\n",
       "    .dataframe thead th {\n",
       "        text-align: right;\n",
       "    }\n",
       "</style>\n",
       "<table border=\"1\" class=\"dataframe\">\n",
       "  <thead>\n",
       "    <tr style=\"text-align: right;\">\n",
       "      <th></th>\n",
       "      <th>Variable</th>\n",
       "      <th>Coefficient</th>\n",
       "      <th>P-Value</th>\n",
       "      <th>AIC</th>\n",
       "      <th>BIC</th>\n",
       "    </tr>\n",
       "  </thead>\n",
       "  <tbody>\n",
       "    <tr>\n",
       "      <th>0</th>\n",
       "      <td>population</td>\n",
       "      <td>0.000005</td>\n",
       "      <td>7.914043e-07</td>\n",
       "      <td>1633.058200</td>\n",
       "      <td>1648.228343</td>\n",
       "    </tr>\n",
       "    <tr>\n",
       "      <th>1</th>\n",
       "      <td>redCounty</td>\n",
       "      <td>-2.241665</td>\n",
       "      <td>1.495721e-19</td>\n",
       "      <td>1948.025817</td>\n",
       "      <td>1963.195959</td>\n",
       "    </tr>\n",
       "    <tr>\n",
       "      <th>2</th>\n",
       "      <td>redState</td>\n",
       "      <td>-0.692852</td>\n",
       "      <td>5.979156e-06</td>\n",
       "      <td>2068.451332</td>\n",
       "      <td>2083.621475</td>\n",
       "    </tr>\n",
       "    <tr>\n",
       "      <th>3</th>\n",
       "      <td>unemploymentRate</td>\n",
       "      <td>-19.445843</td>\n",
       "      <td>2.839589e-03</td>\n",
       "      <td>2082.614319</td>\n",
       "      <td>2097.784461</td>\n",
       "    </tr>\n",
       "    <tr>\n",
       "      <th>4</th>\n",
       "      <td>povertyProp</td>\n",
       "      <td>-1.460479</td>\n",
       "      <td>2.475538e-01</td>\n",
       "      <td>2089.316769</td>\n",
       "      <td>2104.486912</td>\n",
       "    </tr>\n",
       "    <tr>\n",
       "      <th>5</th>\n",
       "      <td>tempDiff</td>\n",
       "      <td>-0.136376</td>\n",
       "      <td>3.557506e-02</td>\n",
       "      <td>2086.179931</td>\n",
       "      <td>2101.350074</td>\n",
       "    </tr>\n",
       "    <tr>\n",
       "      <th>6</th>\n",
       "      <td>numDisasters</td>\n",
       "      <td>0.002648</td>\n",
       "      <td>1.908950e-03</td>\n",
       "      <td>2080.883574</td>\n",
       "      <td>2096.053717</td>\n",
       "    </tr>\n",
       "    <tr>\n",
       "      <th>7</th>\n",
       "      <td>avgEmissionsPerCapita</td>\n",
       "      <td>-0.081271</td>\n",
       "      <td>2.026106e-06</td>\n",
       "      <td>2046.253409</td>\n",
       "      <td>2061.423552</td>\n",
       "    </tr>\n",
       "    <tr>\n",
       "      <th>8</th>\n",
       "      <td>lessThanHighSchoolProp</td>\n",
       "      <td>-4.100230</td>\n",
       "      <td>7.179528e-03</td>\n",
       "      <td>2083.070827</td>\n",
       "      <td>2098.240970</td>\n",
       "    </tr>\n",
       "    <tr>\n",
       "      <th>9</th>\n",
       "      <td>medianHouseholdIncome</td>\n",
       "      <td>0.000017</td>\n",
       "      <td>3.400496e-11</td>\n",
       "      <td>2063.615413</td>\n",
       "      <td>2078.785556</td>\n",
       "    </tr>\n",
       "  </tbody>\n",
       "</table>\n",
       "</div>"
      ],
      "text/plain": [
       "                 Variable  Coefficient       P-Value          AIC          BIC\n",
       "0              population     0.000005  7.914043e-07  1633.058200  1648.228343\n",
       "1               redCounty    -2.241665  1.495721e-19  1948.025817  1963.195959\n",
       "2                redState    -0.692852  5.979156e-06  2068.451332  2083.621475\n",
       "3        unemploymentRate   -19.445843  2.839589e-03  2082.614319  2097.784461\n",
       "4             povertyProp    -1.460479  2.475538e-01  2089.316769  2104.486912\n",
       "5                tempDiff    -0.136376  3.557506e-02  2086.179931  2101.350074\n",
       "6            numDisasters     0.002648  1.908950e-03  2080.883574  2096.053717\n",
       "7   avgEmissionsPerCapita    -0.081271  2.026106e-06  2046.253409  2061.423552\n",
       "8  lessThanHighSchoolProp    -4.100230  7.179528e-03  2083.070827  2098.240970\n",
       "9   medianHouseholdIncome     0.000017  3.400496e-11  2063.615413  2078.785556"
      ]
     },
     "execution_count": 63,
     "metadata": {},
     "output_type": "execute_result"
    }
   ],
   "source": [
    "# All variables on their own versus UNFCCC\n",
    "df = pd.DataFrame(columns = ['Variable','Coefficient','P-Value','AIC','BIC'])\n",
    "vars = ['population','redCounty','redState','unemploymentRate','povertyProp','tempDiff','numDisasters','avgEmissionsPerCapita','lessThanHighSchoolProp','medianHouseholdIncome']\n",
    "for i in range(len(vars)):\n",
    "    lr = FitLogistic(df_all, y_var = 'UNFCCC', X_vars = [vars[i]], format = 'model')\n",
    "    df = pd.concat([df, pd.DataFrame([[vars[i], lr.params.iloc[1], lr.pvalues.iloc[1], lr.aic, lr.bic]], columns =  ['Variable','Coefficient','P-Value','AIC','BIC']).dropna(axis = 1)], ignore_index=True)    \n",
    "df"
   ]
  },
  {
   "cell_type": "code",
   "execution_count": 67,
   "metadata": {},
   "outputs": [
    {
     "name": "stdout",
     "output_type": "stream",
     "text": [
      "                           Logit Regression Results                           \n",
      "==============================================================================\n",
      "Dep. Variable:                 UNFCCC   No. Observations:                14546\n",
      "Model:                          Logit   Df Residuals:                    14535\n",
      "Method:                           MLE   Df Model:                           10\n",
      "Date:                Mon, 15 Apr 2024   Pseudo R-squ.:                  0.2865\n",
      "Time:                        13:16:24   Log-Likelihood:                -744.24\n",
      "converged:                       True   LL-Null:                       -1043.1\n",
      "Covariance Type:                  HC3   LLR p-value:                5.273e-122\n",
      "==========================================================================================\n",
      "                             coef    std err          z      P>|z|      [0.025      0.975]\n",
      "------------------------------------------------------------------------------------------\n",
      "const                     -2.2981      1.065     -2.157      0.031      -4.386      -0.210\n",
      "population              5.141e-06   1.11e-06      4.612      0.000    2.96e-06    7.33e-06\n",
      "redCounty                 -1.6347      0.265     -6.165      0.000      -2.154      -1.115\n",
      "redState                  -0.5035      0.313     -1.609      0.108      -1.117       0.110\n",
      "unemploymentRate         -37.6075     13.662     -2.753      0.006     -64.385     -10.830\n",
      "povertyProp                7.0573      3.276      2.154      0.031       0.636      13.478\n",
      "tempDiff                   0.0375      0.116      0.323      0.746      -0.190       0.265\n",
      "numDisasters               0.0040      0.001      3.446      0.001       0.002       0.006\n",
      "avgEmissionsPerCapita     -0.0395      0.023     -1.689      0.091      -0.085       0.006\n",
      "lessThanHighSchoolProp   -11.4064      3.133     -3.641      0.000     -17.546      -5.266\n",
      "medianHouseholdIncome  -1.358e-08   6.56e-06     -0.002      0.998   -1.29e-05    1.28e-05\n",
      "==========================================================================================\n"
     ]
    }
   ],
   "source": [
    "# All variables versus UNFCCC\n",
    "FitLogistic(df_all, y_var = 'UNFCCC', X_vars = ['population','redCounty','redState','unemploymentRate','povertyProp','tempDiff','numDisasters','avgEmissionsPerCapita','lessThanHighSchoolProp','medianHouseholdIncome'], format = 'print')"
   ]
  },
  {
   "cell_type": "code",
   "execution_count": 77,
   "metadata": {},
   "outputs": [
    {
     "name": "stdout",
     "output_type": "stream",
     "text": [
      "                           Logit Regression Results                           \n",
      "==============================================================================\n",
      "Dep. Variable:                 UNFCCC   No. Observations:                14546\n",
      "Model:                          Logit   Df Residuals:                    14537\n",
      "Method:                           MLE   Df Model:                            8\n",
      "Date:                Mon, 15 Apr 2024   Pseudo R-squ.:                  0.2865\n",
      "Time:                        13:32:26   Log-Likelihood:                -744.29\n",
      "converged:                       True   LL-Null:                       -1043.1\n",
      "Covariance Type:                  HC3   LLR p-value:                7.418e-124\n",
      "==========================================================================================\n",
      "                             coef    std err          z      P>|z|      [0.025      0.975]\n",
      "------------------------------------------------------------------------------------------\n",
      "const                     -2.3051      0.473     -4.871      0.000      -3.233      -1.378\n",
      "population              5.142e-06   1.12e-06      4.595      0.000    2.95e-06    7.34e-06\n",
      "redCounty                 -1.6365      0.259     -6.329      0.000      -2.143      -1.130\n",
      "lessThanHighSchoolProp   -11.2483      3.114     -3.612      0.000     -17.352      -5.144\n",
      "avgEmissionsPerCapita     -0.0415      0.023     -1.825      0.068      -0.086       0.003\n",
      "numDisasters               0.0038      0.001      3.593      0.000       0.002       0.006\n",
      "unemploymentRate         -37.7795     13.251     -2.851      0.004     -63.750     -11.809\n",
      "povertyProp                7.1326      2.506      2.847      0.004       2.222      12.044\n",
      "redState                  -0.4483      0.261     -1.717      0.086      -0.960       0.063\n",
      "==========================================================================================\n"
     ]
    }
   ],
   "source": [
    "# Forward Selection\n",
    "best_model = None\n",
    "best_aic = float('inf')\n",
    "vars_to_check = ['population','redCounty','redState','unemploymentRate','povertyProp','tempDiff','numDisasters','avgEmissionsPerCapita','lessThanHighSchoolProp','medianHouseholdIncome']\n",
    "vars_selected = []\n",
    "\n",
    "while vars_to_check:\n",
    "    potential_vars = []\n",
    "    for var in vars_to_check:\n",
    "        vars_current = vars_selected + [var]\n",
    "        model = FitLogistic(df_all, y_var = 'UNFCCC', X_vars = vars_current, format = 'model')\n",
    "        aic = model.aic\n",
    "        if aic < best_aic:\n",
    "            best_aic = aic\n",
    "            best_model = model\n",
    "            potential_vars = vars_current\n",
    "    \n",
    "    if not potential_vars:\n",
    "        break\n",
    "\n",
    "    var_selected = potential_vars[-1]\n",
    "    vars_selected.append(var_selected)\n",
    "    vars_to_check.remove(var_selected)\n",
    "\n",
    "print(best_model.summary())\n"
   ]
  },
  {
   "cell_type": "markdown",
   "metadata": {},
   "source": [
    "##### b) Random Forest Classification"
   ]
  },
  {
   "cell_type": "code",
   "execution_count": 6,
   "metadata": {},
   "outputs": [
    {
     "data": {
      "text/html": [
       "<div>\n",
       "<style scoped>\n",
       "    .dataframe tbody tr th:only-of-type {\n",
       "        vertical-align: middle;\n",
       "    }\n",
       "\n",
       "    .dataframe tbody tr th {\n",
       "        vertical-align: top;\n",
       "    }\n",
       "\n",
       "    .dataframe thead th {\n",
       "        text-align: right;\n",
       "    }\n",
       "</style>\n",
       "<table border=\"1\" class=\"dataframe\">\n",
       "  <thead>\n",
       "    <tr style=\"text-align: right;\">\n",
       "      <th></th>\n",
       "      <th>Feature</th>\n",
       "      <th>Importance</th>\n",
       "    </tr>\n",
       "  </thead>\n",
       "  <tbody>\n",
       "    <tr>\n",
       "      <th>0</th>\n",
       "      <td>population</td>\n",
       "      <td>0.626577</td>\n",
       "    </tr>\n",
       "    <tr>\n",
       "      <th>8</th>\n",
       "      <td>lessThanHighSchoolProp</td>\n",
       "      <td>0.077023</td>\n",
       "    </tr>\n",
       "    <tr>\n",
       "      <th>9</th>\n",
       "      <td>medianHouseholdIncome</td>\n",
       "      <td>0.072769</td>\n",
       "    </tr>\n",
       "    <tr>\n",
       "      <th>4</th>\n",
       "      <td>povertyProp</td>\n",
       "      <td>0.064666</td>\n",
       "    </tr>\n",
       "    <tr>\n",
       "      <th>3</th>\n",
       "      <td>unemploymentRate</td>\n",
       "      <td>0.053076</td>\n",
       "    </tr>\n",
       "    <tr>\n",
       "      <th>7</th>\n",
       "      <td>avgEmissionsPerCapita</td>\n",
       "      <td>0.033541</td>\n",
       "    </tr>\n",
       "    <tr>\n",
       "      <th>5</th>\n",
       "      <td>tempDiff</td>\n",
       "      <td>0.029442</td>\n",
       "    </tr>\n",
       "    <tr>\n",
       "      <th>6</th>\n",
       "      <td>numDisasters</td>\n",
       "      <td>0.028116</td>\n",
       "    </tr>\n",
       "    <tr>\n",
       "      <th>1</th>\n",
       "      <td>redCounty</td>\n",
       "      <td>0.009978</td>\n",
       "    </tr>\n",
       "    <tr>\n",
       "      <th>2</th>\n",
       "      <td>redState</td>\n",
       "      <td>0.004812</td>\n",
       "    </tr>\n",
       "  </tbody>\n",
       "</table>\n",
       "</div>"
      ],
      "text/plain": [
       "                  Feature  Importance\n",
       "0              population    0.626577\n",
       "8  lessThanHighSchoolProp    0.077023\n",
       "9   medianHouseholdIncome    0.072769\n",
       "4             povertyProp    0.064666\n",
       "3        unemploymentRate    0.053076\n",
       "7   avgEmissionsPerCapita    0.033541\n",
       "5                tempDiff    0.029442\n",
       "6            numDisasters    0.028116\n",
       "1               redCounty    0.009978\n",
       "2                redState    0.004812"
      ]
     },
     "execution_count": 6,
     "metadata": {},
     "output_type": "execute_result"
    }
   ],
   "source": [
    "FitRandomForest(df_all, y_var = 'UNFCCC', X_vars = ['population','redCounty','redState','unemploymentRate','povertyProp','tempDiff','numDisasters','avgEmissionsPerCapita','lessThanHighSchoolProp','medianHouseholdIncome'])  "
   ]
  },
  {
   "cell_type": "markdown",
   "metadata": {},
   "source": [
    "### 4. Analysing Determinants of Cities to Undertake Individual Actions Recorded by the UNFCCC"
   ]
  },
  {
   "cell_type": "markdown",
   "metadata": {},
   "source": [
    "#### i) Has Commitments"
   ]
  },
  {
   "cell_type": "markdown",
   "metadata": {},
   "source": [
    "##### a) Logistic Regression"
   ]
  },
  {
   "cell_type": "code",
   "execution_count": 74,
   "metadata": {},
   "outputs": [
    {
     "name": "stdout",
     "output_type": "stream",
     "text": [
      "                           Logit Regression Results                           \n",
      "==============================================================================\n",
      "Dep. Variable:         hasCommitments   No. Observations:                  197\n",
      "Model:                          Logit   Df Residuals:                      187\n",
      "Method:                           MLE   Df Model:                            9\n",
      "Date:                Mon, 15 Apr 2024   Pseudo R-squ.:                  0.1520\n",
      "Time:                        13:30:05   Log-Likelihood:                -98.116\n",
      "converged:                       True   LL-Null:                       -115.70\n",
      "Covariance Type:                  HC3   LLR p-value:                 5.569e-05\n",
      "==========================================================================================\n",
      "                             coef    std err          z      P>|z|      [0.025      0.975]\n",
      "------------------------------------------------------------------------------------------\n",
      "const                     -0.1391      2.187     -0.064      0.949      -4.426       4.148\n",
      "population              1.996e-06   5.72e-07      3.489      0.000    8.74e-07    3.12e-06\n",
      "redCounty                 -0.1289      0.431     -0.299      0.765      -0.974       0.716\n",
      "unemploymentRate           3.5542     25.300      0.140      0.888     -46.033      53.141\n",
      "povertyProp                3.6097      8.302      0.435      0.664     -12.663      19.882\n",
      "tempDiff                   0.0098      0.195      0.050      0.960      -0.372       0.392\n",
      "numDisasters              -0.0022      0.003     -0.850      0.395      -0.007       0.003\n",
      "avgEmissionsPerCapita     -0.0338      0.030     -1.122      0.262      -0.093       0.025\n",
      "lessThanHighSchoolProp   -10.1511      5.962     -1.703      0.089     -21.837       1.534\n",
      "medianHouseholdIncome   2.163e-05   1.79e-05      1.209      0.227   -1.34e-05    5.67e-05\n",
      "==========================================================================================\n"
     ]
    }
   ],
   "source": [
    "FitLogistic(df_unfccc, y_var = 'hasCommitments', X_vars = ['population','redCounty','unemploymentRate','povertyProp','tempDiff','numDisasters','avgEmissionsPerCapita','lessThanHighSchoolProp','medianHouseholdIncome'], format = 'print')"
   ]
  },
  {
   "cell_type": "markdown",
   "metadata": {},
   "source": [
    "##### b) Random Forest Classification"
   ]
  },
  {
   "cell_type": "code",
   "execution_count": 7,
   "metadata": {},
   "outputs": [
    {
     "data": {
      "text/html": [
       "<div>\n",
       "<style scoped>\n",
       "    .dataframe tbody tr th:only-of-type {\n",
       "        vertical-align: middle;\n",
       "    }\n",
       "\n",
       "    .dataframe tbody tr th {\n",
       "        vertical-align: top;\n",
       "    }\n",
       "\n",
       "    .dataframe thead th {\n",
       "        text-align: right;\n",
       "    }\n",
       "</style>\n",
       "<table border=\"1\" class=\"dataframe\">\n",
       "  <thead>\n",
       "    <tr style=\"text-align: right;\">\n",
       "      <th></th>\n",
       "      <th>Feature</th>\n",
       "      <th>Importance</th>\n",
       "    </tr>\n",
       "  </thead>\n",
       "  <tbody>\n",
       "    <tr>\n",
       "      <th>0</th>\n",
       "      <td>population</td>\n",
       "      <td>0.284352</td>\n",
       "    </tr>\n",
       "    <tr>\n",
       "      <th>9</th>\n",
       "      <td>medianHouseholdIncome</td>\n",
       "      <td>0.147056</td>\n",
       "    </tr>\n",
       "    <tr>\n",
       "      <th>8</th>\n",
       "      <td>lessThanHighSchoolProp</td>\n",
       "      <td>0.123839</td>\n",
       "    </tr>\n",
       "    <tr>\n",
       "      <th>4</th>\n",
       "      <td>povertyProp</td>\n",
       "      <td>0.117844</td>\n",
       "    </tr>\n",
       "    <tr>\n",
       "      <th>3</th>\n",
       "      <td>unemploymentRate</td>\n",
       "      <td>0.106948</td>\n",
       "    </tr>\n",
       "    <tr>\n",
       "      <th>7</th>\n",
       "      <td>avgEmissionsPerCapita</td>\n",
       "      <td>0.079041</td>\n",
       "    </tr>\n",
       "    <tr>\n",
       "      <th>5</th>\n",
       "      <td>tempDiff</td>\n",
       "      <td>0.064139</td>\n",
       "    </tr>\n",
       "    <tr>\n",
       "      <th>6</th>\n",
       "      <td>numDisasters</td>\n",
       "      <td>0.057886</td>\n",
       "    </tr>\n",
       "    <tr>\n",
       "      <th>1</th>\n",
       "      <td>redCounty</td>\n",
       "      <td>0.009651</td>\n",
       "    </tr>\n",
       "    <tr>\n",
       "      <th>2</th>\n",
       "      <td>redState</td>\n",
       "      <td>0.009245</td>\n",
       "    </tr>\n",
       "  </tbody>\n",
       "</table>\n",
       "</div>"
      ],
      "text/plain": [
       "                  Feature  Importance\n",
       "0              population    0.284352\n",
       "9   medianHouseholdIncome    0.147056\n",
       "8  lessThanHighSchoolProp    0.123839\n",
       "4             povertyProp    0.117844\n",
       "3        unemploymentRate    0.106948\n",
       "7   avgEmissionsPerCapita    0.079041\n",
       "5                tempDiff    0.064139\n",
       "6            numDisasters    0.057886\n",
       "1               redCounty    0.009651\n",
       "2                redState    0.009245"
      ]
     },
     "execution_count": 7,
     "metadata": {},
     "output_type": "execute_result"
    }
   ],
   "source": [
    "FitRandomForest(df_unfccc, y_var = 'hasCommitments', X_vars = ['population','redCounty','redState','unemploymentRate','povertyProp','tempDiff','numDisasters','avgEmissionsPerCapita','lessThanHighSchoolProp','medianHouseholdIncome']) # ,'medianAge','whiteProp'"
   ]
  },
  {
   "cell_type": "markdown",
   "metadata": {},
   "source": [
    "#### ii) Has Actions Undertaken"
   ]
  },
  {
   "cell_type": "markdown",
   "metadata": {},
   "source": [
    "#### iii) hasEmissionInventory"
   ]
  },
  {
   "cell_type": "markdown",
   "metadata": {},
   "source": [
    "#### iv) hasInitiativeParticipations\n",
    "#### v) hasImpact\n",
    "#### vi) hasMitigations\n",
    "#### vii) hasAdaptations\n",
    "#### viii) hasRiskAssessments\n",
    "#### ix) hasClimateActionPlans\n",
    "#### x) hasFinanceActions"
   ]
  },
  {
   "cell_type": "code",
   "execution_count": null,
   "metadata": {},
   "outputs": [],
   "source": []
  }
 ],
 "metadata": {
  "kernelspec": {
   "display_name": "Python 3",
   "language": "python",
   "name": "python3"
  },
  "language_info": {
   "codemirror_mode": {
    "name": "ipython",
    "version": 3
   },
   "file_extension": ".py",
   "mimetype": "text/x-python",
   "name": "python",
   "nbconvert_exporter": "python",
   "pygments_lexer": "ipython3",
   "version": "3.12.3"
  }
 },
 "nbformat": 4,
 "nbformat_minor": 2
}
